{
 "cells": [
  {
   "cell_type": "markdown",
   "metadata": {},
   "source": [
    "<img src=\"img/logo.png\" alt=\"logo\" align=\"center\">"
   ]
  },
  {
   "cell_type": "markdown",
   "metadata": {},
   "source": [
    "<br>\n",
    "<br>\n",
    "\n",
    "# **Chapter 8** &nbsp; &nbsp; <span style=\"color:#C13213\">Motion Capture III:</span> &nbsp; <span style=\"color:#5D6D7E\">Describing Human Kinematics</span>\n",
    "\n",
    "<br>\n",
    "\n",
    "This chapter provides an overview of the types of graphics and written text that are used to describe human movement.\n",
    "\n",
    "Walking kinematics from the [CMU Motion Capture Database](https://sites.google.com/a/cgspeed.com/cgspeed/motion-capture/cmu-bvh-conversion) are used throughout the chapter as an example movement task.\n",
    "\n",
    "<br>\n",
    "<br>"
   ]
  },
  {
   "cell_type": "markdown",
   "metadata": {},
   "source": [
    "___\n",
    "\n",
    "<a name=\"toc\"></a>\n",
    "# Table of Contents\n",
    "\n",
    "* [Animations](#animations)\n",
    "* [Still images](#images)\n",
    "* [Stick plots](#stick)\n",
    "* [Time plots](#timeplots)\n",
    "* [Statistical comparisons](#stats)\n",
    "* [Text descriptions](#text)\n",
    "* [Summary](#summary)"
   ]
  },
  {
   "cell_type": "markdown",
   "metadata": {},
   "source": [
    "____\n",
    "\n",
    "<a name=\"animations\"></a>\n",
    "# <span style=\"color:#000000\">Animations</span>\n",
    "[Back to Table of Contents](#toc)\n",
    "<br>\n",
    "<br>\n",
    "\n",
    "* Animations of movement activities\n",
    "* Usually presented as a stick figure or skeleton to remove background details and personal details (e.g. face)\n",
    "* An example walking animation appears in Video 1\n",
    "* **Advantages**:\n",
    "    * Animations provide a powerful, qualitative overview of the movement\n",
    "    * Very useful when describing unfamiliar movements (e.g., a specific sports technique or a specific movement disorder)\n",
    "    * When accompanied by other, quantiative results (like figures and statistics), animations provide a complete sense of movements and movement changes\n",
    "    * Sometimes animations are the only way to debug problematic kinematic data (e.g. when reflective markers become invisible)\n",
    "* **Disadvantages**:\n",
    "    * Usually animations represent one measurement;  scientific comparisons require many measurements\n",
    "    * Occasionally unable to perceive movement subtleties, especially rapid changes\n",
    "    * Unable to present animations in scientific papers;  (however, this is changing with alternative electronic media, like Jupyter!)\n",
    "    * Animations can require large files\n",
    "    * Time consuming to produce\n"
   ]
  },
  {
   "cell_type": "code",
   "execution_count": 12,
   "metadata": {},
   "outputs": [
    {
     "data": {
      "text/html": [
       "\n",
       "<center>\n",
       "<video width=\"600\" controls>\n",
       "  <source src=\"video/walking.avi\" type=\"video/avi\">\n",
       "</video>\n",
       "<br>\n",
       "<em><b>Video 1</b>. &nbsp; Example walking animation. Data from <a href=\"https://sites.google.com/a/cgspeed.com/cgspeed/motion-capture/cmu-bvh-conversion\">CMU Motion Capture Database</a></em>\n",
       "</center>\n"
      ],
      "text/plain": [
       "<IPython.core.display.HTML object>"
      ]
     },
     "execution_count": 12,
     "metadata": {},
     "output_type": "execute_result"
    }
   ],
   "source": [
    "from IPython.display import HTML\n",
    "\n",
    "HTML(\"\"\"\n",
    "<center>\n",
    "<video width=\"600\" controls>\n",
    "  <source src=\"video/walking.avi\" type=\"video/avi\">\n",
    "</video>\n",
    "<br>\n",
    "<em><b>Video 1</b>. &nbsp; Example walking animation. Data from <a href=\"https://sites.google.com/a/cgspeed.com/cgspeed/motion-capture/cmu-bvh-conversion\">CMU Motion Capture Database</a></em>\n",
    "</center>\n",
    "\"\"\")"
   ]
  },
  {
   "cell_type": "markdown",
   "metadata": {},
   "source": [
    "____\n",
    "\n",
    "<a name=\"images\"></a>\n",
    "# <span style=\"color:#000000\">Still images</span>\n",
    "[Back to Table of Contents](#toc)\n",
    "<br>\n",
    "<br>\n",
    "\n",
    "* Still images are single animation frames\n",
    "* Often still frames are presented in anatomical planes (sagittal, frontal, or transverse)\n",
    "* A few example still frames appear below\n",
    "* Still images share many advantages and disadvantages with animations (see above);  unique advantages and disadvantages are highlighted with a <span style=\"background-color:powderblue;\">blue background</span> below.\n",
    "* **Advantages**:\n",
    "    * Good qualitative overview of the movement\n",
    "    * <span style=\"background-color:powderblue;\">Able to present still images in scientific papers</span>\n",
    "    * Very useful when describing unfamiliar movements (e.g., a specific sports technique or a specific movement disorder)\n",
    "* **Disadvantages**:\n",
    "    * Usually still images represent one measurement;  scientific comparisons require many measurements\n",
    "    * Occasionally unable to perceive movement subtleties, especially rapid changes\n",
    "    * <span style=\"background-color:powderblue;\">Can require substantial space (on a slide, page, etc.)</span>\n",
    "    * <span style=\"background-color:powderblue;\">If shown in just one anatomical plane, can provide incomplete kinematic information.</span>\n"
   ]
  },
  {
   "cell_type": "markdown",
   "metadata": {},
   "source": [
    "<center>\n",
    "    <img src=\"img/stills.jpg\" alt=\"image\" width=\"300\"/>\n",
    "    <br>\n",
    "    <em><b>Figure 1</b>. &nbsp; Example still images of walking kinematics. Data from <a href=\"https://sites.google.com/a/cgspeed.com/cgspeed/motion-capture/cmu-bvh-conversion\">CMU Motion Capture Database</a></em>\n",
    "</center>"
   ]
  },
  {
   "cell_type": "markdown",
   "metadata": {},
   "source": [
    "____\n",
    "\n",
    "<a name=\"stick\"></a>\n",
    "# <span style=\"color:#000000\">Stick plots</span>\n",
    "[Back to Table of Contents](#toc)\n",
    "<br>\n",
    "<br>\n",
    "\n",
    "* Stick plots aim to summarize animations in a single image\n",
    "* An example stick plot is shown below in Fig.2\n",
    "* Often contraleteral limbs (i.e., left and right limbs) are presented differently (e.g. different colors) for better movement perception.\n",
    "\n",
    "* **Advantages**:\n",
    "    * Compact, qualitatively rich summary of a motion sequence\n",
    "    * Show progression (i.e., whole body movement)\n",
    "* **Disadvantages**:\n",
    "    * Incomplete information (segment subset, frame subset).\n",
    "    * Can be difficult to interpret, especially if there are too many or too few frames presented\n",
    "    * Usually just a single anatomical plane."
   ]
  },
  {
   "cell_type": "markdown",
   "metadata": {},
   "source": [
    "<center>\n",
    "    <img src=\"img/stick.jpg\" alt=\"image\" width=\"300\"/>\n",
    "    <br>\n",
    "    <em><b>Figure 2</b>. &nbsp; Example stick plot of lower limb walking kinematics. <br>The right and left legs are presented in black and gray, respectively. <br>Data from <a href=\"https://sites.google.com/a/cgspeed.com/cgspeed/motion-capture/cmu-bvh-conversion\">CMU Motion Capture Database</a></em>\n",
    "</center>"
   ]
  },
  {
   "cell_type": "markdown",
   "metadata": {},
   "source": [
    "____\n",
    "\n",
    "<a name=\"timeplots\"></a>\n",
    "# <span style=\"color:#000000\">Time plots</span>\n",
    "[Back to Table of Contents](#toc)\n",
    "<br>\n",
    "<br>\n",
    "\n",
    "* Time plots of human kinematics usually consist of joint angles (vertical axis) and time (horizontal axis)\n",
    "* Example time plots appear in Figs.3-5 below.\n",
    "* Time units are usually seconds (Fig.3) or movement time percent (Fig.5), but occasionally time is presented in frames (Fig.4).\n",
    "    * ⚠️ **ALWAYS** use seconds or % for time unless you have a very good reason for using frames;  using seconds and % makes it much easier to compare data across studies\n",
    "* Time plots are the most common type of visual description of kinematics in scientific papers.\n",
    "* **Advantages**:\n",
    "    * Quantitatively rich summary of a motion sequence\n",
    "    * Usually the only way to detect rapid and/or subtle events like impacts or minor temporal changes\n",
    "    * Can be difficult to understand without animation, unless you are already familiar with this type of time plot data.\n",
    "    * Maximum and minimum values (e.g. max and min flexion angles) can be relatively easily perceived across cycles\n",
    "* **Disadvantages**:\n",
    "    * Can be difficult to interpret without animation \n",
    "    * Multiple movements are difficult to compare qualitatively unless they are overlayed (Fig.5).\n",
    "    * Usually spatially incomplete, especially when presenting data for just one anatomatical plane."
   ]
  },
  {
   "cell_type": "markdown",
   "metadata": {},
   "source": [
    "<center>\n",
    "    <img src=\"img/fig_sagittal.jpg\" alt=\"image\" width=\"500\"/>\n",
    "    <br>\n",
    "    <em><b>Figure 3</b>. &nbsp; Example time plot of left hip and knee sagittal plane kinematics during walking, corresponding to Video 1 (above). <br>These are unsmoothed, raw data from <a href=\"https://sites.google.com/a/cgspeed.com/cgspeed/motion-capture/cmu-bvh-conversion\">CMU Motion Capture Database</a></em>\n",
    "</center>"
   ]
  },
  {
   "cell_type": "markdown",
   "metadata": {},
   "source": [
    "<center>\n",
    "    <img src=\"img/fig_sagittal_frames.jpg\" alt=\"image\" width=\"500\"/>\n",
    "    <br>\n",
    "    <em><b>Figure 4</b>. &nbsp; Same as Fig.3, but with time unit: frames. These data were recorded at 120 Hz (120 frames per second). <br><span style=\"color:red\">Do NOT use frames as the time unit.</span> </em>\n",
    "</center>"
   ]
  },
  {
   "cell_type": "markdown",
   "metadata": {},
   "source": [
    "<center>\n",
    "    <img src=\"img/fig_sagittal_overlay.jpg\" alt=\"image\" width=\"500\"/>\n",
    "    <br>\n",
    "    <em><b>Figure 5</b>. &nbsp; Same as Fig.3 , but with overlayed cycles.</a></em>\n",
    "</center>"
   ]
  },
  {
   "cell_type": "markdown",
   "metadata": {},
   "source": [
    "____\n",
    "\n",
    "<a name=\"stats\"></a>\n",
    "# <span style=\"color:#000000\">Statistical comparisons</span>\n",
    "[Back to Table of Contents](#toc)\n",
    "<br>\n",
    "<br>\n",
    "\n",
    "* In scientific studies of human kinematics, multiple measurements of movements and/or movement cycles must be made, like in Fig.5 above.\n",
    "    * These multiple measurements are usually made on both one individual (person), and across individuals\n",
    "    * Kinematic variation (like the variation depicted in Fig.5) exists in all movements, even when performed by elite athletes and musicians\n",
    "    * Low kinematic variation can actually be a sign of movement disorder!\n",
    "* When multiple cycles of a movement are measured, they are often summarized using summary statistics, especially: mean lines and standard deviation (SD) clouds (Fig.6)\n",
    "    * Differences between means indicates a group trend (e.g. maximum ankle plnatar flexion is slighly smaller in the perturbed group in Fig.6)\n",
    "    * Statistical results that are presented in scientific papers consider not only these summary statistics (mean + SD), but also consider how the magnitude of group trends (e.g. mean differences) relates to the variance (e.g. SD cloud)\n",
    "* When considering the similarities and differences between Fig.5 and Fig.6:\n",
    "    * Note that the knee kinematics in Fig.6 are similar to those in Fig.5\n",
    "    * Note that the hip kinematics in Fig.6 are also similar to those in Fig.5, but that the sign is reversed;  this is because Fig.5 shows sagittal plane angles, and Fig.6 shows flexion angles.\n",
    "    * ⚠️ **ALWAYS** use flexion and/or other anatomical angles (like Fig.6) and **NOT** planar angles (like Figs.3-5)\n",
    "\n",
    "<br>\n",
    "<br>\n",
    "<br>"
   ]
  },
  {
   "cell_type": "markdown",
   "metadata": {},
   "source": [
    "<center>\n",
    "    <img src=\"img/fig-5-full.png\" alt=\"image\" width=\"600\"/>\n",
    "    <br>\n",
    "    <em><b>Figure 6</b>. &nbsp; Example summary statistics from Moore et al. (2015). Figure presented as original under the Creative Commons Attribution License.  </a></em>\n",
    "</center>\n",
    "\n",
    "\n",
    "<br>\n",
    "<br>\n",
    "\n",
    "**Reference**\n",
    "\n",
    "Moore, J. K., Hnat, S. K., & van den Bogert, A. J. (2015). An elaborate data set on human gait and the effect of mechanical perturbations. PeerJ, 3, e918.\n",
    "https://peerj.com/articles/918/\n",
    "DOI:  10.7717/peerj.918\n"
   ]
  },
  {
   "cell_type": "markdown",
   "metadata": {},
   "source": [
    "____\n",
    "\n",
    "<a name=\"text\"></a>\n",
    "# <span style=\"color:#000000\">Text descriptions</span>\n",
    "[Back to Table of Contents](#toc)\n",
    "<br>\n",
    "<br>\n",
    "\n",
    "* In addition to graphical descriptions, text descriptions of kinematics must be included in all scientific descriptions of kinematics\n",
    "* Text descriptions should describe the main features of animations / figures / graphs\n",
    "* A *minimal* text description for Fig.6 appears below;  note that this description pertains only to the kinematics --- on the left of Fig.6 --- and not the torques:\n",
    "\n",
    "> As depicted in Fig.6, perturbations produced only subtle changes in mean sagittal plane kinematics; the only notable exception was that maximum ankle plantar flexion was slightly reduced in perturbed vs. unperturbed movements.  Nevertheless, there were substantial variance differences, with much larger standard deviations for most of the cycle in perturbed gait, for all three joints: hip, knee and ankle."
   ]
  },
  {
   "cell_type": "markdown",
   "metadata": {},
   "source": [
    "____\n",
    "\n",
    "<a name=\"summary\"></a>\n",
    "# <span style=\"color:#000000\">Summary</span>\n",
    "[Back to Table of Contents](#toc)\n",
    "<br>\n",
    "<br>\n",
    "\n",
    "* Human kinematics are complex, and there are many different ways of presenting and describing human kinematics.\n",
    "* Statistical comparisons are the most common graphical descriptions in scientific papers, but these are often accompanied by other graphical descriptions to augment the statistical results\n",
    "* Each type of graphical description has advantages and disadvantages, and there is no single way of presenting kinematics data that is ideal in all cases.\n",
    "* All graphical descriptions **must**  be accompanied by text descriptions, which highlight the main points in the graphs / animations"
   ]
  }
 ],
 "metadata": {
  "kernelspec": {
   "display_name": "Python 3",
   "language": "python",
   "name": "python3"
  },
  "language_info": {
   "codemirror_mode": {
    "name": "ipython",
    "version": 3
   },
   "file_extension": ".py",
   "mimetype": "text/x-python",
   "name": "python",
   "nbconvert_exporter": "python",
   "pygments_lexer": "ipython3",
   "version": "3.6.10"
  }
 },
 "nbformat": 4,
 "nbformat_minor": 4
}
