{
 "cells": [
  {
   "cell_type": "markdown",
   "metadata": {},
   "source": [
    "<img src=\"img/logo.png\" alt=\"logo\" align=\"center\">"
   ]
  },
  {
   "cell_type": "markdown",
   "metadata": {},
   "source": [
    "<br>\n",
    "<br>\n",
    "\n",
    "# **Chapter 4** &nbsp; &nbsp; <span style=\"color:#C13213\">Kinematics II:</span> &nbsp; <span style=\"color:#5D6D7E\">Linear & Angular 2D Motion</span>\n",
    "\n",
    "<br>\n",
    "<br>"
   ]
  },
  {
   "cell_type": "markdown",
   "metadata": {},
   "source": [
    "___\n",
    "\n",
    "<a name=\"toc\"></a>\n",
    "# Table of Contents\n",
    "\n",
    "* [Anatomical planes and axes](#planes)\n",
    "* [Anatomical directions](#directions)\n",
    "* [Movements](#movements)\n",
    "* [Summary](#summary)\n",
    "\n"
   ]
  },
  {
   "cell_type": "markdown",
   "metadata": {},
   "source": [
    "____\n",
    "\n",
    "<a name=\"planes\"></a>\n",
    "# <span style=\"color:#000000\">Anatomical planes and axes</span>\n",
    "[Back to Table of Contents](#toc)\n",
    "<br>\n",
    "<br>\n",
    "\n",
    "Three main anatomical planes and three main anatomical axes (Fig.2.1) are used to describe anatomical locations and movements:\n",
    "\n",
    "* Planes: sagittal, frontal and transverse\n",
    "* Axes: mediolateral, anteroposterior and longitudinal"
   ]
  },
  {
   "cell_type": "markdown",
   "metadata": {},
   "source": [
    "<center>\n",
    "    <img src=\"img/planes+axes.png\" alt=\"planes+axes\" width=500>\n",
    "    <br>\n",
    "    <em>Figure 2.1. Anatomical planes (UPPER CASE) and axes (lower case) for the whole body. The body is depicted in <b>anatomical position</b>.</em>\n",
    "</center>\n",
    "\n",
    "\n",
    "\n",
    "<br>\n",
    "<br>\n",
    "<br>"
   ]
  },
  {
   "cell_type": "markdown",
   "metadata": {},
   "source": [
    "The **sagittal** plane generally separates a body into left and right halves. It is the plane in which most large body motions occur (e.g. walking, running, cycling, two-foot jumping, etc.)\n",
    "\n",
    "The **frontal** plane generally separates a body into front (anterior) and back (posterior) halves. Large body motions occasionally occur in this plane (e.g. jumping jacks, gymnastics, etc.)\n",
    "\n",
    "The **transverse** plane generally separates a body into top and bottom halves. Large body motions occassionally occur in this plane, especially in sports (e.g. golf, baseball, etc.)\n",
    "\n",
    "<br>\n",
    "<br>"
   ]
  },
  {
   "cell_type": "markdown",
   "metadata": {},
   "source": [
    "**Mediolateral** axes are perpendicular to sagittal planes.\n",
    "\n",
    "**Anterioposterior** axes are perpendicular to frontal planes.\n",
    "\n",
    "**Longitudinal** axes are perpendicular to transverse planes.\n",
    "\n",
    "<br>\n",
    "<br>"
   ]
  },
  {
   "cell_type": "markdown",
   "metadata": {},
   "source": [
    "Planes and axes are defined for each isolated body or segment.\n",
    "\n",
    "In Fig.2.1 (above), anatomical planes and axes are depcited for the whole body.\n",
    "\n",
    "In Fig.2.2 (below), anatomical planes and axes are depicted for two separate segments/bones: (1) femur and (2) tibia. As shown, the **planes and axes move with the segment** as the segment moves.\n"
   ]
  },
  {
   "cell_type": "markdown",
   "metadata": {},
   "source": [
    "<center>\n",
    "    <img src=\"img/planes+axes_local.png\" alt=\"planes+axes_local\" width=500>\n",
    "    <br>\n",
    "    <em>Figure 2.2. Anatomical planes and axes for individual segments.</b>.</em>\n",
    "</center>\n",
    "\n",
    "\n",
    "\n",
    "<br>\n",
    "<br>\n",
    "<br>"
   ]
  },
  {
   "cell_type": "markdown",
   "metadata": {},
   "source": [
    "____\n",
    "\n",
    "<a name=\"directions\"></a>\n",
    "# <span style=\"color:#000000\">Anatomical directions</span>\n",
    "[Back to Table of Contents](#toc)\n",
    "<br>\n",
    "<br>\n",
    "\n",
    "\n"
   ]
  },
  {
   "cell_type": "markdown",
   "metadata": {},
   "source": [
    "As depicted in Fig.2.3, there are three pairs of terms used to describe direction and/or relative position along anatomical axes.\n",
    "\n",
    "The three pairs of terms are:\n",
    "\n",
    "* Anteroposterior axis:\n",
    "    * Anterior --- toward the front of the body\n",
    "    * Posterior --- toward the back of the body\n",
    "* Mediolateal axis:\n",
    "    * Medial --- toward the midline of the body\n",
    "    * Lateral --- away from the midline of the body\n",
    "* Longitudinal axis:\n",
    "    * Suprior --- toward the top of the body\n",
    "    * Inferior --- toward the bottom of the body\n",
    "\n",
    "<br>\n",
    "⚠️ Note that \"front\", \"back\", \"top\" and \"bottom\" are all relative to <b>anatomical position</b> (Fig.2.1).\n",
    "\n",
    "<br>\n",
    "<br>\n",
    "<br>\n",
    "\n"
   ]
  },
  {
   "cell_type": "markdown",
   "metadata": {},
   "source": [
    "<center>\n",
    "    <img src=\"img/directions.png\" alt=\"planes+axes_local\" width=700>\n",
    "    <br>\n",
    "    <em>Figure 2.3. Anatomical directions.</b>.</em>\n",
    "</center>\n",
    "\n",
    "\n",
    "\n",
    "<br>\n",
    "<br>\n",
    "<br>"
   ]
  },
  {
   "cell_type": "markdown",
   "metadata": {},
   "source": [
    "<br>\n",
    "<br>\n",
    "<br>\n",
    "\n",
    "⚠️ Also note that, like the anatomical planes and axes, anatomical directions move with segments (Fig.2.4). In other words, directions are expressed with respect to <b>anatomical position</b>, and not with respect to the observer.\n",
    "\n",
    "<br>\n",
    "<br>\n",
    "<br>"
   ]
  },
  {
   "cell_type": "markdown",
   "metadata": {},
   "source": [
    "<center>\n",
    "    <img src=\"img/directions_local.png\" alt=\"directions_local\" width=700>\n",
    "    <br>\n",
    "    <em>Figure 2.4. Anatomical directions are relative to <b>anatomical position</b> (Fig.2.1), so they move with segments.</b>.</em>\n",
    "</center>\n",
    "\n",
    "\n",
    "\n",
    "<br>\n",
    "<br>\n",
    "<br>"
   ]
  },
  {
   "cell_type": "markdown",
   "metadata": {},
   "source": [
    "____\n",
    "\n",
    "<a name=\"movements\"></a>\n",
    "# <span style=\"color:#000000\">Movements</span>\n",
    "[Back to Table of Contents](#toc)\n",
    "<br>\n",
    "<br>\n",
    "\n",
    "\n",
    "The main anatomical terms for joint motion are:\n",
    "\n",
    "* Sagittal plane:\n",
    "    * Flexion --- rotating a joint so that the angle between adjacent segments is **reduced**\n",
    "    * Extension --- rotating a joint so that the angle between adjacent segments is **increased**\n",
    "* Frontal plane:\n",
    "    * Abduction --- rotating a joint so that the segment moves predominantly in the **lateral** direction\n",
    "    * Adduction --- rotating a joint so that the segment moves predominantly in the **medial** direction\n",
    "* Transverse plane:\n",
    "    * Internal rotation --- rotating a joint so that the **lateral** and medial sides of the segment move in the **medial** and lateral directions, respectively \n",
    "    * External rotation --- rotating a joint so that the **lateral** and medial sides of the segment move in the **lateral** and medial directions, respectively \n",
    "\n",
    "<br>\n",
    "<br>\n",
    "<br>"
   ]
  },
  {
   "cell_type": "markdown",
   "metadata": {},
   "source": [
    "\n",
    "It can be difficult to understand written definitions of these movements, so let's instad consider them using videos.\n",
    "\n",
    "This video depicts elbow flexion and extension.\n",
    "\n",
    "<br>"
   ]
  },
  {
   "cell_type": "code",
   "execution_count": 9,
   "metadata": {
    "tags": [
     "remove_cell"
    ]
   },
   "outputs": [
    {
     "data": {
      "text/html": [
       "\n",
       "<video width=\"600\" controls loop autoplay>\n",
       "  <source src=\"video/Flexion-Elbow.mp4\" type=\"video/mp4\">\n",
       "</video>\n"
      ],
      "text/plain": [
       "<IPython.core.display.HTML object>"
      ]
     },
     "execution_count": 9,
     "metadata": {},
     "output_type": "execute_result"
    }
   ],
   "source": [
    "from IPython.display import HTML\n",
    "\n",
    "HTML(\"\"\"\n",
    "<video width=\"600\" controls loop autoplay>\n",
    "  <source src=\"video/Flexion-Elbow.mp4\" type=\"video/mp4\">\n",
    "</video>\n",
    "\"\"\")"
   ]
  },
  {
   "cell_type": "markdown",
   "metadata": {},
   "source": [
    "<br>\n",
    "<br>\n",
    "<br>\n",
    "\n",
    "The next video depicts knee flexion and extension.\n",
    "\n",
    "<br>\n"
   ]
  },
  {
   "cell_type": "code",
   "execution_count": 10,
   "metadata": {},
   "outputs": [
    {
     "data": {
      "text/html": [
       "\n",
       "<video width=\"600\" controls loop autoplay>\n",
       "  <source src=\"video/Flexion-Knee.mp4\" type=\"video/mp4\">\n",
       "</video>\n"
      ],
      "text/plain": [
       "<IPython.core.display.HTML object>"
      ]
     },
     "execution_count": 10,
     "metadata": {},
     "output_type": "execute_result"
    }
   ],
   "source": [
    "from IPython.display import HTML\n",
    "\n",
    "HTML(\"\"\"\n",
    "<video width=\"600\" controls loop autoplay>\n",
    "  <source src=\"video/Flexion-Knee.mp4\" type=\"video/mp4\">\n",
    "</video>\n",
    "\"\"\")"
   ]
  },
  {
   "cell_type": "markdown",
   "metadata": {},
   "source": [
    "<br>\n",
    "<br>\n",
    "<br>\n",
    "\n",
    "The next video depicts shoulder abduction and adduction.\n",
    "\n",
    "<br>\n",
    "\n"
   ]
  },
  {
   "cell_type": "code",
   "execution_count": 11,
   "metadata": {},
   "outputs": [
    {
     "data": {
      "text/html": [
       "\n",
       "<video width=\"600\" controls loop autoplay>\n",
       "  <source src=\"video/AbAdduction-Shoulder.mp4\" type=\"video/mp4\">\n",
       "</video>\n"
      ],
      "text/plain": [
       "<IPython.core.display.HTML object>"
      ]
     },
     "execution_count": 11,
     "metadata": {},
     "output_type": "execute_result"
    }
   ],
   "source": [
    "from IPython.display import HTML\n",
    "\n",
    "HTML(\"\"\"\n",
    "<video width=\"600\" controls loop autoplay>\n",
    "  <source src=\"video/AbAdduction-Shoulder.mp4\" type=\"video/mp4\">\n",
    "</video>\n",
    "\"\"\")"
   ]
  },
  {
   "cell_type": "markdown",
   "metadata": {},
   "source": [
    "<br>\n",
    "<br>\n",
    "<br>\n",
    "\n",
    "The last video depicts shoulder external and internal rotation.\n",
    "\n",
    "<br>\n",
    "\n",
    "\n"
   ]
  },
  {
   "cell_type": "code",
   "execution_count": 8,
   "metadata": {},
   "outputs": [
    {
     "data": {
      "text/html": [
       "\n",
       "<video width=\"600\" controls loop autoplay>\n",
       "  <source src=\"video/IntExtRotation.mp4\" type=\"video/mp4\">\n",
       "</video>\n"
      ],
      "text/plain": [
       "<IPython.core.display.HTML object>"
      ]
     },
     "execution_count": 8,
     "metadata": {},
     "output_type": "execute_result"
    }
   ],
   "source": [
    "from IPython.display import HTML\n",
    "\n",
    "HTML(\"\"\"\n",
    "<video width=\"600\" controls loop autoplay>\n",
    "  <source src=\"video/IntExtRotation.mp4\" type=\"video/mp4\">\n",
    "</video>\n",
    "\"\"\")"
   ]
  },
  {
   "cell_type": "markdown",
   "metadata": {},
   "source": [
    "<br>\n",
    "<br>\n",
    "<br>\n",
    "\n",
    "All of these movements are said to occur \"in planes\" and \"about axes\".   For example:\n",
    "\n",
    "* The foot moves mainly **in the sagittal plane** during walking\n",
    "* Flexion is rotation **about a mediolateral axis**\n",
    "\n",
    "<br>\n",
    "<br>\n",
    "\n",
    "Therefore, when using planes and axes to describe anatomical locations and/or movements, it is important to understand the **segment** to which these planes/axes refer.  Often this is implicit. That is, often it is obvious which segment is being discussed, so the segment is usually not explicitly specified.\n",
    "\n",
    "<br>\n",
    "<br>\n",
    "\n",
    "For example, consider the sentence:\n",
    "\n",
    "> *During walking, the largest femur motions occur in the sagittal plane.*\n",
    "\n",
    "In this sentence, it is clear that the \"sagittal plane\" refers to the whole-body sagittal plane.\n",
    "\n",
    "<br>\n",
    "<br>\n",
    "\n",
    "Next, consider the sentence:\n",
    "\n",
    "> *The hip joint lies above the knee joint in the frontal plane.*\n",
    "    \n",
    "In this sentence, it is clear that the \"frontal plane\" refers to the femur's frontal plane (because the femur can move in arbitrary ways relative to the whole body)."
   ]
  },
  {
   "cell_type": "markdown",
   "metadata": {},
   "source": [
    "____\n",
    "\n",
    "<a name=\"summary\"></a>\n",
    "# Summary\n",
    "[Back to Table of Contents](#toc)\n",
    "<br>\n",
    "\n",
    "\n",
    "* This chapter has described the main anatomical planes, axes, directions and movement types\n",
    "* It is important to be able to match the anatomical plane and axes names (e.g. rotation in the **sagittal** plane implies rotation about a **mediolateral** axis)\n",
    "* Like Chapter 01, these terms represent a quick overview of the main terms;  there are a variety of other terms for planes, axes, directions, and especially movement types, and there are even joint-specific terms (e.g. plantarflexion and dorsiflexion of the foot).\n",
    "* In subsequent chapters, only the terms from discussed in this chapter will be used.\n"
   ]
  }
 ],
 "metadata": {
  "kernelspec": {
   "display_name": "Python 3",
   "language": "python",
   "name": "python3"
  },
  "language_info": {
   "codemirror_mode": {
    "name": "ipython",
    "version": 3
   },
   "file_extension": ".py",
   "mimetype": "text/x-python",
   "name": "python",
   "nbconvert_exporter": "python",
   "pygments_lexer": "ipython3",
   "version": "3.6.10"
  }
 },
 "nbformat": 4,
 "nbformat_minor": 4
}
