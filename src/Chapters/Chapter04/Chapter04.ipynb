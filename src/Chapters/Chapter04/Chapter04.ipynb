{
 "cells": [
  {
   "cell_type": "markdown",
   "metadata": {},
   "source": [
    "<img src=\"img/logo.png\" alt=\"logo\" align=\"center\">"
   ]
  },
  {
   "cell_type": "markdown",
   "metadata": {},
   "source": [
    "<br>\n",
    "<br>\n",
    "\n",
    "# **Chapter 4** &nbsp; &nbsp; <span style=\"color:#C13213\">Kinematics II:</span> &nbsp; <span style=\"color:#5D6D7E\">Linear & Angular 2D Motion</span>\n",
    "\n",
    "<br>\n",
    "<br>"
   ]
  },
  {
   "cell_type": "markdown",
   "metadata": {},
   "source": [
    "___\n",
    "\n",
    "<a name=\"toc\"></a>\n",
    "# Table of Contents\n",
    "\n",
    "* [Angular vs. Linear Motion](#angular)\n",
    "* [Why Consider Angular Motion?](#why)\n",
    "* [A Paradox of Human Kinematics](#paradox)\n",
    "* [Fundamental Physical Quantities](#quantities)\n",
    "* [Quantity Types](#quantities)\n",
    "\t* [Scalars](#scalars)\n",
    "\t* [Vectors](#vectors)\n",
    "* [Summary](#summary)\n",
    "\n",
    "\n"
   ]
  },
  {
   "cell_type": "markdown",
   "metadata": {},
   "source": [
    "____\n",
    "\n",
    "<a name=\"angular\"></a>\n",
    "# <span style=\"color:#000000\">Angular vs. Linear motion</span>\n",
    "[Back to Table of Contents](#toc)\n",
    "<br>\n",
    "<br>\n",
    "\n",
    "* Angular motion does not exist in 1D motion (rotations can only occur in 2D or 3D space)\n",
    "* Angular motion is described with respect to a rotation axis\n",
    "    * Motion occurs about the axis (or \"around the axis\") \n",
    "* In human biomechanical systems, the moving body is often physically connected to the rotation axis\n",
    "    * In elbow rotation, the rotation axis is usually in the elbow joint\n",
    "* However, this is not always the case\n",
    "    * In diving and gymnastics, somersaults and other movements often occur about axes that are outside the body \n",
    "* Linear motion is described using: position ($x$), velocity ($v$) and acceleration ($a$).\n",
    "* Angular motion is described using: angular position ($\\theta$), angular velocity ($\\omega$) and angular acceleration ($\\alpha$).\n",
    "\n",
    "\n",
    "\n",
    "| Term | Symbol | Units | Definition |\n",
    "|:-------------|:-------------|:-------------|:-------------|\n",
    "| **Angular position** | $\\theta$ | $\\text{rad}$ | The angular position with respect to a rotation axis |\n",
    "| **Angular velocity** | $\\omega$ | $\\text{rad s}^{-1}$ | The rate of change of angular position in time |\n",
    "| **Angular acceleration** | $\\alpha$ | $\\text{rad s}^{-2}$ |  The rate of change of angular velocity in time |\n"
   ]
  },
  {
   "cell_type": "markdown",
   "metadata": {},
   "source": [
    "____\n",
    "\n",
    "<a name=\"why\"></a>\n",
    "# <span style=\"color:#000000\">Why Study Angular Motion?</span>\n",
    "[Back to Table of Contents](#toc)\n",
    "<br>\n",
    "<br>\n",
    "\n",
    "* Our joints rotate (elbow, shoulder, neck, hip, knee, etc., etc.)\n",
    "    * Usually the distal bone rotates with respect to the proximal bone\n",
    "* Angular kinematic data are needed to describe motion differences between different-sized people\n",
    "    * e.g. a 70 cm infant vs. a 180 cm adult\n",
    "* Rotation is fundamental to many sports techniques\n",
    "    * e.g. baseball, golf\n",
    "* Rotational paths usually cause problems for clinical population\n",
    "    * e.g. walking straight is easier than walking on a curved path"
   ]
  },
  {
   "cell_type": "markdown",
   "metadata": {},
   "source": [
    "____\n",
    "\n",
    "<a name=\"paradox\"></a>\n",
    "# <span style=\"color:#000000\">A Paradox of Human Kinematics</span>\n",
    "[Back to Table of Contents](#toc)\n",
    "<br>\n",
    "<br>\n",
    "\n",
    "* Most of our movement goals are linear\n",
    "    * e.g. Walk from here to the door  (point-to-point linear movement task)\n",
    "* But we can only accomplish these goals using angular motion\n",
    "    * i.e., rotate hips, knees, abd ankles of both lower limbs in a coordinated sequence\n"
   ]
  },
  {
   "cell_type": "markdown",
   "metadata": {},
   "source": [
    "____\n",
    "\n",
    "<a name=\"quantities\"></a>\n",
    "# <span style=\"color:#000000\">Fundamental Physical Quantities</span>\n",
    "[Back to Table of Contents](#toc)\n",
    "<br>\n",
    "<br>\n",
    "\n",
    "* There are no new fundamental quantities for angular motion\n",
    "    * Why?  Because **angle** is actually **length**.\n",
    "    * 1 radian = 1 radius length\n"
   ]
  },
  {
   "cell_type": "markdown",
   "metadata": {},
   "source": [
    "____\n",
    "\n",
    "<a name=\"types\"></a>\n",
    "# <span style=\"color:#000000\">Mathematical Quantity Types</span>\n",
    "[Back to Table of Contents](#toc)\n",
    "<br>\n",
    "<br>\n",
    "\n",
    "There are two types of mathematical quantities used to describe 2D motion:\n",
    "\n",
    "* **Scalars**: a single value\n",
    "    * e.g. x position, y position, angular position\n",
    "    * Denoted using normal variable symbols (e.g. $x$, $\\theta$)\n",
    "* **Vectors**: a collection of values (e.g. an XY coordinate pair)\n",
    "    * e.g. position, velocity, acceleration\n",
    "    * Denoted using vector variable symbols (e.g. $\\vec{r}$)\n",
    "    \n",
    "<br>\n",
    "<br>\n",
    "<br>\n",
    "\n",
    "One important scalar is **speed**. If $\\vec{v}$ is the velocity vector, then speed is defined as:\n",
    "\n",
    "\\begin{align}\n",
    "\\text{speed} \\equiv | \\vec{v} |\n",
    "\\end{align}\n",
    "\n",
    "<br>\n",
    "<br>\n",
    "<br>"
   ]
  },
  {
   "cell_type": "markdown",
   "metadata": {},
   "source": [
    "In 2D systems, the relation between linear and angular position is easy:\n",
    "\n",
    "\\begin{align}\n",
    "\\vec{r} &= \\begin{bmatrix} x \\\\ y \\end{bmatrix} = \\begin{bmatrix} r \\cos \\theta \\\\ r \\sin \\theta \\end{bmatrix}\n",
    "\\end{align}\n",
    "\n",
    "\n",
    "Here:\n",
    "* $\\vec{r}$ is a position vector\n",
    "* $x$ and $y$ are the 2D coordinates\n",
    "* $r$ is the radius (i.e., distance from the point to the center of rotation)\n",
    "* $\\theta$ is the angular position\n",
    "\n",
    "<br>\n",
    "<br>\n"
   ]
  },
  {
   "cell_type": "markdown",
   "metadata": {},
   "source": [
    "Angular velocity and acceleration follow similarly relationships:\n",
    "\n",
    "\\begin{align}\n",
    "v_\\perp &= r \\omega\\\\\n",
    "a_\\perp &= r \\alpha\\\\\n",
    "\\end{align}\n",
    "\n",
    "\n",
    "Here:\n",
    "* $v_\\perp$ is the component of the velocity vector that is perpendicular to $\\vec{r}$\n",
    "* $a_\\perp$ is the component of the acceleration vector that is perpendicular to $\\vec{r}$\n",
    "\n",
    "\n"
   ]
  },
  {
   "cell_type": "markdown",
   "metadata": {},
   "source": [
    "____\n",
    "\n",
    "<a name=\"summary\"></a>\n",
    "# Summary\n",
    "[Back to Table of Contents](#toc)\n",
    "<br>\n",
    "\n",
    "\n",
    "* This chapter has described the main differences between linear and angular motion\n",
    "* Most motions in human bodies are angular, especially joint kinematics\n",
    "* Most human movement goals are linear, but we use angular motion to solve those linear problems\n",
    "* For 2D motion, there are relatively simple conversions between linear and angular motion quantities"
   ]
  }
 ],
 "metadata": {
  "kernelspec": {
   "display_name": "Python 3",
   "language": "python",
   "name": "python3"
  },
  "language_info": {
   "codemirror_mode": {
    "name": "ipython",
    "version": 3
   },
   "file_extension": ".py",
   "mimetype": "text/x-python",
   "name": "python",
   "nbconvert_exporter": "python",
   "pygments_lexer": "ipython3",
   "version": "3.6.10"
  }
 },
 "nbformat": 4,
 "nbformat_minor": 4
}
