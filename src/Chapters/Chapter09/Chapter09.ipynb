{
 "cells": [
  {
   "cell_type": "markdown",
   "metadata": {},
   "source": [
    "<img src=\"img/logo.png\" alt=\"logo\" align=\"center\">"
   ]
  },
  {
   "cell_type": "markdown",
   "metadata": {},
   "source": [
    "<br>\n",
    "<br>\n",
    "\n",
    "# **Chapter 9** &nbsp; &nbsp; <span style=\"color:#C13213\">Kinematic Chains I: Forward Kinematics</span>\n",
    "\n",
    "<br>\n",
    "\n",
    "This chapter describes kinematic chains, and why they are important for studying human movement.\n",
    "\n",
    "Specific concepts including: degrees of freedom (DOF), range of motion (ROM), and forward kinematics (FK) are described. These concepts are considered first in their original contexts (which include: Mechanical Engineering and Robotics), and then in the context of human movement control and human movement measurement.\n",
    "\n",
    "<br>\n",
    "<br>"
   ]
  },
  {
   "cell_type": "markdown",
   "metadata": {},
   "source": [
    "___\n",
    "\n",
    "<a name=\"toc\"></a>\n",
    "# Table of Contents\n",
    "\n",
    "* [What is a kinematic chain?](#what)\n",
    "* [Degrees of freedom (DOF)](#dof)\n",
    "* [Forward kinematics (FK)](#fk)\n",
    "* [FK calculations](#calc)\n",
    "* [Summary](#summary)"
   ]
  },
  {
   "cell_type": "markdown",
   "metadata": {},
   "source": [
    "____\n",
    "\n",
    "<a name=\"what\"></a>\n",
    "# <span style=\"color:#000000\">What is a kinematic chain?</span>\n",
    "[Back to Table of Contents](#toc)\n",
    "<br>\n",
    "<br>\n",
    "\n",
    "* A kinematic chain is a sequence of bodies that are connected by joints\n",
    "* Each joint permits motion in some directions and prevents motion in other directions\n",
    "* Bodies in kinematic chains are often called \"links\"\n",
    "* The links are usually rigid (i.e., they do not deform)\n",
    "    * Bones can deform, but they are usually modeled as rigid \n",
    "* For 2D (planar) kinematic chains, like those depicted in Fig.1, joints are usually hinge joints\n",
    "    * Hinge joints allow relative rotation between adjacent links\n",
    "    * Hinge joints do not allow relative displacement\n",
    "* The posture of the planar kinematic chains depicted in Fig.1 is defined using:\n",
    "    * The position of the first link ($r_x$, $r_y$)\n",
    "    * The angles of all joints ($\\phi_1$, $\\phi_2$, $\\phi_3$, ...)\n",
    "* The links' motions are related in complex mechanical ways\n",
    "    * The motion of one joint tends to trace a circle around that joint, which is relatively simple motion, but... \n",
    "    * The motion of each joint generally affects the motion of all other joints\n",
    "    * For example, acceleration at one joint causes all other joints to accelerate\n",
    "    * Self experiment:  hold your arm in a level, horizontal plane with your elbow at 90 deg, then rapidly extend your elbow; it is nearly impossible to move your elbow without also moving your shoulder\n",
    "* The complex kinematic and dynamic behavior of kinematic chains is described in detail in Robotics textbooks"
   ]
  },
  {
   "cell_type": "markdown",
   "metadata": {},
   "source": [
    "### Relevance to human movement:\n",
    "\n",
    "* Human limbs (arms and legs) can be regarded as kinematic chains, similar to those depicted in Fig.1\n",
    "* In fact, the entire human body is a kinematic chain:\n",
    "    * Our pelvis can be regarded as the first link\n",
    "    * Our vertebrae create joints with the pelvis, representing part of the kinematic chain\n",
    "    * Our femurs create other joints with the pelvis, representing other parts of the kinematic chain\n",
    "    * Extending from the vertebrae and femurs, we can trace through all joints and links in the human body \n",
    "* Since Robotics describes the kinematics and dynamics of kinematic chains, it is very helpful to study Robotics when trying to understand human motion \n",
    "\n",
    "\n",
    "\n"
   ]
  },
  {
   "cell_type": "markdown",
   "metadata": {},
   "source": [
    "<center>\n",
    "    <img src=\"img/fig_kinchains.png\" alt=\"image\" width=\"600\"/>\n",
    "    <br>\n",
    "    <br>\n",
    "    <em><b>Figure 1</b>. &nbsp; Example two-dimensional (planar) kinematic chains.</em>\n",
    "</center>"
   ]
  },
  {
   "cell_type": "markdown",
   "metadata": {},
   "source": [
    "____\n",
    "\n",
    "<a name=\"dof\"></a>\n",
    "# <span style=\"color:#000000\">Degrees of freedom (DOF)</span>\n",
    "[Back to Table of Contents](#toc)\n",
    "<br>\n",
    "<br>\n",
    "\n",
    "* DOF, or more correctly: \"kinematic DOF\" represent one way to quantify the amount of motion that a kinematic chain can achieve\n",
    "* DOF can be specified for single joints\n",
    "    * For single joints, the DOF is A + B, where A is the number of orthogonal axes along which adjacent links can translate, and B is the number of orthogonal axes about which adjacent links can rotate\n",
    "    * \"Orthogonal\" means \"perpendicual\", but \"orthogonal\" is usually used for many axes, and \"perpendicular\" is usually used for just two axes\n",
    "    * The maximum number of DOF for a 2D joint is three:  two translation, and one rotation\n",
    "    * The maximum number of DOF for a 3D joint is six:  three translation, and three rotation\n",
    "* DOF can also be specified for whole kinematic chains\n",
    "    * The number of DOFs for a whole kinematic chain is the total number of DOF from all joints\n",
    "    * In Fig.1, the kinematic chain DOF values are 4 and 5 for the two- and three-link chains, respectively;  there are 2 DOF for the proximal joint location, and one DOF for each joint.\n",
    "* Hinge joints:\n",
    "    * For 2D kinematic chains, hinge joints allow 1 DOF (rotation) and constrain two other DOFs (translation)\n",
    "    * For 3D kinematic chains, hinge joints allow 1 DOF (rotation about one axis) and constrain five other DOFs (3 translation, 2 rotation)\n",
    "* Many other types of joints exist, as depicted in Fig.2\n",
    "    * One important type of joint is a ball-and-socket joint, which allows 3 rotational DOFs and zero translational DOFs.\n",
    "* Joints limit DOF through physical contact: the geometric nature of the contacting surfaces determines the kinematic DOF\n",
    "    * This raises a second important way to quantify kinematic chain motion:  range of motion (ROM)\n",
    "    * The range of motion (ROM) specifies the amount of joint motion along or about a specific axis\n",
    "    * Ideal hinge joints have a ROM of zero in both translational directions\n",
    "    * Ideal hinge joints can have an angular ROM of 360 deg"
   ]
  },
  {
   "cell_type": "markdown",
   "metadata": {},
   "source": [
    "<center>\n",
    "    <img src=\"img/640px-Gelenke_Zeichnung01.jpg\" alt=\"image\" width=\"600\"/>\n",
    "    <br>\n",
    "    <br>\n",
    "    <em><b>Figure 2</b>. &nbsp; Example joints: 1 Ball-and-Socket-Joint, 2 Ellipsoid Joint, 3 Saddle Joint, 4 Hinge Joint, 5 Plane Joint. <br>Image reproduced here under the <a href=\"https://en.wikipedia.org/wiki/en:GNU_Free_Documentation_License\">GNU Free Documentation License</a>. Original source: <a href=\"http://www.pflegewiki.de/index.php/Bild:Gelenke_Zeichnung01.jpg\">http://www.pflegewiki.de/index.php/Bild:Gelenke_Zeichnung01.jpg</a></em>\n",
    "</center>"
   ]
  },
  {
   "cell_type": "markdown",
   "metadata": {},
   "source": [
    "### Relevance to human movement:\n",
    "\n",
    "* Joints in the human body are usually modeled using ideal mechanical joints like those depicted in Fig.2\n",
    "    * Elbows and knees are often modeled as hinge joints\n",
    "    * Shoulders and hips are often modeled as ball-and-socket joints\n",
    "    * Joints in our wrists, hands, fingers, ankles, feet and toes are often modeled as saddle joints\n",
    "* In reality, human joints are not ideal\n",
    "    * All human joints (including knees and elbows) actually allow 6 DOF\n",
    "    * The amount of motion may be different for different axes\n",
    "    * Translational motion is usually limited to a few milimeters\n",
    "* Just like ideal mechanical joints, DOF are limited by physical structures\n",
    "    * In the human body, these structures include: cartilage and bone, ligaments, tendons and other soft tissues (e.g. skin)\n",
    "    * These structures can only limit motion to a certain degree\n",
    "* ROM is used to quantify the extent to which joint structures constrain motion \n",
    "    * The knee joint has an angular ROM in the sagittal plane of approximately 140 deg\n",
    "    * The knee joint has an angular ROM of just a few deg in other planes\n",
    "    * The knee joint has transalations ROMs of just a few mm in all directions\n",
    "* Many injuries occur at joints (e.g. ligament or tendon tears)\n",
    "    * Understanding healthy joint behavior is important for understanding both injury mechanisms and rehabilitation\n",
    "* DOF and ROM together quantify the amount of expected joint motion\n",
    "* ROM can is positively affected by training and stretching, and is usually negatively affected by age\n",
    "* ROM is often studies in different populations (e.g. baseball pitchers and other athletes, females vs. males, etc.) "
   ]
  },
  {
   "cell_type": "markdown",
   "metadata": {},
   "source": [
    "____\n",
    "\n",
    "<a name=\"fk\"></a>\n",
    "# <span style=\"color:#000000\">Forward kinematics (FK)</span>\n",
    "[Back to Table of Contents](#toc)\n",
    "<br>\n",
    "<br>\n",
    "\n",
    "* \"Forward kinematics\" (FK) refers to the process of calculating **external coordinates** from **internal coordinates**\n",
    "* This term comes from Robotics, and specifically from terminology pertaining to robotic manipulators (Fig.3)\n",
    "    * For a robotic manipulator, the internal coordinates are joint angles: these are the coordinates that the robot directly controls\n",
    "    * For a robotic manipulator, the most important external coordinates are the coordinates of the hand position, or \"endpoint\" position: these external coordinates are not directly controlled"
   ]
  },
  {
   "cell_type": "markdown",
   "metadata": {},
   "source": [
    "<center>\n",
    "    <img src=\"img/cybernetics-1869205_1280.jpg\" alt=\"image\" width=\"600\"/>\n",
    "    <br>\n",
    "    <br>\n",
    "    <em><b>Figure 3</b>. &nbsp; Example robotic manipulator.<br> Image reproduced here under the Pixabay License. <a href=\"https://pixabay.com/illustrations/cybernetics-robot-robot-arm-1869205/\">Original source.</a></em>\n",
    "</center>"
   ]
  },
  {
   "cell_type": "markdown",
   "metadata": {},
   "source": [
    "<br>\n",
    "<br>\n",
    "\n",
    "* An example of a kinematic chain under forward kinematics control is shown in Video 1 below.\n",
    "* For FK control, each joint angle is adjusted independently.\n",
    "\n",
    "\n",
    "<br>\n",
    "<br>"
   ]
  },
  {
   "cell_type": "code",
   "execution_count": 6,
   "metadata": {},
   "outputs": [
    {
     "data": {
      "text/html": [
       "\n",
       "<center>\n",
       "<video width=\"600\" controls>\n",
       "  <source src=\"video/fk.mp4\" type=\"video/mp4\">\n",
       "</video>\n",
       "<br>\n",
       "<em><b>Video 1</b>. &nbsp; Example FK control of a kinematic chain. Video screencast produced in <a href=\"https://www.blender.org\">Blender</a>.</em>\n",
       "</center>\n"
      ],
      "text/plain": [
       "<IPython.core.display.HTML object>"
      ]
     },
     "execution_count": 6,
     "metadata": {},
     "output_type": "execute_result"
    }
   ],
   "source": [
    "from IPython.display import HTML\n",
    "\n",
    "HTML(\"\"\"\n",
    "<center>\n",
    "<video width=\"600\" controls>\n",
    "  <source src=\"video/fk.mp4\" type=\"video/mp4\">\n",
    "</video>\n",
    "<br>\n",
    "<em><b>Video 1</b>. &nbsp; Example FK control of a kinematic chain. Video screencast produced in <a href=\"https://www.blender.org\">Blender</a>.</em>\n",
    "</center>\n",
    "\"\"\")"
   ]
  },
  {
   "cell_type": "markdown",
   "metadata": {},
   "source": [
    "<br>\n",
    "<br>"
   ]
  },
  {
   "cell_type": "markdown",
   "metadata": {},
   "source": [
    "____\n",
    "\n",
    "<a name=\"calc\"></a>\n",
    "# <span style=\"color:#000000\">FK Calculations</span>\n",
    "[Back to Table of Contents](#toc)\n",
    "<br>\n",
    "<br>\n",
    "\n",
    "* FK calculations consist of calculating external coordinates (i.e., XYZ positions) from known internal coordinates (i.e., joint angles)\n",
    "* FK calculations are generally easy\n",
    "* Consider the planar 3-link kinematic chain in Fig.4 below.\n",
    "    * The $\\phi$ variables represent joint angles\n",
    "    * The $L$ variables represent link lengths (i.e., inter-joint distances)\n",
    "    * For this kinematic chain, one FK goal is to calculate the XY position of point D, given the joint angles\n",
    "    * This FK solution is shown below.\n"
   ]
  },
  {
   "cell_type": "markdown",
   "metadata": {},
   "source": [
    "\\begin{align}\n",
    "\\begin{pmatrix}x_A\\\\y_A\\end{pmatrix} &= \\begin{pmatrix}r_x\\\\r_y\\end{pmatrix}  \\\\ \\\\\n",
    "\\begin{pmatrix}x_B\\\\y_B\\end{pmatrix} &= \\begin{pmatrix}x_A + L_1\\cos\\phi_1  \\\\  y_A + L_1\\sin\\phi_1 \\end{pmatrix}  \\\\ \\\\\n",
    "\\begin{pmatrix}x_C\\\\y_C\\end{pmatrix} &= \\begin{pmatrix}x_B + L_2\\cos(\\phi_1 + \\phi_2)  \\\\  y_B + L_2\\sin(\\phi_1 + \\phi_2) \\end{pmatrix}  \\\\ \\\\\n",
    "\\begin{pmatrix}x_D\\\\y_D\\end{pmatrix} &= \\begin{pmatrix}x_C + L_3\\cos(\\phi_1 + \\phi_2 + \\phi_3)  \\\\  y_C + L_3\\sin(\\phi_1 + \\phi_2 + \\phi_3) \\end{pmatrix}  \\\\\n",
    "\\end{align}\n",
    "\n",
    "<br>\n",
    "<br>\n",
    "<br>"
   ]
  },
  {
   "cell_type": "markdown",
   "metadata": {},
   "source": [
    "Note that the FK solution is simple: it is a sequential calculation of progressively distal joint locations.\n",
    "\n",
    "<br>\n",
    "<br>\n",
    "\n",
    "Using the link length and joint angle values indicacted in Fig.4, we obtain the following FK solution:\n",
    "\n",
    "\n",
    "\\begin{align}\n",
    "\\begin{pmatrix}x_D\\\\y_D\\end{pmatrix} &= \\begin{pmatrix}24.8\\\\68.0\\end{pmatrix}  \\\\ \\\\\n",
    "\\end{align}\n",
    "\n",
    "<br>\n",
    "<br>\n",
    "<br>"
   ]
  },
  {
   "cell_type": "markdown",
   "metadata": {},
   "source": [
    "<center>\n",
    "    <img src=\"img/fk-3link.png\" alt=\"image\" width=\"350\"/>\n",
    "    <br>\n",
    "    <br>\n",
    "    <em><b>Figure 3</b>. &nbsp; Example 3-link planar kinematic chain. The FK goal is to calaculate the location of point D given known joint angles, segment lengths, and position of chain start (point A).</a></em>\n",
    "</center>\n",
    "\n",
    "<br>\n",
    "<br>\n",
    "<br>"
   ]
  },
  {
   "cell_type": "markdown",
   "metadata": {},
   "source": [
    "____\n",
    "\n",
    "<a name=\"summary\"></a>\n",
    "# <span style=\"color:#000000\">Summary</span>\n",
    "[Back to Table of Contents](#toc)\n",
    "<br>\n",
    "<br>\n",
    "\n",
    "* This chapter discussed kinematic chains and how they relate to human movement\n",
    "* Kinematic chain mobility can be quantified using degrees of freedom and range of motion\n",
    "* \"Degrees of freedom\" refers to the number of orthogonal axes along which or about which a link can translate or rotate\n",
    "* \"Range of motion\" refers to the linear or angular displacement that each joint permits\n",
    "* Ideal mechanical joints permit motion only for a small number of DOF \n",
    "* Human joints are non-ideal, and all human joints permit 6 DOF of motion (although the ROM in some directions may be small)\n",
    "* Forward kinematics refers to calcualting external coordinates (XYZ positions) from known internal coordinates (joint angles)\n",
    "* The forward kinematics problem is very easy for simple kinematic chains\n"
   ]
  }
 ],
 "metadata": {
  "kernelspec": {
   "display_name": "Python 3",
   "language": "python",
   "name": "python3"
  },
  "language_info": {
   "codemirror_mode": {
    "name": "ipython",
    "version": 3
   },
   "file_extension": ".py",
   "mimetype": "text/x-python",
   "name": "python",
   "nbconvert_exporter": "python",
   "pygments_lexer": "ipython3",
   "version": "3.6.10"
  }
 },
 "nbformat": 4,
 "nbformat_minor": 4
}
