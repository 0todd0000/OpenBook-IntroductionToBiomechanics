{
 "cells": [
  {
   "cell_type": "markdown",
   "metadata": {},
   "source": [
    "<img src=\"img/logo.png\" alt=\"logo\" align=\"center\">"
   ]
  },
  {
   "cell_type": "markdown",
   "metadata": {},
   "source": [
    "<br>\n",
    "<br>\n",
    "\n",
    "# **Chapter 7** &nbsp; &nbsp; <span style=\"color:#C13213\">Motion Capture II:</span> &nbsp; <span style=\"color:#5D6D7E\">Exploring Human Kinematics</span>\n",
    "\n",
    "<br>\n",
    "<br>"
   ]
  },
  {
   "cell_type": "markdown",
   "metadata": {},
   "source": [
    "___\n",
    "\n",
    "<a name=\"toc\"></a>\n",
    "# Table of Contents\n",
    "\n",
    "* [Human kinematics data types](#datatypes)\n",
    "\t* [BVH](#bvh)\n",
    "\t* [C3D](#c3d)\n",
    "\t* [Other](#otherdatatypes)\n",
    "* [Public databases](#databases)\n",
    "* [Software](#software)\n",
    "\t* [Blender](#blender)\n",
    "\t* [Mokka](#mokka)\n",
    "\t* [Visual3D](#visual3d)\n",
    "\t* [Other](#othersoftware)\n",
    "* [Summary](#summary)\n"
   ]
  },
  {
   "cell_type": "markdown",
   "metadata": {},
   "source": [
    "____\n",
    "\n",
    "<a name=\"datatypes\"></a>\n",
    "# <span style=\"color:#000000\">Human kinematics data types</span>\n",
    "[Back to Table of Contents](#toc)\n",
    "<br>\n",
    "<br>\n",
    "\n",
    "* A variety of data formats exist for saving and sharing human kinematics data.\n",
    "* The two most common formats are BVH and C3D.\n",
    "    * BVH data tends to be used for CG animation applications.\n",
    "    * C3D data tends to be used for scientific applications.\n",
    "* Other common file formats include text formats (TXT, CSV, TSV), but these do not necessarily follow any data format definitions.\n",
    "* In science, C3D is common, but there is unfortunately no universal standard for saving and sharing kinematics data.\n",
    "* This implies that computer programming skills are useful, or even necessary, when dealing with data from a variety of sources.\n"
   ]
  },
  {
   "cell_type": "markdown",
   "metadata": {},
   "source": [
    "____\n",
    "\n",
    "<a name=\"bvh\"></a>\n",
    "## <span style=\"color:#000000\">BVH</span>\n",
    "[Back to Table of Contents](#toc)\n",
    "<br>\n",
    "<br>\n",
    "\n",
    "* [BioVision Hierarchical (BVH)](https://en.wikipedia.org/wiki/Biovision_Hierarchy) data is a motion capture data file format.\n",
    "* BVH data files are text files that are organized in a hierarchical manner, specifying both joint locations and joint motion.\n",
    "* The BVH format was developed by a company called \"Biovision\"; although this company no longer exists, the BVH format has persisted in many motion capture applications and software systems.\n",
    "* BVH data are used most commonly in computer graphics and animation applications.\n",
    "* A wide variety of software systems support the BVH format, including [Blender](https://www.blender.org) (see [this list](https://en.wikipedia.org/wiki/Biovision_Hierarchy) for additional software packages that support BVH).\n",
    "* The main **advantages** of the BVH format are:\n",
    "    * Data are saved in text files, meaning that they are universally shareable.\n",
    "    * Data are described in a clear joint hierarchy, making them convenient for creating animations.\n",
    "* The main **disadvantages** of the BVH format are:\n",
    "    * High sampling rates (e.g. 100 Hz or more ) can produce very large BVH files; this is inconvenient for scientific applications.\n",
    "    * Marker data are not supported; most motion capture systems start with marker positions, and then calculate joint angles. Since BVH data start with joint angles, there is no way to re-calculate joint angles if a mistake is found in the original calculations, or if a better method becomes available.\n",
    "* Useful addtional information about BVH data is available at [this University of Wisconsin site](https://research.cs.wisc.edu/graphics/Courses/cs-838-1999/Jeff/BVH.html) (from a university lecture website entitled: \"Topics in Computer Animation\")\n"
   ]
  },
  {
   "cell_type": "markdown",
   "metadata": {},
   "source": [
    "____\n",
    "\n",
    "<a name=\"c3d\"></a>\n",
    "## <span style=\"color:#000000\">C3D</span>\n",
    "[Back to Table of Contents](#toc)\n",
    "<br>\n",
    "<br>\n",
    "\n",
    "* [C3D](https://www.c3d.org) is a general, open-source data file format for biomechanics data which supports motion capture data.\n",
    "* The C3D format was developed and remains maintained by the company: [Motion Lab Systems](https://www.motion-labs.com)\n",
    "* C3D files are binary (not text) files\n",
    "* A variety of data can be stored in C3D files including force, muscle activity and other data.\n",
    "* The C3D format is relatively complex; it is described in a [141 page manual](https://www.c3d.org/c3ddocs.html)\n",
    "* The main **advantages** of the C3D format are:\n",
    "    * Free and open-source.\n",
    "    * Support for high-frequency motion capture data.\n",
    "    * Support for motion capture marker data.\n",
    "    * Support for other data commonly collected during human movement experiments.\n",
    "    * Supported by most motion capture manufacturers (i.e., data can be exported in C3D format from most motion capture manufacturer's systems).\n",
    "    * Nearly universal in scientific applications.\n",
    "* The main **disadvantages** of the C3D format are:\n",
    "    * Not totally universal yet.\n",
    "    * Support for only single measurements;  usually mulitple measurements are made on each person, which means multiple C3D files, and which generally means that one needs a C3D file manager software system when conducting human movement experiments.\n"
   ]
  },
  {
   "cell_type": "markdown",
   "metadata": {},
   "source": [
    "____\n",
    "\n",
    "<a name=\"otherdatatypes\"></a>\n",
    "## <span style=\"color:#000000\">Other</span>\n",
    "[Back to Table of Contents](#toc)\n",
    "<br>\n",
    "<br>\n",
    "\n",
    "* A variety of other motion capture data file formats exist.\n",
    "* These are usually a text or spreadsheet format.\n",
    "* This type of custom-formatted data are commonly released with scientific studies, where scientists want to release some or all of their final kinematics data, but not the original motion capture or C3D files.\n",
    "* The main **disadvantages** of other formats are:\n",
    "    * Not universally used;  this implies that custom computer programming is often required to process other formats.\n",
    "    * No common databases;  while there are a variety of BVH and C3D databases, there are no databases that support arbitrary motion capture data formats. The closest database is [SimTK](https://simtk.org), but this site supports thousands of different data formats, making it difficult to find and use motion capture data."
   ]
  },
  {
   "cell_type": "markdown",
   "metadata": {},
   "source": [
    "____\n",
    "\n",
    "<a name=\"databases\"></a>\n",
    "# <span style=\"color:#000000\">Public databases</span>\n",
    "[Back to Table of Contents](#toc)\n",
    "<br>\n",
    "<br>\n",
    "\n",
    "* [CMU Graphics Lab Motion Capture Database](http://mocap.cs.cmu.edu)\n",
    "    * From Carnegie Mellon University\n",
    "    * This is the most comprehensive public BVH database available on the internet\n",
    "    * This database contains thousands of motion capture measurements for many different kinds of motions\n",
    "    * This database also exists on a number of different sites around the internet.\n",
    "    * [cgspeed](https://sites.google.com/a/cgspeed.com/cgspeed/motion-capture/cmu-bvh-conversion) is one of the most convient sites for exploring the CMU database.\n",
    "* [Emotional Body Motion Database](http://ebmdb.tuebingen.mpg.de/index.php)\n",
    "    * From the Max-Planck-Campus Tübingen.\n",
    "    * This is another comprehensive public BVH database\n",
    "    * This database contains over 1000 motion capture measurements \n",
    "    * All movements correspond to specific emotions\n",
    "* [SFU Motion Capture Database](http://mocap.cs.sfu.ca):\n",
    "    * From Simon Fraser University\n",
    "    * A wide variety of movements in a wide variety of formats\n",
    "    * Both BVH and C3D formats available for many movements\n",
    "* [OSU MoCap Data](https://accad.osu.edu/research/motion-lab/mocap-system-and-data)\n",
    "    * From the Advanced Computing Center for the Arts and Design at Ohio State University\n",
    "    * A relatively small number of files\n",
    "    * Some movements have BVH and C3D\n",
    "* [Blender BVH File Repository](http://centralsource.com/blender/bvh/files.htm)\n",
    "    * A private collection of a variety of movements\n",
    "    * Created by a Blender user and tested in Blender\n",
    "\n",
    "A variety of other databases exist around the web. Some of these sites are summarized in [this private mocap databases list](http://www.jeroenvanboxtel.com/MocapDatabases.html).\n",
    "\n",
    "\n",
    "\n",
    "    \n"
   ]
  },
  {
   "cell_type": "markdown",
   "metadata": {},
   "source": [
    "____\n",
    "\n",
    "<a name=\"software\"></a>\n",
    "# <span style=\"color:#000000\">Software</span>\n",
    "[Back to Table of Contents](#toc)\n",
    "<br>\n",
    "<br>\n",
    "\n",
    "* A variety of software applications support BVH or C3D file formats.\n",
    "* There is no software application that supports both BVH and C3D.\n",
    "* There is no sowftare application that supports arbitrarily formatted motion capture data.\n"
   ]
  },
  {
   "cell_type": "markdown",
   "metadata": {},
   "source": [
    "____\n",
    "\n",
    "<a name=\"blender\"></a>\n",
    "## <span style=\"color:#000000\">Blender</span>\n",
    "[Back to Table of Contents](#toc)\n",
    "<br>\n",
    "<br>\n",
    "\n",
    "* [Blender](https://www.blender.org) is a free-and-open-source, multi-purpose 3D modelling and animation software package\n",
    "* Blender supports BVH file importing\n",
    "* Blender can be used to easily modify the animation data\n",
    "* Blender supports complex, professional 3D modeling and animation for movies, TV and other media\n",
    "* Blender is very powerful but also very complex!\n"
   ]
  },
  {
   "cell_type": "markdown",
   "metadata": {},
   "source": [
    "____\n",
    "\n",
    "<a name=\"mokka\"></a>\n",
    "## <span style=\"color:#000000\">Mokka</span>\n",
    "[Back to Table of Contents](#toc)\n",
    "<br>\n",
    "<br>\n",
    "\n",
    "* [Mokka](http://biomechanical-toolkit.github.io/mokka/index.html) is a free-and-open-source software package for visualizing motion capture data\n",
    "    * Download links available [here](https://biomechanical-toolkit.github.io)\n",
    "* Mokka supports C3D file importing\n",
    "* Mokka is very convenient for quickly visualizing and exploring 3D motion capture data\n",
    "* Mokka cannot be used for arbitrary 3D modelling and animation\n",
    "* Mokka is relatively new, but is in active development, gradually improving over the years\n"
   ]
  },
  {
   "cell_type": "markdown",
   "metadata": {},
   "source": [
    "____\n",
    "\n",
    "<a name=\"visual3d\"></a>\n",
    "## <span style=\"color:#000000\">Visual 3D</span>\n",
    "[Back to Table of Contents](#toc)\n",
    "<br>\n",
    "<br>\n",
    "\n",
    "* [Visual3D](https://c-motion.com/products/visual3d) is a commercial software package from the company: [C-Motion](https://c-motion.com)\n",
    "* Visual3D comprehensively handles C3D files and groups of C3D files\n",
    "* Visual3D can perform many different types of data processing and movement-relevant calculations\n",
    "* Visual3D can be used to script complex and/or iterative series of calculations relevant to human movement analysis\n",
    "* Visual3D is used in many laboratories around the world, and is becoming a standard for scientific analysis of human movement data"
   ]
  },
  {
   "cell_type": "markdown",
   "metadata": {},
   "source": [
    "____\n",
    "\n",
    "<a name=\"otherdatatypes\"></a>\n",
    "## <span style=\"color:#000000\">Other</span>\n",
    "[Back to Table of Contents](#toc)\n",
    "<br>\n",
    "<br>\n",
    "\n",
    "* Many other software packages exist for reading, writing and displaying BVH and C3D data\n",
    "* However, many of these do not have graphical interfaces (i.e., click-and-point interfaces), which means that you need computer programming skills to use them"
   ]
  },
  {
   "cell_type": "markdown",
   "metadata": {},
   "source": [
    "____\n",
    "\n",
    "<a name=\"summary\"></a>\n",
    "# <span style=\"color:#000000\">Summary</span>\n",
    "[Back to Table of Contents](#toc)\n",
    "<br>\n",
    "<br>\n",
    "\n",
    "* The two main motion capture data formats are BVH and C3D\n",
    "* BVH files are used mainly in computer graphics applications, and C3D files are used mainly in scientific applications.\n",
    "* A variety of public databases exist for motion capture data, where many thousands of recorded movements can be accessed and explored for free.\n",
    "* A variety of software packages exist for reading and visualizing motion capture data.\n",
    "* Blender is very convenient for working with BVH data, and Visual3D is very convenient for working with C3D data.\n",
    "* There are no single, industry-wide data formats or software packages for motion capture data.\n"
   ]
  }
 ],
 "metadata": {
  "kernelspec": {
   "display_name": "Python 3",
   "language": "python",
   "name": "python3"
  },
  "language_info": {
   "codemirror_mode": {
    "name": "ipython",
    "version": 3
   },
   "file_extension": ".py",
   "mimetype": "text/x-python",
   "name": "python",
   "nbconvert_exporter": "python",
   "pygments_lexer": "ipython3",
   "version": "3.6.10"
  }
 },
 "nbformat": 4,
 "nbformat_minor": 4
}
