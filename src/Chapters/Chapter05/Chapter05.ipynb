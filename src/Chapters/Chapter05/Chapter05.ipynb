{
 "cells": [
  {
   "cell_type": "markdown",
   "metadata": {},
   "source": [
    "<img src=\"img/logo.png\" alt=\"logo\" align=\"center\">"
   ]
  },
  {
   "cell_type": "markdown",
   "metadata": {},
   "source": [
    "<br>\n",
    "<br>\n",
    "\n",
    "# **Chapter 5** &nbsp; &nbsp; <span style=\"color:#C13213\">Kinematics III:</span> &nbsp; <span style=\"color:#5D6D7E\">3D Motion</span>\n",
    "\n",
    "<br>\n",
    "<br>"
   ]
  },
  {
   "cell_type": "markdown",
   "metadata": {},
   "source": [
    "___\n",
    "\n",
    "<a name=\"toc\"></a>\n",
    "# Table of Contents\n",
    "\n",
    "* [3D Linear Motion](#linear3d)\n",
    "* [3D Angular Motion](#angular3d)\n",
    "* [3D Rotation Complexities](#complex)\n",
    "\t* [3D Rotations Are Confusing](#confusing)\n",
    "\t* [Hyperpherical Motion](#hyperspher)\n",
    "\t* [Quantifying 3D Rotations](#quantify)\n",
    "\t\t* [Rotation Matrices](#matrix)\n",
    "\t\t* [Quaternions](#quaternion)\n",
    "\t\t* [Euler Angles](#euler)\n",
    "* [Summary](#summary)\n"
   ]
  },
  {
   "cell_type": "markdown",
   "metadata": {},
   "source": [
    "____\n",
    "\n",
    "<a name=\"linear3d\"></a>\n",
    "# <span style=\"color:#000000\">3D Linear Motion</span>\n",
    "[Back to Table of Contents](#toc)\n",
    "<br>\n",
    "<br>\n",
    "\n",
    "* 3D linear motion is not very different from 2D linear motion\n",
    "    * Position, velocity and acceleration are described using vectors\n",
    "    * The vectors have two components for 2D motion, and three components for 3D motion\n",
    "\n",
    "<br>\n",
    "\n",
    "* We live in a 3D world\n",
    "    * Most linear motion goals in human movement goals are 3D \n",
    "        * e.g. move hand from one XYZ position to another XYZ position\n",
    "\n",
    "<br>\n",
    "\n",
    "* 2D vs 3D analysis (general)\n",
    "    * 3D motion analysis is usually more realistic than 2D analysis\n",
    "    * 2D motion is usually used to analyze specific, isolated systems  (e.g. bone motion in an x-ray)\n",
    "    * Often 3D motion is measured, then analyzed in a 2D manner (like your Final Projects for this course!)\n",
    "    * 2D analysis is easier partly because of 3D rotation complexities (see below)\n",
    "\n",
    "<br>\n",
    "\n",
    "* Practical challenges:\n",
    "    * Data visualization\n",
    "        * It is much easier to visualize in 2D than in 3D\n",
    "            * Obvious for position (static objects)\n",
    "            * Less obvious for velocity (moving objects)\n",
    "        * 3D visualization usually requires motion / animation of BOTH the target object and its environment\n",
    "        * We cannot perceive 3D structure in 2D images due to [binocular dispaity](https://en.wikipedia.org/wiki/Binocular_disparity)\n",
    "            * The slighlty different images entering our left and right eyes allow us to perceive depth, and thus the 3D world\n",
    "            * Virtual Reality (and 3D glasses) fool our brains into perceiving 3D structure by sending slightly different 2D images to our two eyes\n",
    "        * It is very difficult to create understandable 3D visualizations for scientific publications\n",
    "    * Data management\n",
    "        * 3D data requires more storage space than 2D data\n",
    "            * 1.5 times more linear motion data (2D: $xy$, 3D: $xyz$)\n",
    "        * Not a problem for small experiments (~ 1 GB of data)\n",
    "        * A bigger problem for large experiments (~1 TB of data)\n",
    "    * Data conventions\n",
    "        * Conventions are easy for 2D data\n",
    "            * e.g. +X is forward and +Y is up\n",
    "        * Conventions are much more difficult for 3D data\n",
    "            * should +Y be up?\n",
    "            * should +Z be up?"
   ]
  },
  {
   "cell_type": "markdown",
   "metadata": {},
   "source": [
    "____\n",
    "\n",
    "<a name=\"angular3d\"></a>\n",
    "# <span style=\"color:#000000\">3D Angular Motion</span>\n",
    "[Back to Table of Contents](#toc)\n",
    "<br>\n",
    "<br>\n",
    "\n",
    "* In 2D systems, there is just one rotation axis, and just one rotation angle ($\\theta$)\n",
    "* In 3D systems, there are three orthogonal rotation axes (XYZ)\n",
    "* However, accurately specifying 3D rotations requires more than three values (see below)\n",
    "\n",
    "<br>\n",
    "\n",
    "* Practical challenges:\n",
    "    * Data visualization\n",
    "        * Similar challenges to linear 3D motion visualization\n",
    "    * Data management\n",
    "        * 3D data requires more storage space than 2D data\n",
    "            * $>$3 times more angular motion data  (2D: $z$, 3D: $xyz+$)\n",
    "            * Net: approximately 5 times more data (2D vs. 3D)\n",
    "        * A problem for large experiments (~1 TB of data)\n",
    "    * Data conventions\n",
    "        * Conventions are much more difficult for 3D data\n",
    "            * should the three rotational axes correspond to anatomical axes?\n",
    "            * can injury or disease affect the anatomical axes? (i.e., the axes about which bones usually rotate)\n",
    "            * what is a \"normal\" or \"healthy\" set of rotational axes?\n",
    "            * how should 3D rotations be reported?"
   ]
  },
  {
   "cell_type": "markdown",
   "metadata": {},
   "source": [
    "\n",
    "____\n",
    "\n",
    "<a name=\"complex\"></a>\n",
    "# <span style=\"color:#000000\">3D Rotation Complexities</span>\n",
    "[Back to Table of Contents](#toc)\n",
    "<br>\n",
    "<br>\n",
    "\n",
    "* A number of practical and mathematical factors make 3D rotations quite complex.\n",
    "* These complexities are largely solved for robots and other mechanical engineering systems.\n",
    "* However, human systems are non-ideal mechanically, and these complexities can pose major problems for analyzing and understanding human motion.\n",
    "\n",
    "<br>\n",
    "<br>\n",
    "<br>"
   ]
  },
  {
   "cell_type": "markdown",
   "metadata": {},
   "source": [
    "<a name=\"confusing\"></a>\n",
    "## <span style=\"color:#000000\">3D Rotations Are Confusing</span>\n",
    "[Back to Table of Contents](#toc)\n",
    "<br>\n",
    "<br>\n",
    "\n",
    "Let's consider the 3D object depicted in Fig.1 below.  This object looks a bit like a book, so let's call it a \"book\".\n",
    "\n",
    "The book has some text written on two sides.  It also has two blue dots and two red dots;  only of each colored dot can be seen from this static view, but we shall see in the animations below that there is another identically colored dot on the opposite side of each.\n",
    "\n",
    "<br>\n",
    "<br>"
   ]
  },
  {
   "cell_type": "markdown",
   "metadata": {},
   "source": [
    "<center>\n",
    "    <img src=\"img/object.jpg\" alt=\"image\" width=\"500\"/>\n",
    "    <br>\n",
    "    <em>Figure 1. &nbsp; A 3D object that we will sequentially rotate about axes indicated as blue and red dots. </em>\n",
    "</center>\n",
    "\n"
   ]
  },
  {
   "cell_type": "markdown",
   "metadata": {},
   "source": [
    "<br>\n",
    "<br>\n",
    "<br>\n",
    "\n",
    "Let's rotate this book using two sets of sequential rotations:\n",
    "\n",
    "1. Rotate 90 deg about the red axis, then 90 deg about the blue axis.\n",
    "2. Rotate 90 deg about the blue axis, then 90 deg about the red axis.\n",
    "\n",
    "What will happen?  Let's see...\n",
    "\n",
    "<br>\n",
    "<br>\n",
    "<br>\n",
    "\n",
    "Here is the result of the first rotation sequence... \n",
    "\n",
    "<br>\n",
    "<br>\n",
    "<br>\n"
   ]
  },
  {
   "cell_type": "code",
   "execution_count": 8,
   "metadata": {},
   "outputs": [
    {
     "data": {
      "text/html": [
       "\n",
       "<video width=\"600\" controls>\n",
       "  <source src=\"video/1-red-blue.mp4\" type=\"video/mp4\">\n",
       "</video>\n"
      ],
      "text/plain": [
       "<IPython.core.display.HTML object>"
      ]
     },
     "execution_count": 8,
     "metadata": {},
     "output_type": "execute_result"
    }
   ],
   "source": [
    "from IPython.display import HTML\n",
    "\n",
    "HTML(\"\"\"\n",
    "<video width=\"600\" controls>\n",
    "  <source src=\"video/1-red-blue.mp4\" type=\"video/mp4\">\n",
    "</video>\n",
    "\"\"\")"
   ]
  },
  {
   "cell_type": "markdown",
   "metadata": {},
   "source": [
    "<br>\n",
    "<br>\n",
    "<br>\n",
    "\n",
    "... and here is the result of the second rotation sequence... \n",
    "\n",
    "<br>\n",
    "<br>\n",
    "<br>"
   ]
  },
  {
   "cell_type": "code",
   "execution_count": 9,
   "metadata": {},
   "outputs": [
    {
     "data": {
      "text/html": [
       "\n",
       "<video width=\"600\" controls>\n",
       "  <source src=\"video/2-blue-red.mp4\" type=\"video/mp4\">\n",
       "</video>\n"
      ],
      "text/plain": [
       "<IPython.core.display.HTML object>"
      ]
     },
     "execution_count": 9,
     "metadata": {},
     "output_type": "execute_result"
    }
   ],
   "source": [
    "from IPython.display import HTML\n",
    "\n",
    "HTML(\"\"\"\n",
    "<video width=\"600\" controls>\n",
    "  <source src=\"video/2-blue-red.mp4\" type=\"video/mp4\">\n",
    "</video>\n",
    "\"\"\")"
   ]
  },
  {
   "cell_type": "markdown",
   "metadata": {},
   "source": [
    "<br>\n",
    "<br>\n",
    "<br>\n",
    "\n",
    "**3D rotations ARE confusing!!!**\n",
    "\n",
    "If you would like to verify this result for yourself, use the unwrapped image in Fig.2 below as a guide, and mark a book or box or other object accordingly, then repeat this rotation experiment.\n",
    "\n",
    "<br>\n",
    "<br>\n",
    "<br>"
   ]
  },
  {
   "cell_type": "markdown",
   "metadata": {},
   "source": [
    "<center>\n",
    "    <img src=\"img/unwrapped.jpg\" alt=\"image\" width=\"500\"/>\n",
    "    <br>\n",
    "    <em>Figure 2. &nbsp; Unwrapped object (i.e., surfaces flattened on to a 2D surface.)</em>\n",
    "</center>"
   ]
  },
  {
   "cell_type": "markdown",
   "metadata": {},
   "source": [
    "<br>\n",
    "<br>\n",
    "<br>\n",
    "\n",
    "How is this possible?  It seems that the two rotation sequences should yield an identical result.\n",
    "\n",
    "The easiest answer is: 3D rotations are sequence-dependent.\n",
    "\n",
    "However, this is not really an answer, because it just restates what we can see in the videos above.\n",
    "\n",
    "The real answer to this question is rather complex. Nevertheless, the basic concept is simple: more than 3 values are required to unambiguously specify a 3D rotation. We shall see why below.\n",
    "\n",
    "\n",
    "<br>\n",
    "<br>\n",
    "<br>"
   ]
  },
  {
   "cell_type": "markdown",
   "metadata": {},
   "source": [
    "<a name=\"hyperspher\"></a>\n",
    "## <span style=\"color:#000000\">Hyperspherical Motion</span>\n",
    "[Back to Table of Contents](#toc)\n",
    "<br>\n",
    "<br>\n",
    "\n",
    "Let's imagine that the angular positions around three orthogonal axes are $\\phi_1$, $\\phi_2$ and $\\phi_3$.\n",
    "\n",
    "Let's first consider just $\\phi_1$, and a single point A, that is 1 m away from its rotation axis.\n",
    "* Imagine that only $\\phi_1$ varies, and that $\\phi_2$ and $\\phi_3$ are constant\n",
    "* As $\\phi_1$ varies from 0 to $2\\pi$, the point A traces around a circle.\n",
    "* A circle is a **2D shape**.\n",
    "\n",
    "Now let's consider just two angles: $\\phi_1$ and $\\phi_2$ <span style=\"color:red\">(see Fig.3 below)</span>\n",
    "* Imagine that both $\\phi_1$ and $\\phi_2$ vary, and that $\\phi_3$ is constant\n",
    "* As $\\phi_1$ and $\\phi_2$ both vary from 0 to $2\\pi$, the point A moves over the surface of a sphere.\n",
    "* A sphere is a **3D shape**.\n",
    "\n",
    "Now you can see where this discussion is heading...\n",
    "\n",
    "* When all three angles vary, point A moves over the surface of a hypersphere.\n",
    "* A hypersphere (in this case) is a **4D shape**\n",
    "\n",
    "Therefore, the geometry implied by three independent angles is actually 4D.\n",
    "\n",
    "And it is impossible to visualize a 4D shape (at least on a computer screen), so it is difficult to imagine how the three angles' movements interact with one another. \n",
    "\n",
    "This hypershperical nature of 3D rotations is one complexity that makes it challenging to understand 3D rotations.\n",
    "\n",
    "<br>\n",
    "<br>\n",
    "<br>\n"
   ]
  },
  {
   "cell_type": "markdown",
   "metadata": {},
   "source": [
    "<center>\n",
    "    <img src=\"img/spherical.jpg\" alt=\"image\" width=\"500\"/>\n",
    "    <br>\n",
    "    <em>Figure 3. &nbsp; Two independently varying angles cause a point A (which is a constant distance from the origin) to trace over the surface of a sphere. <b>Three</b> angles cause A to trace over the surface of a <b>hypersphere</b> (not depicted).</em>\n",
    "</center>\n",
    "\n",
    "<br>\n",
    "<br>\n",
    "<br>"
   ]
  },
  {
   "cell_type": "markdown",
   "metadata": {},
   "source": [
    "\n",
    "<a name=\"quantify\"></a>\n",
    "## <span style=\"color:#000000\">Quantifying 3D Rotations</span>\n",
    "[Back to Table of Contents](#toc)\n",
    "<br>\n",
    "<br>\n",
    "\n",
    "There are three main methods for quantifying 3D rotations:\n",
    "\n",
    "* Rotation matrices\n",
    "* Quaternions\n",
    "* Euler angles"
   ]
  },
  {
   "cell_type": "markdown",
   "metadata": {},
   "source": [
    "<a name=\"matrix\"></a>\n",
    "### <span style=\"color:#000000\">Rotation Matrices</span>\n",
    "[Back to Table of Contents](#toc)\n",
    "<br>\n",
    "<br>\n",
    "\n",
    "A 3D rotation can be written as:\n",
    "\n",
    "\\begin{align}\n",
    "\\vec{r}_1  &= \\matrix{R}\\vec{r}_0\n",
    "\\end{align}\n",
    "\n",
    "where $\\vec{r}_0$ and $\\vec{r}_1$ are the 3D positions before and after rotation, respectively, and where $\\matrix{R}$ is a **rotation matrix** that transforms a 3D position vector to a new position.\n",
    "\n",
    "$\\matrix{R}$  is 3 x 3 (9-component) matrix, and if you read about [rotation matrices on Wikipedia](https://en.wikipedia.org/wiki/Rotation_matrix), you will see that they are rather complex. For example, the matrix below describes $\\matrix{R}$ when the axis of rotation $\\vec{u}$ and angle $\\theta$ are known.\n",
    "\n",
    "<br>\n",
    "<br>\n",
    "<br>\n"
   ]
  },
  {
   "cell_type": "markdown",
   "metadata": {},
   "source": [
    "\\begin{align}\n",
    "\\matrix{R} =\n",
    "\\begin{bmatrix} \n",
    "\\cos \\theta +u_x^2 \\left(1-\\cos \\theta\\right) & u_x u_y \\left(1-\\cos \\theta\\right) - u_z \\sin \\theta & u_x u_z \\left(1-\\cos \\theta\\right) + u_y \\sin \\theta \\\\ \n",
    "u_y u_x \\left(1-\\cos \\theta\\right) + u_z \\sin \\theta & \\cos \\theta + u_y^2\\left(1-\\cos \\theta\\right) & u_y u_z \\left(1-\\cos \\theta\\right) - u_x \\sin \\theta \\\\ \n",
    "u_z u_x \\left(1-\\cos \\theta\\right) - u_y \\sin \\theta & u_z u_y \\left(1-\\cos \\theta\\right) + u_x \\sin \\theta & \\cos \\theta + u_z^2\\left(1-\\cos \\theta\\right)\n",
    "\\end{bmatrix}\n",
    "\\end{align}\n"
   ]
  },
  {
   "cell_type": "markdown",
   "metadata": {},
   "source": [
    "<br>\n",
    "<br>\n",
    "<br>\n",
    "\n",
    "For this course, we don't need to understand this matrix or its elements.\n",
    "\n",
    "The points relevant to this course are:\n",
    "\n",
    "* Rotation matrices unambiguosly specify 3D rotations\n",
    "* However, they have 9 different values (actually, 6 unique values)\n",
    "* Regardless of whether there are 9 values or 6 values, there are many more values than the 3 values ($\\phi_1$, $\\phi_2$, $\\phi_3$) that we used to start this discussion of 3D rotations\n",
    "\n",
    "<br>\n",
    "<br>\n",
    "<br>\n"
   ]
  },
  {
   "cell_type": "markdown",
   "metadata": {},
   "source": [
    "<a name=\"quaternion\"></a>\n",
    "### <span style=\"color:#000000\">Quaternions</span>\n",
    "[Back to Table of Contents](#toc)\n",
    "<br>\n",
    "<br>\n",
    "\n",
    "\n",
    "* [Quaternions](https://en.wikipedia.org/wiki/Quaternion) are four-component vectors.\n",
    "* Like rotation matrices, quaternions unambiguously specify 3D rotations\n",
    "* The main advantages of quaternions are:\n",
    "    * More compact information than rotation matrices (i.e., less data storage)\n",
    "    * Computationally efficient (generally fewer calculations required than rotation matrices)\n",
    "    * Unambiguous 3D rotation specification\n",
    "* The main disadvantages of quaternions are:\n",
    "    * Abstract parameters that can be difficult to understand\n",
    "    * Not useful for describing human joint motion\n",
    "    \n",
    "For these reasons, quaternions have become the standard 3D rotation tool in robotics, computer graphics and other engineering applications involving 3D rotations.\n",
    "\n",
    "However, also for these reasons, quaternions are almost never used to describe 3D human movement;  the 4 quaternion values cannot be readily interpreted in terms of human anatomy."
   ]
  },
  {
   "cell_type": "markdown",
   "metadata": {},
   "source": [
    "<a name=\"euler\"></a>\n",
    "### <span style=\"color:#000000\">Euler Angles</span>\n",
    "[Back to Table of Contents](#toc)\n",
    "<br>\n",
    "<br>\n",
    "\n",
    "* [Euler angles](https://en.wikipedia.org/wiki/Euler_angles), named after the eminent scientist and mathematician [Leonhard Euler](https://en.wikipedia.org/wiki/Leonhard_Euler), include (1) a sequence of 3 rotational angles, and (2) a convention for interpreting those three angles.\n",
    "* Like all angles, the three angles vary between 0 and $2\\pi$\n",
    "    * The individual angles are therefore easy to understand\n",
    "* The convention is a sequence (e.g. \"XYZ\", \"YZX\", \"XZY\") that specifies which axes the 3 angles correspond to, and in what order the rotations are performed\n",
    "    * The videos above illustrate why the **order** of axes is important;  changing the order results in a different 3D rotation!\n",
    "* There are a total of 12 different conventions\n",
    "* The main advantages of Euler angles are:\n",
    "    * They are compact, requiring only 3+ values (three values plus a convention)\n",
    "    * The rotation axes generally correspond to well-defined axes (e.g. a body's anatomical axes)\n",
    "    * When everyone understands the convention, they are easy to interpret\n",
    "* The main disadvantages of Euler angles are:\n",
    "    * They can be impossible to compute for certain rotations (e.g., as the angles approach multiples of $\\pi$, trigonometric function values aproach zero, resulting in numerical instability)\n",
    "    * They require a clear, agreed-upon convention, otherwise the values cannot be interpreted\n",
    "    \n",
    "\n",
    "For these reasons, scientific analyses of human movement almost exclusively uses Euler angles to describe 3D rotations.\n",
    "\n",
    "The scientific community has evidently judged that the advantages of Euler angles' interpretability outweigh its disadvantages.\n",
    "\n"
   ]
  },
  {
   "cell_type": "markdown",
   "metadata": {},
   "source": [
    "____\n",
    "\n",
    "<a name=\"summary\"></a>\n",
    "# <span style=\"color:#000000\">Summary</span>\n",
    "[Back to Table of Contents](#toc)\n",
    "<br>\n",
    "<br>\n",
    "\n",
    "* 3D linear motion is relatively easy, and not much more difficult than 2D linear motion\n",
    "* 3D motion, in general, is difficult to visualize\n",
    "* 3D rotations are confusing!\n",
    "* Many different methods exist for quantifying 3D rotations including especially: rotation matrices, quaternions and Euler angles\n",
    "* No method is perfect: each method has advantages and disadvantages\n",
    "* Scientific analyses of human movement usually use Euler angles because they can generally be interpreted more easily than other 3D rotation quantifications "
   ]
  }
 ],
 "metadata": {
  "kernelspec": {
   "display_name": "Python 3",
   "language": "python",
   "name": "python3"
  },
  "language_info": {
   "codemirror_mode": {
    "name": "ipython",
    "version": 3
   },
   "file_extension": ".py",
   "mimetype": "text/x-python",
   "name": "python",
   "nbconvert_exporter": "python",
   "pygments_lexer": "ipython3",
   "version": "3.6.10"
  }
 },
 "nbformat": 4,
 "nbformat_minor": 4
}
