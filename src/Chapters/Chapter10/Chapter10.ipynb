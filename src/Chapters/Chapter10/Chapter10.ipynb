{
 "cells": [
  {
   "cell_type": "markdown",
   "metadata": {},
   "source": [
    "<img src=\"img/logo.png\" alt=\"logo\" align=\"center\">"
   ]
  },
  {
   "cell_type": "markdown",
   "metadata": {},
   "source": [
    "<br>\n",
    "<br>\n",
    "\n",
    "# **Chapter 10** &nbsp; &nbsp; <span style=\"color:#C13213\">Kinematic Chains II: &nbsp; Inverse Kinematics</span>\n",
    "\n",
    "<br>\n",
    "\n",
    "This chapter describes inverse kinematics (IK), why it is a generally difficult problem, and how it relates to human movement control and human movement measurement.\n",
    "\n",
    "<br>\n",
    "<br>"
   ]
  },
  {
   "cell_type": "markdown",
   "metadata": {},
   "source": [
    "___\n",
    "\n",
    "<a name=\"toc\"></a>\n",
    "# Table of Contents\n",
    "\n",
    "* [What is inverse kinematics (IK)?](#what)\n",
    "* [Why are IK calculations difficult?](#why)\n",
    "* [IK solution for two-link kinematic chain](#twolink)\n",
    "* [Use of IK in human movement studies](#uses)\n",
    "* [Summary](#summary)"
   ]
  },
  {
   "cell_type": "markdown",
   "metadata": {},
   "source": [
    "____\n",
    "\n",
    "<a name=\"what\"></a>\n",
    "# <span style=\"color:#000000\">What is inverse kinematics (IK)?</span>\n",
    "[Back to Table of Contents](#toc)\n",
    "<br>\n",
    "<br>\n",
    "\n",
    "* Inverse kinematics (IK) refers to the process of calculating internal coordinates from a set of known external coordinates.\n",
    "* This is the opposite of forward kinematics (FK), which aims to calculate external coordinates given known internal coordinates (*see Fig.1 and the previous chapter*)\n",
    "* For kinematic chains, the internal coordinates are joint angles, and the external coordinates are usuall the position(s) of external points.\n",
    "* The external points are often endpoint positions, like in Video 1 below.\n",
    "* The external points can also be marker positions (like in motion capture).\n",
    "\n",
    "<br>\n",
    "<br>"
   ]
  },
  {
   "cell_type": "markdown",
   "metadata": {},
   "source": [
    "<center>\n",
    "    <img src=\"img/fk-ik.png\" alt=\"image\" width=\"600\"/>\n",
    "    <br>\n",
    "    <br>\n",
    "    <em><b>Figure 1</b>. &nbsp; Overview of the relation between forward and inverse kinematics for a robot manipulator.<br> Robot manipulator image reproduced here under the Pixabay License. <a href=\"https://pixabay.com/illustrations/cybernetics-robot-robot-arm-1869205/\">Original image source.</a></em>\n",
    "</center>\n",
    "<br>\n",
    "<br>\n",
    "<br>\n",
    "<br>"
   ]
  },
  {
   "cell_type": "code",
   "execution_count": 2,
   "metadata": {},
   "outputs": [
    {
     "data": {
      "text/html": [
       "\n",
       "<center>\n",
       "<video width=\"600\" controls>\n",
       "  <source src=\"video/ik.mp4\" type=\"video/mp4\">\n",
       "</video>\n",
       "<br>\n",
       "<em><b>Video 1</b>. &nbsp; Example IK control of a kinematic chain. During the first 10 s of this video, the external controller's influence (the green marker's influence) is toggled on and off. For the remainder of the video the controller is dragged in space to demonstrate near-real-time IK. Video screencast produced in <a href=\"https://www.blender.org\">Blender</a>.</em>\n",
       "</center>\n"
      ],
      "text/plain": [
       "<IPython.core.display.HTML object>"
      ]
     },
     "execution_count": 2,
     "metadata": {},
     "output_type": "execute_result"
    }
   ],
   "source": [
    "from IPython.display import HTML\n",
    "\n",
    "HTML(\"\"\"\n",
    "<center>\n",
    "<video width=\"600\" controls>\n",
    "  <source src=\"video/ik.mp4\" type=\"video/mp4\">\n",
    "</video>\n",
    "<br>\n",
    "<em><b>Video 1</b>. &nbsp; Example IK control of a kinematic chain. During the first 10 s of this video, the external controller's influence (the green marker's influence) is toggled on and off. For the remainder of the video the controller is dragged in space to demonstrate near-real-time IK. Video screencast produced in <a href=\"https://www.blender.org\">Blender</a>.</em>\n",
    "</center>\n",
    "\"\"\")"
   ]
  },
  {
   "cell_type": "markdown",
   "metadata": {},
   "source": [
    "<br>\n",
    "<br>\n",
    "<br>\n",
    "\n",
    "### Relevance to human movement:\n",
    "\n",
    "* In most human movement experiments, it is not possible to directly measure joint angles.\n",
    "    * Direct measurement of joint angle would require sensors to be implanted directly in the joints and/or bones.\n",
    "    * Sensor implantation is possible in some cases (e.g. amputee joints and artificial joints).\n",
    "    * In other cases sensor implanation is usually not considered ethical.\n",
    "        * The physical trauma and risks of surgery generally outweigh the benefits of increased measurement accuracy.\n",
    "        * This is especially true given that IK can be quite accurate.\n",
    "* It is relatively easy to attach markers to moving body parts and to record marker motion.\n",
    "    * Based on that marker motion, researchers use IK to calculate joint motion.\n",
    "\n",
    "<br>\n",
    "<br>"
   ]
  },
  {
   "cell_type": "markdown",
   "metadata": {},
   "source": [
    "____\n",
    "\n",
    "<a name=\"why\"></a>\n",
    "# <span style=\"color:#000000\">Why are IK calculations difficult?</span>\n",
    "[Back to Table of Contents](#toc)\n",
    "<br>\n",
    "<br>\n",
    "\n",
    "* IK calculations are much more difficult than FK calculations, even for simple kinematic chains.\n",
    "* To explain why, let's first consider a two-link planar kinematic chain (Fig.2).\n",
    "    * For a given endpoint position C, there are two IK solutions.\n",
    "    * How does one know which solution is correct?\n",
    "    * If B represents a joint like the elbow, then only one of these solutions is anatomically possible.\n",
    "    * If both solutions are anatomically feasible:\n",
    "        * If the IK goal is marker-based estimation of joint angle, markers must be attached to positions other than A and C.\n",
    "        * If the IK goal is to move the kinematic chain from a different endpoint C' (not shown in Fig.2) to the given endpoint C (as in robotic manipulators), usually the closest solution is chosen, where \"closest\" means the smallest change from the current posture.\n",
    "* This is a simple, 2D kinematic chain, but already IK considerations are complex!"
   ]
  },
  {
   "cell_type": "markdown",
   "metadata": {},
   "source": [
    "<center>\n",
    "    <img src=\"img/ik-2link-1.png\" alt=\"image\" width=\"300\"/>\n",
    "</center>\n",
    "<br>\n",
    "<br>"
   ]
  },
  {
   "cell_type": "markdown",
   "metadata": {},
   "source": [
    "<center>\n",
    "    <img src=\"img/ik-2link-2.png\" alt=\"image\" width=\"300\"/>\n",
    "    <br>\n",
    "    <br>\n",
    "    <em><b>Figure 2</b> (Top) Two-link kinematic chain. (Bottom) Two different solutions to the IK problem.</em>\n",
    "</center>\n",
    "\n",
    "<br>\n",
    "<br>\n",
    "<br>\n",
    "<br>\n",
    "<br>\n",
    "<br>"
   ]
  },
  {
   "cell_type": "markdown",
   "metadata": {},
   "source": [
    "* Let's next consider a three-link planar kinematic chain (Fig.3).\n",
    "    * For a given endpoint position C, there are an infinite number of IK solutions.\n",
    "    * This makes it much more difficult to choose a specific IK solution.\n",
    "    * Like the two-link example above:\n",
    "        * If the IK goal is marker-based estimation of joint angle, markers must be attached to all links to solve this problem.\n",
    "        * If the IK goal is to move the kinematic chain from a different endpoint D' (not shown in Fig.2) to the given endpoint D (as in robotic manipulators), then the solution closest to the current posture is usually chosen.\n",
    "    "
   ]
  },
  {
   "cell_type": "markdown",
   "metadata": {},
   "source": [
    "<center>\n",
    "    <img src=\"img/ik-3link-1.png\" alt=\"image\" width=\"300\"/>\n",
    "</center>\n",
    "<br>\n",
    "<br>"
   ]
  },
  {
   "cell_type": "markdown",
   "metadata": {},
   "source": [
    "<center>\n",
    "    <img src=\"img/ik-3link-2.png\" alt=\"image\" width=\"300\"/>\n",
    "    <br>\n",
    "    <br>\n",
    "    <em><b>Figure 3</b> (Top) Three-link kinematic chain. (Bottom) Infinite solutions to the IK problem.</em>\n",
    "</center>\n",
    "\n",
    "<br>\n",
    "<br>\n",
    "<br>\n",
    "<br>\n",
    "<br>\n",
    "<br>"
   ]
  },
  {
   "cell_type": "markdown",
   "metadata": {},
   "source": [
    "____\n",
    "\n",
    "<a name=\"twolink\"></a>\n",
    "# <span style=\"color:#000000\">IK solution for two-link kinematic chain</span>\n",
    "[Back to Table of Contents](#toc)\n",
    "<br>\n",
    "<br>\n",
    "\n",
    "One solution to the two-link IK problem is:\n",
    "\n",
    "<br>\n",
    "<br>\n",
    "\n",
    "\n",
    "\\begin{align}\n",
    "\\phi_1 & = \\tan^{-1}\\left(   \\frac{y_C}{x_C}   \\right)  - \\tan^{-1}\\left(   \\frac{L_2 \\sin\\phi_2}{L_1 + L_2\\cos\\phi_2}   \\right)\\\\ \\\\\n",
    "\\phi_2 & = 2 \\tan^{-1} \\sqrt{ \\frac{(L_1 + L_2)^2 - (x^2_C + y^2_C)}{ (x^2_C + y^2_C) - (L_1 + L_2)^2} } \\\\ \\\\\n",
    "\\end{align}\n",
    "\n",
    "\n",
    "<br>\n",
    "<br>\n",
    "\n",
    "where ($x_C$, $y_C$) is the location of point C, $L$ is segment length and $\\phi$ is joint angle (see Fig.2).\n",
    "\n",
    "<br>\n",
    "<br>\n",
    "\n",
    "\n",
    "* This solution is relatively easy to calculate using geometric principles.\n",
    "* However, the final IK solution is very difficult to understand!\n",
    "* Here are two screencasts that describe the solution in greater detail:\n",
    "    * [Inverse Kinematics for a 2-Joint Robot Arm @ robotacademy.net](https://robotacademy.net.au/lesson/inverse-kinematics-for-a-2-joint-robot-arm-using-geometry/)\n",
    "    * [Two Link Inverse Kinematics using Jupyter](https://www.youtube.com/watch?v=V4s4Vd2BLi4)\n",
    "* IK solutions become considerably more complex when there are more links and/or when the joints allow 3D motion.\n",
    "\n"
   ]
  },
  {
   "cell_type": "markdown",
   "metadata": {},
   "source": [
    "____\n",
    "\n",
    "<a name=\"uses\"></a>\n",
    "# <span style=\"color:#000000\">Uses of IK in human movement studies</span>\n",
    "[Back to Table of Contents](#toc)\n",
    "<br>\n",
    "<br>\n",
    "\n",
    "* The main use of IK in human movement research is: marker-based calculation of joint kinematics using motion capture systems\n",
    "    * Hundreds of experiments like this are conducted each day around the world.\n",
    "    * Marker-based IK is often used to calculate 3D angles for 10 or more joints in one measurement.\n",
    "* IK is also used in optimization research\n",
    "    * For example: calculating the joint kinematics required to achieve optimum performance (e.g. fastest baseball pitch);  in this case the IK goal refers to endpoint velocity, and not necessarily position. These calculations are even more difficult!\n",
    "* IK is also used in orthopaedic research\n",
    "    * For example: calculating the artificial joint characteristics necessary to achieve specific kinematics.\n",
    "* Many different software packages exist for calculating IK. Two common software packages are:\n",
    "    * [OpenSim](https://simtk.org/projects/opensim)\n",
    "    * [Visual3D](http://www.yubnub.org/parser/parse?command=g%20cmotion%20visual3d)\n",
    "* IK calculation remains an active area of research;  new and improved IK techniques are regularly introduced\n"
   ]
  },
  {
   "cell_type": "markdown",
   "metadata": {},
   "source": [
    "____\n",
    "\n",
    "<a name=\"summary\"></a>\n",
    "# <span style=\"color:#000000\">Summary</span>\n",
    "[Back to Table of Contents](#toc)\n",
    "<br>\n",
    "<br>\n",
    "\n",
    "* Inverse kinematics (IK) refers to the process of calculating internal coordinates given external coordinates.\n",
    "* For human movement studies, IK is regularly used to calculate joint angles based on external marker positions.\n",
    "* IK is much more complex than forward kinematics (FK) because there are generally an infinite number of solutions that satisfy a specific IK problem.\n",
    "* IK solutions are quite complex even for a two-link 2D kinematic chains!\n",
    "* IK research remains active in both human movement research and robotics research.\n"
   ]
  }
 ],
 "metadata": {
  "kernelspec": {
   "display_name": "Python 3",
   "language": "python",
   "name": "python3"
  },
  "language_info": {
   "codemirror_mode": {
    "name": "ipython",
    "version": 3
   },
   "file_extension": ".py",
   "mimetype": "text/x-python",
   "name": "python",
   "nbconvert_exporter": "python",
   "pygments_lexer": "ipython3",
   "version": "3.6.10"
  }
 },
 "nbformat": 4,
 "nbformat_minor": 4
}
