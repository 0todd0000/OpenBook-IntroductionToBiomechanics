{
 "cells": [
  {
   "cell_type": "markdown",
   "metadata": {},
   "source": [
    "<img src=\"img/logo.png\" alt=\"logo\" align=\"center\">"
   ]
  },
  {
   "cell_type": "markdown",
   "metadata": {},
   "source": [
    "<br>\n",
    "<br>\n",
    "\n",
    "# **Chapter 12** &nbsp; &nbsp; <span style=\"color:#C13213\">Dynamics II:</span> &nbsp; <span style=\"color:#5D6D7E\">External Forces</span>\n",
    "\n",
    "<br>\n",
    "\n",
    "This chapter describes external forces and how they relate to human movement.\n",
    "\n",
    "<br>\n",
    "<br>"
   ]
  },
  {
   "cell_type": "markdown",
   "metadata": {},
   "source": [
    "___\n",
    "\n",
    "<a name=\"toc\"></a>\n",
    "# Table of Contents\n",
    "\n",
    "* [What are external forces?](#what)\n",
    "* [Gravity](#gravity)\n",
    "* [Ground reaction forces](#grf)\n",
    "* [Summary](#summary)"
   ]
  },
  {
   "cell_type": "markdown",
   "metadata": {},
   "source": [
    "____\n",
    "\n",
    "<a name=\"what\"></a>\n",
    "# <span style=\"color:#000000\">What are external forces?</span>\n",
    "[Back to Table of Contents](#toc)\n",
    "<br>\n",
    "<br>\n",
    "\n",
    "* An external force is a force that originates outside a body\n",
    "* External forces tend to affect the motion of a body's center of mass (COM)\n",
    "    * The COM will only accelerate if external forces are **not** balanced (i.e., when the net external force is zero)\n",
    "        * Think of holding opposite sides of a book, then pressing your hands together tightly (Fig.12.1a)\n",
    "        * In this case, your hands exert external forces on the book (Fig.12.1b)\n",
    "        * Each hand produces more force as you squeeze more tightly\n",
    "        * However, if the forces from your two hands are the same, the book will not accelerate\n",
    "* The two most important external forces (for the whole human body) are gravity and ground reaction force;  these are described below\n",
    "* However, the type(s) of external forces depend on the body you are considering\n",
    "    * For example, consider just the upper limb segment\n",
    "    * One external force to act on the upper limb is gravity\n",
    "    * Other external forces include: muscle forces and joint reaction forces (from the shoulder and elbow joints)\n"
   ]
  },
  {
   "cell_type": "markdown",
   "metadata": {},
   "source": [
    "<center>\n",
    "    <img src=\"img/fig-book.png\" alt=\"image\" width=\"800\"/>\n",
    "    <br>\n",
    "    <br>\n",
    "    <em><b>Figure 12.1</b>. &nbsp; Illustration of external forces. (a) Two fists compressing a book; neither the book nor the hands accelerate. (b) External forces acting on the book.  (c) External forces acting on the hand.  <a href=\"https://pixabay.com/vectors/fist-human-clenched-fight-295159/\">Fist images</a> used under a Pixabay license.</a></em>\n",
    "</center>\n",
    "<br>\n",
    "<br>\n"
   ]
  },
  {
   "cell_type": "markdown",
   "metadata": {},
   "source": [
    "____\n",
    "\n",
    "<a name=\"gravity\"></a>\n",
    "# <span style=\"color:#000000\">Gravity</span>\n",
    "[Back to Table of Contents](#toc)\n",
    "<br>\n",
    "<br>\n",
    "\n",
    "* Gravity is a force that attracts two bodies together\n",
    "* On the surface of the Earth, the strength of gravity is approximately constant\n",
    "* If there are no other forces acting on an object that is near the Earth's surface, gravity causes the object to accelerate toward the center of the Earth at a rate of approximately 9.8 $\\textrm{ms}^{-2}$\n",
    "* The force of gravity acting on an object is called \"weight\"\n",
    "* An object's weight depends on its mass; more massive objects have greater weight\n",
    "* Mass is constant on Earth and in space, but weight is different"
   ]
  },
  {
   "cell_type": "markdown",
   "metadata": {},
   "source": [
    "### Relevance to human movement studies:\n",
    "\n",
    "* Gravity acts on our whole body, and this force is called \"body weight\"\n",
    "    * However, body weight is the sum of gravity's effects on all particles in our body\n",
    "    * Gravity effects each body segment\n",
    "    * When considering the dynamics of each body segment, one must include gravity in the analysis of that segment\n",
    "    * In order to consider the effects of gravity on individual body segments, all inertial properties of that body segment must be known (see previous chapter)"
   ]
  },
  {
   "cell_type": "markdown",
   "metadata": {},
   "source": [
    "____\n",
    "\n",
    "<a name=\"grf\"></a>\n",
    "# <span style=\"color:#000000\">Ground reaction force (GRF)</span>\n",
    "[Back to Table of Contents](#toc)\n",
    "<br>\n",
    "<br>\n",
    "\n",
    "#### Reaction forces:\n",
    "\n",
    "* A reaction force is a force that acts between two contacting bodies\n",
    "* When two bodies come into contact, body deformation produces forces that prevent the objects from penetrating each other\n",
    "    * These forces are equal in magnitude and opposite in direction\n",
    "    * Let's reconsider the book example above (Fig.12.1):\n",
    "        * Both the hand (and/or part of the body) and the book deform\n",
    "        * A variety of external contact forces exist, and to specify those forces, we first must define an isolated body or \"free body\"\n",
    "        * If we consider the book in isolation (Fig.12.1b), there are two external forces:\n",
    "            * Left hand force\n",
    "            * Right hand force\n",
    "            * When these forces are equal, the book will not accelerate\n",
    "        * If we consider one hand in isolation (Fig.12.1c), there are two different external forces:\n",
    "            * Joint reaction force from the wrist\n",
    "            * Reaction force from the book\n",
    "            * The joint reaction force is caused by muscle forces (see next chapter)\n",
    "* All bodies deform when contacted, even steel, and even the Earth!\n",
    "\n",
    "<br>\n",
    "<br>"
   ]
  },
  {
   "cell_type": "markdown",
   "metadata": {},
   "source": [
    "#### Ground reaction force (GRF):\n",
    "\n",
    "* GRF is the reaction force that acts between the ground and our body (usually our feet)\n",
    "* GRF is caused by deformation of the surface on which we stand\n",
    "* During quiet standing, when our body's COM is not accelerating, GRF is equal to our body weight but opposite in direction\n",
    "* In order to jump, we need to push harder against the ground, in order to deform the surface enough to generate a GRF that is greater than our body weight;  then our COM will accelerate upwards\n",
    "\n",
    "<br>\n",
    "<br>"
   ]
  },
  {
   "cell_type": "markdown",
   "metadata": {},
   "source": [
    "#### Relevance to human movement studies:\n",
    "\n",
    "* GRF can be easily and accurately measured with a [force platform](https://en.wikipedia.org/wiki/Force_platform)\n",
    "* Force platforms are expensive, but most human movement laboratories around the world have at least one force platform\n",
    "* GRF patterns during activities like walking and running have been thoroughly studied\n",
    "* GRF patterns can be used to assess movement disorders, and to help create rehabilitation plans"
   ]
  },
  {
   "cell_type": "markdown",
   "metadata": {},
   "source": [
    "____\n",
    "\n",
    "<a name=\"summary\"></a>\n",
    "# <span style=\"color:#000000\">Summary</span>\n",
    "[Back to Table of Contents](#toc)\n",
    "<br>\n",
    "<br>\n",
    "\n",
    "* External forces act on all bodies\n",
    "* The most common type of external forces are: gravity and reaction force\n",
    "* The most common types of reaction forces are ground reaction force and joint reaction force\n",
    "* Specifying which forces are \"external\" requires one to clearly define an isolated body\n",
    "* When external forces are balanced (i.e., the net external force is zero) the body does not accelerate, irrespective of the strength of individual external forces\n",
    "\n"
   ]
  }
 ],
 "metadata": {
  "kernelspec": {
   "display_name": "Python 3",
   "language": "python",
   "name": "python3"
  },
  "language_info": {
   "codemirror_mode": {
    "name": "ipython",
    "version": 3
   },
   "file_extension": ".py",
   "mimetype": "text/x-python",
   "name": "python",
   "nbconvert_exporter": "python",
   "pygments_lexer": "ipython3",
   "version": "3.6.10"
  }
 },
 "nbformat": 4,
 "nbformat_minor": 4
}
