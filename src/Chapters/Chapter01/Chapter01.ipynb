{
 "cells": [
  {
   "cell_type": "markdown",
   "metadata": {},
   "source": [
    "<img src=\"img/logo.png\" alt=\"logo\" align=\"center\">"
   ]
  },
  {
   "cell_type": "markdown",
   "metadata": {},
   "source": [
    "<br>\n",
    "<br>\n",
    "\n",
    "# **Chapter 1** &nbsp; &nbsp; <span style=\"color:#C13213\">Anatomy I:</span> &nbsp; <span style=\"color:#5D6D7E\">Body Segments, Joints and Muscles</span>\n",
    "\n",
    "<br>\n",
    "<br>"
   ]
  },
  {
   "cell_type": "markdown",
   "metadata": {},
   "source": [
    "___\n",
    "\n",
    "<a name=\"toc\"></a>\n",
    "# Table of Contents\n",
    "\n",
    "* [Body Segments](#body-segments)\n",
    "    * [Upper limb](#upper-limb)\n",
    "    * [Lower limb](#lower-limb)\n",
    "    * [Trunk](#trunk)\n",
    "* [Joints](#joints)\n",
    "* [Muscles](#muscles)\n",
    "\n"
   ]
  },
  {
   "cell_type": "markdown",
   "metadata": {},
   "source": [
    "____\n",
    "\n",
    "<a name=\"body-segments\"></a>\n",
    "# <span style=\"color:#000000\">Body Segments:</span>  <span style=\"color:#5D6D7E\">Bones, segments and groups</span>\n",
    "[Back to Table of Contents](#toc)\n",
    "<br>\n",
    "<br>\n",
    "\n",
    "The human body has [approximately 200 bones](https://en.wikipedia.org/wiki/List_of_bones_of_the_human_skeleton).  In this textbook, only approximately 10 bones will be discussed.\n",
    "\n",
    "<br>\n",
    "\n",
    "Instead of focussing on individual bones, this textbook will focus primarily on **segments**.  Nevertheless, to understand segments, it is important to know which bones belong to which segments.\n",
    "\n",
    "<br>\n",
    "<br>\n",
    "\n",
    "\n",
    "\n",
    "\n",
    "* **Bones**:\n",
    "    * A bone is a close-to-rigid structure in our body to which muscles and/or other soft tissues attach.\n",
    "    * Bones define our bodies' overall structure.\n",
    "    * Bones transmit forces.\n",
    "    * Specific anatomical terms exist for all bones.\n",
    "\n",
    "<br>\n",
    "\n",
    "* **Segments**:\n",
    "    * A segment consists of a bone and its surrounding soft tissue.\n",
    "    * A segment's soft tissue can move with respect to the segment's bone.\n",
    "    * Intra-segment soft tissue movement is usually much smaller than than inter-segment movement.\n",
    "\n",
    "\n",
    "<br>\n",
    "\n",
    "* **Groups**:\n",
    "    * A group is a collection of multiple bones or multiple segments\n",
    "\n",
    "\n",
    "\n",
    "\n",
    "<br>\n",
    "\n",
    "* In Biomechanics:\n",
    "    * Bone names, segment names and group names are all commonly used.\n",
    "    * If someone says the anatomical bone name (e.g. \"humerus\"), they are usually referring to the bone, and not to the segment.\n",
    "    * If someone uses the common English name (e.g. \"upper arm\"), they are usually referring to the segment, and not to the bone.\n",
    "\n",
    "<br>\n",
    "\n",
    "* This course will deal primarily with **segments** and **groups**, but will also occasionally use **bone names**.\n",
    "\n",
    "<br>\n",
    "<br>\n",
    "<br>\n",
    "\n",
    "\n",
    "\n"
   ]
  },
  {
   "cell_type": "markdown",
   "metadata": {},
   "source": [
    "<a name=\"upper-limb\"></a>\n",
    "## <span style=\"color:#5D6D7E\">Upper limb</span>\n",
    "\n",
    "\n",
    "<img src=\"img/bones_arm_labeled.jpg\" alt=\"bones_arm\" width=500 align=\"center\">\n",
    "\n",
    "<br>\n",
    "<br>"
   ]
  },
  {
   "cell_type": "markdown",
   "metadata": {},
   "source": [
    "| Bone name [anatomical]  | Common English name  | Type |\n",
    "| :------------- | :-------------: | -------------: |\n",
    "| Scapula       | Shoulder <span style=\"color:blue\">OR</span> Shoulder Blade | Bone <span style=\"color:blue\">&</span> Segment |\n",
    "| Humerus       | Upper Arm | Bone <span style=\"color:blue\">&</span> Segment |\n",
    "| Radius  | *(None)* | Bone |\n",
    "| Ulna | *(None)* | Bone |\n",
    "|  |  |  |\n",
    "| Radius <span style=\"color:blue\">&</span> Ulna | Lower Arm <span style=\"color:blue\">OR</span> Forearm | Segment <span style=\"color:blue\">&</span> Group |\n",
    "| Humerus <span style=\"color:blue\">&</span> Radius <span style=\"color:blue\">&</span> Ulna | Arm <span style=\"color:blue\">OR</span> Upper Limb | Group |\n",
    "| Scapula <span style=\"color:blue\">&</span> Humerus <span style=\"color:blue\">&</span> Radius <span style=\"color:blue\">&</span> Ulna <span style=\"color:blue\">&</span> (hand and wrist bones) | Upper Limb | Group |\n",
    "\n",
    "<br>\n",
    "<br>"
   ]
  },
  {
   "cell_type": "markdown",
   "metadata": {},
   "source": [
    "<a name=\"lower-limb\"></a>\n",
    "## <span style=\"color:#5D6D7E\">Lower limb</span>\n",
    "\n",
    "\n",
    "<img src=\"img/bones_leg_labeled.jpg\" alt=\"bones_leg\" width=500 align=\"center\">\n",
    "\n",
    "<br>\n",
    "<br>"
   ]
  },
  {
   "cell_type": "markdown",
   "metadata": {},
   "source": [
    "| Bone name [anatomical]  | Common English name  | Type |\n",
    "| :------------- | :-------------: | -------------: |\n",
    "| Femur       | Thigh <span style=\"color:blue\">OR</span> Upper Leg | Bone <span style=\"color:blue\">&</span> Segment |\n",
    "| Tibia       | Shin | Bone |\n",
    "| Fibula      | *(None)* | Bone |\n",
    "| Calcaneus   | Heel | Bone |\n",
    "|  |  |  |\n",
    "| Tibia <span style=\"color:blue\">&</span> Fibula | Lower Leg <span style=\"color:blue\">OR</span> Shank | Segment <span style=\"color:blue\">&</span> Group |\n",
    "| Calcaneus <span style=\"color:blue\">&</span> (other foot bones) | Foot*  | Segment <span style=\"color:blue\">&</span> Group |\n",
    "| Femur <span style=\"color:blue\">&</span> Tibia <span style=\"color:blue\">&</span> Fibula | Leg  | Group |\n",
    "| Femur <span style=\"color:blue\">&</span> Tibia <span style=\"color:blue\">&</span> Fibula <span style=\"color:blue\">&</span> Calcaneus <span style=\"color:blue\">&</span> (other foot bones) | Lower Limb  | Group |\n",
    "\n",
    "<br>\n",
    "\n",
    "*In Biomechanics, the foot is often modeled as a single rigid segment.\n",
    "\n",
    "\n",
    "\n",
    "\n",
    "\n",
    "<br>\n",
    "<br>"
   ]
  },
  {
   "cell_type": "markdown",
   "metadata": {},
   "source": [
    "<a name=\"trunk\"></a>\n",
    "## <span style=\"color:#5D6D7E\">Trunk</span>\n",
    "\n",
    "\n",
    "<img src=\"img/bones_trunk_labeled.jpg\" alt=\"bones_trunk\" width=500 align=\"center\">\n",
    "\n",
    "<br>\n",
    "<br>"
   ]
  },
  {
   "cell_type": "markdown",
   "metadata": {},
   "source": [
    "| Bone name [anatomical]  | Common English name  | Type |\n",
    "| :------------- | :-------------: | -------------: |\n",
    "| Vertebra*  | Back bone | Bone |\n",
    "| Pelvis  | Hip | Bone |\n",
    "| Sacrum | *(None)* | Bone |\n",
    "| Illium | *(None)* | Bone |\n",
    "| | |\n",
    "| Illium <span style=\"color:blue\">&</span> Sacrum | Pelvis | Segment |\n",
    "| Vertebral column | Spine <span style=\"color:blue\">OR</span> Backbone | Group |\n",
    "| Trunk <span style=\"color:blue\">OR</span> Torso | Trunk | Group <span style=\"color:blue\">&</span> Segment* |\n",
    "\n",
    "<br>\n",
    "\n",
    "*\"Vertebrae\" is the plural of \"vertebra\"  (i.e., one vertebra and two vertebrae).\n",
    "\n",
    "*In Biomechanics, the trunk is often modeled as a single rigid segment, especially when modeling movements without much vertrbral column flexion (e.g. walking).\n",
    "\n",
    "<br>\n",
    "<br>"
   ]
  },
  {
   "cell_type": "markdown",
   "metadata": {},
   "source": [
    "____\n",
    "\n",
    "<a name=\"joints\"></a>\n",
    "# <span style=\"color:#000000\">Joints:</span>  <span style=\"color:#5D6D7E\">Main inter-segment joints</span>\n",
    "[Back to Table of Contents](#toc)\n",
    "<br>\n",
    "\n",
    "A **joint** allows for relative motion between bones. Joints are anatomical structures, and are usually comprised of cartilage, ligaments, tendons and other soft tissues.\n",
    "\n",
    "The main joints considered in this textbook are the six listed in the table below.\n",
    "\n",
    "These joints are indicated in <span style=\"color:blue\">blue font</span> in the figures above.\n",
    "\n",
    "\n",
    "| Joint name  | Proximal bone | Distal bone |\n",
    "| :------------- | :------------- | -------------: |\n",
    "| Shoulder  | Scapula | Humerus |\n",
    "| Elbow  | Humerus | Radius <span style=\"color:blue\">&</span> Ulna |\n",
    "| Wrist  | Radius <span style=\"color:blue\">&</span> Ulna | (multiple wrist bones) |\n",
    "| Hip  | Sacrum | Femur |\n",
    "| Knee  | Femur | Tibia <span style=\"color:blue\">&</span> Fibula |\n",
    "| Ankle  | Tibia <span style=\"color:blue\">&</span> Fibula | Talus <span style=\"color:blue\">&</span> (other foot bones) |\n",
    "\n",
    "<br>\n",
    "<br>"
   ]
  },
  {
   "cell_type": "markdown",
   "metadata": {},
   "source": [
    "____\n",
    "\n",
    "<a name=\"muscles\"></a>\n",
    "# <span style=\"color:#000000\">Muscles:</span>  <span style=\"color:#5D6D7E\">Main muscles and muscle groups</span>\n",
    "[Back to Table of Contents](#toc)\n",
    "<br>\n",
    "\n",
    "<br>\n",
    "<br>\n",
    "\n",
    "A typical human body contains [over 600 muscles](https://en.wikipedia.org/wiki/List_of_skeletal_muscles_of_the_human_body).\n",
    "\n",
    "<br>\n",
    "\n",
    "This textbook will consider only muscle groups, and not individual muscles.\n",
    "\n",
    "<br>\n",
    "\n",
    "The six main muscle groups that will be considered in this textbook are indicated below.\n",
    "\n",
    "<br>\n",
    "<br>\n"
   ]
  },
  {
   "cell_type": "markdown",
   "metadata": {},
   "source": [
    "<img src=\"img/muscles_labeled.jpg\" alt=\"muscles\" width=500 align=\"center\">\n",
    "\n",
    "<br>\n",
    "<br>"
   ]
  },
  {
   "cell_type": "markdown",
   "metadata": {},
   "source": [
    "| Common muscle group name  | Joint(s) | Main muscles [anatomical names] |\n",
    "| :------------- | :------------- | -------------: |\n",
    "| Pectoralis  | Shoulder | Pectoralis major, etc. |\n",
    "| Biceps  | Shoulder <span style=\"color:blue\">&</span> Elbow | Biceps brachii, etc.|\n",
    "| Triceps  | Shoulder <span style=\"color:blue\">&</span> Elbow | Triceps brachii, etc. |\n",
    "| Quadriceps  | Hip <span style=\"color:blue\">&</span> Knee |  Vastus, etc. |\n",
    "| Hamstrings  | Hip <span style=\"color:blue\">&</span> Knee | Biceps femoris, etc. |\n",
    "| Calf  | Knee <span style=\"color:blue\">&</span> Ankle | Gastrocnemius, etc.  |\n",
    "\n",
    "\n",
    "<br>\n",
    "<br>"
   ]
  },
  {
   "cell_type": "markdown",
   "metadata": {},
   "source": [
    "____\n",
    "\n",
    "<a name=\"summary\"></a>\n",
    "# Summary\n",
    "[Back to Table of Contents](#toc)\n",
    "<br>\n",
    "\n",
    "\n",
    "* This chapter has described the main bones, segments, joints and muscles of the human body\n",
    "* Bones are near-rigid objects.\n",
    "* Segments consist of one or more bones and their surrounding soft tissue.\n",
    "* In Biomechanics, bones, segments, and muscles are often referred to using both common English terms and anatomical terms.\n",
    "* This main anatomical structures considered in this textbook are those described in this chapter: approximately 10 bones / segments, approximately 6 joints, and approximately 6 muscle groups."
   ]
  }
 ],
 "metadata": {
  "kernelspec": {
   "display_name": "Python 3",
   "language": "python",
   "name": "python3"
  },
  "language_info": {
   "codemirror_mode": {
    "name": "ipython",
    "version": 3
   },
   "file_extension": ".py",
   "mimetype": "text/x-python",
   "name": "python",
   "nbconvert_exporter": "python",
   "pygments_lexer": "ipython3",
   "version": "3.6.10"
  }
 },
 "nbformat": 4,
 "nbformat_minor": 4
}
