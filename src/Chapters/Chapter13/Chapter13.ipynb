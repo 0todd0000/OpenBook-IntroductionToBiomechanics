{
 "cells": [
  {
   "cell_type": "markdown",
   "metadata": {},
   "source": [
    "<img src=\"img/logo.png\" alt=\"logo\" align=\"center\">"
   ]
  },
  {
   "cell_type": "markdown",
   "metadata": {},
   "source": [
    "<br>\n",
    "<br>\n",
    "\n",
    "# **Chapter 13** &nbsp; &nbsp; <span style=\"color:#C13213\">Dynamics III:</span> &nbsp; <span style=\"color:#5D6D7E\">Muscle Forces</span>\n",
    "\n",
    "<br>\n",
    "\n",
    "This chapter describes muscle forces, how they are produced, and how they can be calcualted.\n",
    "\n",
    "<br>\n",
    "<br>"
   ]
  },
  {
   "cell_type": "markdown",
   "metadata": {},
   "source": [
    "___\n",
    "\n",
    "<a name=\"toc\"></a>\n",
    "# Table of Contents\n",
    "\n",
    "* [What are muscle forces?](#what)\n",
    "* [How do muscles produce forces?](#how)\n",
    "* [How can muscle forces be calculated?](#calc)\n",
    "* [Summary](#summary)"
   ]
  },
  {
   "cell_type": "markdown",
   "metadata": {},
   "source": [
    "____\n",
    "\n",
    "<a name=\"what\"></a>\n",
    "# <span style=\"color:#000000\">What are muscle forces?</span>\n",
    "[Back to Table of Contents](#toc)\n",
    "<br>\n",
    "<br>\n",
    "\n",
    "* [Skeletal muscles](https://en.wikipedia.org/wiki/Skeletal_muscle), are the stuctures responsible for voluntary force production\n",
    "* Without skeletal muscles, we could not voluntarily move our body segments\n",
    "* Muscle forces are *internal* to the whole body\n",
    "    * Since external forces are required to accelerate the body's COM, muscle contraction can affect whole-body COM motion **if and only if** (a) the body is in contact with an external surface **and** (b) the surface produces a reaction force against the body.\n",
    "        * For example, when sitting on a swivel chair, raise your feet off the ground and rotate your trunk in the transverse plane;  it is not possible to rotationally accelerate your whole body! When you rotate your upper body, your lower body will rotate in the opposite direction, giving your whole body zero angular acceleration.\n",
    "        * If instead you put your feet on the ground, it is easy to rotationally accelerate your whole body;  this is because the external ground reaction forces accelerate your body\n",
    "    * Muscle contraction **can not** affect COM motion when airborne (e.g. springboard diving) **unless** air resistance is relatively strong (e.g. skydiving)\n",
    "* Muscle forces can be *external* forces for specific body segments\n",
    "    * For example, the biceps muscle produces an external force on the forearm segment"
   ]
  },
  {
   "cell_type": "markdown",
   "metadata": {},
   "source": [
    "____\n",
    "\n",
    "<a name=\"how\"></a>\n",
    "# <span style=\"color:#000000\">How do muscles produce forces?</span>\n",
    "[Back to Table of Contents](#toc)\n",
    "<br>\n",
    "<br>\n",
    "\n",
    "* The most thorough explanation of muscle force production is the [sliding filament theory](https://en.wikipedia.org/wiki/Sliding_filament_theory).\n",
    "* According to the **sliding filament theory**:\n",
    "    * Myosin molecules have \"heads\" which change geometric configurations or \"contract\" (Fig.13.1) when stimulated by muscle nerves\n",
    "    * Myosin heads pull nearby actin filaments, similar to multiple hands pulling a rope\n",
    "    * This in turn pulls actin filaments' anchors (\"Z\" bands) toward each other (Fig.13.2)\n",
    "    * Actin filaments and myosin molecules form long [myofibrils](https://en.wikipedia.org/wiki/Myofibril), which are arranged in tight bundles, much like plastic straws in a tight container.\n",
    "    * In turn, many long myofibrils are arranged tightly to form muscle fibers\n",
    "    * In turn, many long muscle fibers are arranged tightly to form muscles\n",
    "    * This arrangement is similar to sequentially larger straws arranged in tight bundles\n",
    "* This contraction model means that muscles can only produce pulling forces, and not pushing forces\n",
    "* Muscles pull their attachment points closer together\n",
    "* Muscles generally perform only one action (e.g. joint flexion **or** joint extension)"
   ]
  },
  {
   "cell_type": "markdown",
   "metadata": {},
   "source": [
    "<center>\n",
    "    <img src=\"img/Actin-myosin.png\" alt=\"image\" width=\"600\"/>\n",
    "    <br>\n",
    "    <br>\n",
    "    <em><b>Figure 13.1</b>. &nbsp; Image used under a <a href=\"https://creativecommons.org/licenses/by-sa/4.0/deed.en\">Creative Commons Attribution-Share Alike 4.0 International license</a>; user: Jeff16</em>\n",
    "</center>\n",
    "<br>\n",
    "<br>\n"
   ]
  },
  {
   "cell_type": "markdown",
   "metadata": {},
   "source": [
    "<center>\n",
    "    <img src=\"img/1006_Sliding_Filament_Model_of_Muscle_Contraction.jpg\" alt=\"image\" width=\"600\"/>\n",
    "    <br>\n",
    "    <br>\n",
    "    <em><b>Figure 13.2</b>. &nbsp; Image used under a <a href=\"https://creativecommons.org/licenses/by/4.0/deed.en\">Creative Commons Attribution 4.0 International license</a>; user: CFCF</a></em>\n",
    "</center>\n",
    "<br>\n",
    "<br>\n"
   ]
  },
  {
   "cell_type": "markdown",
   "metadata": {},
   "source": [
    "<center>\n",
    "    <img src=\"img/muscle-148107_640.png\" alt=\"image\" width=\"400\"/>\n",
    "    <br>\n",
    "    <br>\n",
    "    <em><b>Figure 13.3</b>. &nbsp; <a href=\"https://pixabay.com/vectors/muscle-meat-medicine-anatomy-148107/\">Image</a> used under a Pixbay license.</a></em>\n",
    "</center>\n",
    "<br>\n",
    "<br>\n"
   ]
  },
  {
   "cell_type": "markdown",
   "metadata": {},
   "source": [
    "____\n",
    "\n",
    "<a name=\"calc\"></a>\n",
    "# <span style=\"color:#000000\">How can muscle forces be calculated?</span>\n",
    "[Back to Table of Contents](#toc)\n",
    "<br>\n",
    "<br>\n",
    "\n",
    "* Muscle force calculations are highly complex\n",
    "* For a motion capture experiment, in general one needs to make the following measurements, models and calculations:\n",
    "    * Required measurements:\n",
    "        * Marker positions\n",
    "        * External forces (especially ground reaction force and other contact forces)\n",
    "    * Required models:\n",
    "        * Segment lengths\n",
    "        * Joint motion models\n",
    "        * Body segment parameters (all inertial properties)\n",
    "        * Muscle geometry (origin and insertion points)\n",
    "        * Muscle contraction dynamics (muscles can not produce forces instanteously)\n",
    "    * Calculation procedure:\n",
    "        1. Inverse kinematics:\n",
    "            * Use models of all segments and joints\n",
    "            * Calculate the joint angles that correspond to the measured marker motion\n",
    "        2. Inverse dynamics:\n",
    "            * Use models of all body segments (inertial parameters)\n",
    "            * Calculate joint reaction forces based on the accelerations that were calculated during inverse kinematics\n",
    "        3. Muscle force calculation:\n",
    "            * Use models of muscle geometry and muscle contraction dynamics\n",
    "            * Calculate the (approximate) minimum muscle forces required to produce the joint reaction forces that were calculated during inverse dynamics\n",
    "* Each step of this process involves potential errors !"
   ]
  },
  {
   "cell_type": "markdown",
   "metadata": {},
   "source": [
    "____\n",
    "\n",
    "<a name=\"summary\"></a>\n",
    "# <span style=\"color:#000000\">Summary</span>\n",
    "[Back to Table of Contents](#toc)\n",
    "<br>\n",
    "<br>\n",
    "\n",
    "* Muscles produce forces that are internal to our bodies\n",
    "* For specific body segments, muscle forces are external forces\n",
    "* Without skeletal muscles, we could not move our bodies voluntarily\n",
    "* It is thought that muscles produce forces through the contraction of \"heads\" on myosin molecules\n",
    "* Muscles are arranged in long, progressively larger structures: myosin and actin, myofibrils, muscle fibers, and eventually whole muscles\n",
    "* Muscle forces in living humans can be estimated by conducting inverse kinematics, then inverse dynamics, then estimating how many muscles share the calculated joint reaction forces"
   ]
  }
 ],
 "metadata": {
  "kernelspec": {
   "display_name": "Python 3",
   "language": "python",
   "name": "python3"
  },
  "language_info": {
   "codemirror_mode": {
    "name": "ipython",
    "version": 3
   },
   "file_extension": ".py",
   "mimetype": "text/x-python",
   "name": "python",
   "nbconvert_exporter": "python",
   "pygments_lexer": "ipython3",
   "version": "3.6.10"
  }
 },
 "nbformat": 4,
 "nbformat_minor": 4
}
