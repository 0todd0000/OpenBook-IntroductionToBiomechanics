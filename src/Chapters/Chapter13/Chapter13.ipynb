{
 "cells": [
  {
   "cell_type": "markdown",
   "metadata": {},
   "source": [
    "<img src=\"img/logo.png\" alt=\"logo\" align=\"center\">"
   ]
  },
  {
   "cell_type": "markdown",
   "metadata": {},
   "source": [
    "<br>\n",
    "<br>\n",
    "\n",
    "# **Chapter 13** &nbsp; &nbsp; <span style=\"color:#C13213\">Dynamics III:</span> &nbsp; <span style=\"color:#5D6D7E\">Muscle Forces</span>\n",
    "\n",
    "<br>\n",
    "\n",
    "This chapter describes...\n",
    "\n",
    "<br>\n",
    "<br>"
   ]
  },
  {
   "cell_type": "markdown",
   "metadata": {},
   "source": [
    "___\n",
    "\n",
    "<a name=\"toc\"></a>\n",
    "# Table of Contents\n",
    "\n",
    "* [Heading](#heading)\n",
    "* [Summary](#summary)"
   ]
  },
  {
   "cell_type": "markdown",
   "metadata": {},
   "source": [
    "<center>\n",
    "    <img src=\"img/img.png\" alt=\"image\" width=\"200\"/>\n",
    "    <br>\n",
    "    <br>\n",
    "    <em><b>Figure 1</b>. &nbsp; Caption</a></em>\n",
    "</center>\n",
    "<br>\n",
    "<br>\n"
   ]
  },
  {
   "cell_type": "markdown",
   "metadata": {},
   "source": [
    "____\n",
    "\n",
    "<a name=\"summary\"></a>\n",
    "# <span style=\"color:#000000\">Summary</span>\n",
    "[Back to Table of Contents](#toc)\n",
    "<br>\n",
    "<br>\n",
    "\n",
    "* Point 1\n",
    "* Point 2"
   ]
  }
 ],
 "metadata": {
  "kernelspec": {
   "display_name": "Python 3",
   "language": "python",
   "name": "python3"
  },
  "language_info": {
   "codemirror_mode": {
    "name": "ipython",
    "version": 3
   },
   "file_extension": ".py",
   "mimetype": "text/x-python",
   "name": "python",
   "nbconvert_exporter": "python",
   "pygments_lexer": "ipython3",
   "version": "3.6.10"
  }
 },
 "nbformat": 4,
 "nbformat_minor": 4
}
