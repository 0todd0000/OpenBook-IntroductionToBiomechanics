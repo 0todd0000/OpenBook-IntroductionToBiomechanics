{
 "cells": [
  {
   "cell_type": "markdown",
   "metadata": {},
   "source": [
    "<img src=\"img/logo.png\" alt=\"logo\" align=\"center\">"
   ]
  },
  {
   "cell_type": "markdown",
   "metadata": {},
   "source": [
    "<br>\n",
    "<br>\n",
    "\n",
    "# **Chapter 3** &nbsp; &nbsp; <span style=\"color:#C13213\">Kinematics I:</span> &nbsp; <span style=\"color:#5D6D7E\">Linear Motion</span>\n",
    "\n",
    "<br>\n",
    "<br>"
   ]
  },
  {
   "cell_type": "markdown",
   "metadata": {},
   "source": [
    "___\n",
    "\n",
    "<a name=\"toc\"></a>\n",
    "# Table of Contents\n",
    "\n",
    "* [Kinematics (Overview)](#overview)\n",
    "* [Fundmantal Physical Units](#units)\n",
    "* [1D Kinematics](#1dkin)\n",
    "* [Special Cases](#special)\n",
    "\t* [Constant velocity](#constvel)\n",
    "\t* [Constant acceleration](#constacc)\n",
    "\t* [Sinusoidal movement](#sinusoidal)\n",
    "\t* [Starting & stopping](#startstop)\n",
    "\t* [Deformation](#deformation)\n",
    "* [Projectile Motion](#projectile)\n",
    "* [Real Data Example](#example)\n",
    "* [General Analysis Approach](#analysis)\n",
    "* [Summary](#summary)\n",
    "\n"
   ]
  },
  {
   "cell_type": "markdown",
   "metadata": {},
   "source": [
    "____\n",
    "\n",
    "<a name=\"overview\"></a>\n",
    "# <span style=\"color:#000000\">Kinematics (Overview)</span>\n",
    "[Back to Table of Contents](#toc)\n",
    "<br>\n",
    "<br>\n",
    "\n",
    "Kinematics\n",
    "\n"
   ]
  },
  {
   "cell_type": "markdown",
   "metadata": {},
   "source": [
    "____\n",
    "\n",
    "<a name=\"units\"></a>\n",
    "# <span style=\"color:#000000\">Fundamental Physical Units</span>\n",
    "[Back to Table of Contents](#toc)\n",
    "<br>\n",
    "<br>\n",
    "\n"
   ]
  },
  {
   "cell_type": "markdown",
   "metadata": {},
   "source": [
    "\n",
    "| Variable | Variable Symbol | Unit | Unit Symbol |\n",
    "|:-------------:|:-------------:|:-----:|:-----:|\n",
    "| Length | $$L$$ | meters | m |\n",
    "| Time | $$t$$ | seconds | s |\n",
    "| Mass | $$m$$ | grams | g |\n"
   ]
  },
  {
   "cell_type": "markdown",
   "metadata": {},
   "source": [
    "____\n",
    "\n",
    "<a name=\"1dkin\"></a>\n",
    "# <span style=\"color:#000000\">1D Kinematics</span>\n",
    "[Back to Table of Contents](#toc)\n",
    "<br>\n",
    "<br>\n",
    "\n",
    "\n",
    "* Position:\n",
    "\n",
    "\n",
    "\n"
   ]
  },
  {
   "cell_type": "markdown",
   "metadata": {},
   "source": [
    "\n",
    "| Term | Definition |\n",
    "|:-------------|:-------------|\n",
    "| **Position** | The location of a point in n-dimensional space |\n",
    "| **Velocity** | The rate of change of position in time |\n",
    "| **Speed** | The absolute value of velocity |\n",
    "| **Acceleration** | The rate of change of velocity in time |\n"
   ]
  },
  {
   "cell_type": "markdown",
   "metadata": {},
   "source": [
    "____\n",
    "\n",
    "<a name=\"special\"></a>\n",
    "# <span style=\"color:#000000\">Special Cases</span>\n",
    "[Back to Table of Contents](#toc)\n",
    "<br>\n",
    "<br>\n",
    "\n",
    "aaa\n",
    "\n",
    "\n",
    "\n",
    "\n"
   ]
  },
  {
   "cell_type": "markdown",
   "metadata": {},
   "source": [
    "____\n",
    "\n",
    "<a name=\"constvel\"></a>\n",
    "## <span style=\"color:#000000\">Constant velocity</span>\n",
    "[Back to Table of Contents](#toc)\n",
    "<br>\n",
    "<br>\n",
    "\n",
    "aaa\n",
    "\n",
    "\n",
    "\n",
    "\n",
    "\n"
   ]
  },
  {
   "cell_type": "markdown",
   "metadata": {},
   "source": [
    "____\n",
    "\n",
    "<a name=\"constacc\"></a>\n",
    "## <span style=\"color:#000000\">Constant acceleration</span>\n",
    "[Back to Table of Contents](#toc)\n",
    "<br>\n",
    "<br>\n",
    "\n",
    "aaa\n"
   ]
  },
  {
   "cell_type": "markdown",
   "metadata": {},
   "source": [
    "____\n",
    "\n",
    "<a name=\"sinusoidal\"></a>\n",
    "## <span style=\"color:#000000\">Sinusoidal movement</span>\n",
    "[Back to Table of Contents](#toc)\n",
    "<br>\n",
    "<br>\n",
    "\n",
    "aaa\n",
    "\n"
   ]
  },
  {
   "cell_type": "markdown",
   "metadata": {},
   "source": [
    "____\n",
    "\n",
    "<a name=\"startstop\"></a>\n",
    "## <span style=\"color:#000000\">Starting and stopping</span>\n",
    "[Back to Table of Contents](#toc)\n",
    "<br>\n",
    "<br>\n",
    "\n",
    "aaa\n",
    "\n",
    "\n"
   ]
  },
  {
   "cell_type": "markdown",
   "metadata": {},
   "source": [
    "____\n",
    "\n",
    "<a name=\"deformation\"></a>\n",
    "## <span style=\"color:#000000\">Deformation</span>\n",
    "[Back to Table of Contents](#toc)\n",
    "<br>\n",
    "<br>\n",
    "\n",
    "aaa\n",
    "\n",
    "\n",
    "\n"
   ]
  },
  {
   "cell_type": "markdown",
   "metadata": {},
   "source": [
    "____\n",
    "\n",
    "<a name=\"projectile\"></a>\n",
    "# <span style=\"color:#000000\">Projectile Motion</span>\n",
    "[Back to Table of Contents](#toc)\n",
    "<br>\n",
    "<br>\n",
    "\n",
    "aaa\n",
    "\n",
    "\n",
    "\n"
   ]
  },
  {
   "cell_type": "markdown",
   "metadata": {},
   "source": [
    "____\n",
    "\n",
    "<a name=\"example\"></a>\n",
    "# <span style=\"color:#000000\">Real Data Example</span>\n",
    "[Back to Table of Contents](#toc)\n",
    "<br>\n",
    "<br>\n",
    "\n",
    "aaa\n",
    "\n",
    "\n",
    "\n"
   ]
  },
  {
   "cell_type": "markdown",
   "metadata": {},
   "source": [
    "____\n",
    "\n",
    "<a name=\"analysis\"></a>\n",
    "# <span style=\"color:#000000\">General Analysis Approach</span>\n",
    "[Back to Table of Contents](#toc)\n",
    "<br>\n",
    "<br>\n",
    "\n",
    "aaa\n",
    "\n",
    "\n",
    "\n",
    "\n"
   ]
  },
  {
   "cell_type": "markdown",
   "metadata": {},
   "source": [
    "____\n",
    "\n",
    "<a name=\"summary\"></a>\n",
    "# Summary\n",
    "[Back to Table of Contents](#toc)\n",
    "<br>\n",
    "\n",
    "\n",
    "* a\n",
    "* \n",
    "* \n"
   ]
  }
 ],
 "metadata": {
  "kernelspec": {
   "display_name": "Python 3",
   "language": "python",
   "name": "python3"
  },
  "language_info": {
   "codemirror_mode": {
    "name": "ipython",
    "version": 3
   },
   "file_extension": ".py",
   "mimetype": "text/x-python",
   "name": "python",
   "nbconvert_exporter": "python",
   "pygments_lexer": "ipython3",
   "version": "3.6.10"
  }
 },
 "nbformat": 4,
 "nbformat_minor": 4
}
