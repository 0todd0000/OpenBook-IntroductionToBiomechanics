{
 "cells": [
  {
   "cell_type": "markdown",
   "metadata": {},
   "source": [
    "<img src=\"img/logo.png\" alt=\"logo\" align=\"center\">"
   ]
  },
  {
   "cell_type": "markdown",
   "metadata": {},
   "source": [
    "<br>\n",
    "<br>\n",
    "\n",
    "# **Chapter 6** &nbsp; &nbsp; <span style=\"color:#C13213\">Motion Capture I:</span> &nbsp; <span style=\"color:#5D6D7E\">Introduction</span>\n",
    "\n",
    "<br>\n",
    "<br>"
   ]
  },
  {
   "cell_type": "markdown",
   "metadata": {},
   "source": [
    "___\n",
    "\n",
    "<a name=\"toc\"></a>\n",
    "# Table of Contents\n",
    "\n",
    "* [What is motion capture?](#what)\n",
    "* [Why is motion capture necessary?](#why)\n",
    "* [Measurement systems](#systems)\n",
    "\t* [Optical](#optical)\n",
    "\t\t* [Reflective Markers](#reflective)\n",
    "\t\t* [Active Markers](#active)\n",
    "\t\t* [Markerless](#markerless)\n",
    "\t* [Non-optical](#non-optical)\n",
    "* [Summary](#summary)\n"
   ]
  },
  {
   "cell_type": "markdown",
   "metadata": {},
   "source": [
    "____\n",
    "\n",
    "<a name=\"what\"></a>\n",
    "# <span style=\"color:#000000\">What is motion capture?</span>\n",
    "[Back to Table of Contents](#toc)\n",
    "<br>\n",
    "<br>\n",
    "\n",
    "* [\"Motion capture\"](https://en.wikipedia.org/wiki/Motion_capture) (or \"mocap\") refers to a set of techniques for measuring kinematics, usually during human movement.\n",
    "* Motion capture is used in many fields, including:\n",
    "    * Human & animal biomechanics\n",
    "    * Clinical gait & movement analysis\n",
    "    * Computer graphics & animation\n",
    "    * Sportswear and footwear industries\n",
    "    * Biomedical Engineering, including artificial joint design\n",
    "    * etc.\n",
    "* A large variety of equipment can be used for motion capture including:\n",
    "    * Video cameras\n",
    "    * Smart devices\n",
    "    * Magnetic sensing machines\n",
    "    * X-ray machines\n",
    "    * etc.\n",
    "* The primary goal of most motion capture applications is to measure real-world kinematics.\n",
    "* Secondary goals range broadly with application. For scientific applications in human movement analysis, the secondary goals are usually:\n",
    "    * To calculate joint angles, then:\n",
    "    * To scientifically compare different measured movements"
   ]
  },
  {
   "cell_type": "markdown",
   "metadata": {},
   "source": [
    "____\n",
    "\n",
    "<a name=\"why\"></a>\n",
    "# <span style=\"color:#000000\">Why is motion capture necessary?</span>\n",
    "[Back to Table of Contents](#toc)\n",
    "<br>\n",
    "<br>\n",
    "\n",
    "There are various technical, scientific and artistic reasons why motion capture is necessary. \n",
    "\n",
    "**Technical**:\n",
    "* Complexity: whereas most joints in Mechanical Engineering are idealized, embodying relatively simple motion about one or a small number of directions, real human joints are highly complex, embodying complex motion in multiple directions  (Fig.1). It is therefore necessary to measure motion to understand real human kinematics.\n",
    "* Constraints: human joint motion is usually constrained by soft tissues including ligaments and cartillage (Fig.1). It is difficult to predict how these structures limit motion without actually measuring joint kinematics.\n",
    "\n",
    "**Scientific**:\n",
    "* Human kinematics are often used as the [dependent variable](https://en.wikipedia.org/wiki/Dependent_and_independent_variables) in scientific studies. For example: effects of surgery or rehabilitation on motion. Measuring the motion is the only way to objectively, and scientifically consider kinematic effects.\n",
    "\n",
    "\n",
    "**Artistic**:\n",
    "* Human performance often contains subtleties that are difficult to artificially reproduce\n",
    "* Real human movement can inform artists' decisions regarding how movement is portrayed in artwork\n",
    "\n",
    "<br>\n",
    "<br>"
   ]
  },
  {
   "cell_type": "markdown",
   "metadata": {},
   "source": [
    "<center>\n",
    "    <img src=\"img/fig-joints.jpg\" alt=\"fig-joints\" align=\"center\" width=500>\n",
    "    <br>\n",
    "    <em><b>Figure 1</b>. Ideal vs. human joints.  The <a href=\"https://commons.wikimedia.org/wiki/File:Revolute_Pin_Joint.png\">ideal joint image</a> and <a href=\"https://www.flickr.com/photos/17657816@N05/1972119706\">knee joint image</a> are combined into a single figure image, but are otherwise unaltered. They are both used under a <a href=\"https://creativecommons.org/licenses/by-nc-sa/2.0/?ref=ccsearch&atype=rich\">Creative Commons license</a>. Thee ideal image is attributable to <a href=\"https://commons.wikimedia.org/w/index.php?title=User:I.Elgamal&action=edit&redlink=1\">I.Elgamal</a> and the knee image is attributable to <a href=\"https://www.flickr.com/photos/17657816@N05\">EUSKALANATO</a>.</em>\n",
    "</center>\n",
    "\n"
   ]
  },
  {
   "cell_type": "markdown",
   "metadata": {},
   "source": [
    "____\n",
    "\n",
    "<a name=\"systems\"></a>\n",
    "# <span style=\"color:#000000\">Measurement systems</span>\n",
    "[Back to Table of Contents](#toc)\n",
    "<br>\n",
    "<br>\n",
    "\n",
    "* A [wide variety of systems](https://en.wikipedia.org/wiki/Motion_capture#Methods_and_systems) can be used to measure human kinematics. This course deals primarily with [reflective markers](#reflective), an optical method. Other optical and non-optical methods are summarized below.\n",
    "\n",
    "* Unlike ideal robotic joints, to which sensors can be directly affixed, it is usually considered unethical to implant sensors in human joints, unless there is an ethically justifiable reason for doing so.\n",
    "\n",
    "* Most motion capture systems therefore measure human kinematics *non-invasively*.  This means that, instead of *directly* measuring motion in an invasive manner (e.g. inserting sensors directly into human joints), motion is instead measured *indirectly* (e.g. by attaching markers to moving limbs, then calculating joint motion). Importantly, *indirect* motion measurement can be much less accurate than *direct* measurement.\n"
   ]
  },
  {
   "cell_type": "markdown",
   "metadata": {},
   "source": [
    "____\n",
    "\n",
    "<a name=\"optical\"></a>\n",
    "## <span style=\"color:#000000\">Optical</span>\n",
    "[Back to Table of Contents](#toc)\n",
    "<br>\n",
    "<br>\n",
    "\n",
    "* Optical motion capture systems use multiple cameras to measure motion, usually of small markers that are attached to various body segments.\n",
    "\n",
    "* While each camera records a 2D image, the 3D locations of all markers can be calculated if the locations and orientations of all cameras are known.\n",
    "\n",
    "* One limitation of optical methods is that surface markers can lie far away from the underlying bones (Fig.2). One must know the positions of the markers with respect to the bones in order to calculate segmental motion. If these positions are known, then bone motion can be calculated as shown in the videos below. In these videos, only the marker motion was measured. The bone motions were calculated based on those marker motions.\n",
    "\n",
    "* Another key limiation is *soft tissue artefact* (STA).  STA means that soft tissue, including muscles and skin, can move with respect to the underlying bones, and thus that soft tissue motion does not necessarily reflect true segmental motion. There are a variety of techniques for reducing STA, but STA reduction remains an important area of ongoing research.\n",
    "\n"
   ]
  },
  {
   "cell_type": "markdown",
   "metadata": {},
   "source": [
    "<center>\n",
    "    <img src=\"img/osim.jpg\" alt=\"osim\" align=\"center\" width=600>\n",
    "    <br>\n",
    "    <em><b>Figure 2</b>. &nbsp; Reflective marker positions placed on the skin or clothes can be far away from the underlying bones.</em>\n",
    "</center>\n",
    "\n",
    "\n"
   ]
  },
  {
   "cell_type": "code",
   "execution_count": 5,
   "metadata": {},
   "outputs": [
    {
     "data": {
      "text/html": [
       "\n",
       "<video width=\"600\" controls>\n",
       "  <source src=\"video/osim-arm.mp4\" type=\"video/mp4\">\n",
       "</video>\n"
      ],
      "text/plain": [
       "<IPython.core.display.HTML object>"
      ]
     },
     "execution_count": 5,
     "metadata": {},
     "output_type": "execute_result"
    }
   ],
   "source": [
    "from IPython.display import HTML\n",
    "\n",
    "HTML(\"\"\"\n",
    "<video width=\"600\" controls>\n",
    "  <source src=\"video/osim-arm.mp4\" type=\"video/mp4\">\n",
    "</video>\n",
    "\"\"\")"
   ]
  },
  {
   "cell_type": "code",
   "execution_count": 6,
   "metadata": {},
   "outputs": [
    {
     "data": {
      "text/html": [
       "\n",
       "<video width=\"600\" controls>\n",
       "  <source src=\"video/osim-gait.mp4\" type=\"video/mp4\">\n",
       "</video>\n"
      ],
      "text/plain": [
       "<IPython.core.display.HTML object>"
      ]
     },
     "execution_count": 6,
     "metadata": {},
     "output_type": "execute_result"
    }
   ],
   "source": [
    "from IPython.display import HTML\n",
    "\n",
    "HTML(\"\"\"\n",
    "<video width=\"600\" controls>\n",
    "  <source src=\"video/osim-gait.mp4\" type=\"video/mp4\">\n",
    "</video>\n",
    "\"\"\")"
   ]
  },
  {
   "cell_type": "markdown",
   "metadata": {},
   "source": [
    "____\n",
    "\n",
    "<a name=\"reflective\"></a>\n",
    "### <span style=\"color:#000000\">Reflective markers</span>\n",
    "[Back to Table of Contents](#toc)\n",
    "<br>\n",
    "<br>\n",
    "\n",
    "\n",
    "* Reflective markers are usually designed to reflect as much light as possible. \n",
    "\n",
    "* Many reflective marker systems use infrared light, which is emitted from a source close to the camera lens, that reflects off the marker surface and which the camera records. This infrared reflection makes markers very easy to separate from the background, which usually contains very little or no infrared light.\n",
    "\n",
    "* Most modern reflective motion capture systems can record marker positions within an accuracy of approximately 0.1 mm.\n",
    "\n",
    "* More cameras implies greater measurement accuracy and / or a wider measurement area.\n",
    "\n",
    "* Most Human Biomechanics laboratories and gait labs have approximately 8-20 cameras.\n",
    "\n",
    "* A typical reflective motion capture system costs approximately ¥10,000,000 to ¥20,000,000.  Individual cameras (separate from the system) cost approximately ¥800,000.\n",
    "\n",
    "\n",
    "* Two key manufacturers of reflective marker motion capture systems are [Qualisys](https://www.qualisys.com) and [Vicon](https://www.vicon.com).\n"
   ]
  },
  {
   "cell_type": "markdown",
   "metadata": {},
   "source": [
    "____\n",
    "\n",
    "<a name=\"active\"></a>\n",
    "### <span style=\"color:#000000\">Active markers</span>\n",
    "[Back to Table of Contents](#toc)\n",
    "<br>\n",
    "<br>\n",
    "\n",
    "* Active markers actively emit light or another recordable signal (e.g. sound).\n",
    "\n",
    "* Unlike reflective markers, which passively reflect light, active markers require a power source.\n",
    "\n",
    "* This power requirement can make active marker systems difficult to use in natural settings (e.g. clinical movement analysis, sports motion analysis).\n",
    "\n",
    "* A key manufacturer of active marker systems is [Optotrak](https://www.ndigital.com/msci/products/)"
   ]
  },
  {
   "cell_type": "markdown",
   "metadata": {},
   "source": [
    "____\n",
    "\n",
    "<a name=\"markerless\"></a>\n",
    "### <span style=\"color:#000000\">Markerless</span>\n",
    "[Back to Table of Contents](#toc)\n",
    "<br>\n",
    "<br>\n",
    "\n",
    "* Markerless systems do not attach markers to human body segments, and thus measure human motion even less invasively than marker systems.\n",
    "* Markerless systems usually use one or more cameras to record normal-light videos, then attempt to calculate segmental motion based on those videos.\n",
    "* Markerless systems are usually less accurate than marker systems, but substantial research has been conducted in recent years, and this has greatly improved markerless system accuracy.\n",
    "* A key example of a commercial markerless motion capture system is [Microsoft's Kinect](https://en.wikipedia.org/wiki/Kinect)\n",
    "* A key example of open-source software for markerless motion capture is [OpenPose](https://github.com/CMU-Perceptual-Computing-Lab/openpose)\n"
   ]
  },
  {
   "cell_type": "markdown",
   "metadata": {},
   "source": [
    "____\n",
    "\n",
    "<a name=\"non-optical\"></a>\n",
    "## <span style=\"color:#000000\">Non-optical</span>\n",
    "[Back to Table of Contents](#toc)\n",
    "<br>\n",
    "<br>\n",
    "\n",
    "* A variety of non-optical systems exist for measuring human kinematics.\n",
    "* The most widely used types of non-optical system are inertial sensors, or accelerometers, which measure acceleration.\n",
    "    * Most smart phones contain accelerometers, which meanse that most smarphones can be used as non-optical human motion measurement systems!\n",
    "* Other widely used types of non-optical systems are [goniometers](https://en.wikipedia.org/wiki/Goniometer), which are used to measure angular displacement.\n",
    "    * Physical goniometers are often used in laboratories to measure quasi-static (i.e., relatively unmoving) joint angles.\n",
    "    * Electric goniometers also exist, and can be used in smartphones and other devices.\n"
   ]
  },
  {
   "cell_type": "markdown",
   "metadata": {},
   "source": [
    "____\n",
    "\n",
    "<a name=\"summary\"></a>\n",
    "# <span style=\"color:#000000\">Summary</span>\n",
    "[Back to Table of Contents](#toc)\n",
    "<br>\n",
    "<br>\n",
    "\n",
    "* Motion capture systems are often used to record real-world human kinematics.\n",
    "* Many types of motion capture systems exist, including optical and non-optical systems.\n",
    "* The most common type of motion capture system in human movement science is reflective marker motion capture.\n",
    "* Reflective marker motion capture systems are often expensive, but are relatively easy to set up, and recording motion data is relatively easy and accurate.\n",
    "* Soft tissue artefact (STA) refers to the motion of soft tissues with respect to the underlying segments, and STA can be a serious limitation for many types of motion capture systems.\n"
   ]
  }
 ],
 "metadata": {
  "kernelspec": {
   "display_name": "Python 3",
   "language": "python",
   "name": "python3"
  },
  "language_info": {
   "codemirror_mode": {
    "name": "ipython",
    "version": 3
   },
   "file_extension": ".py",
   "mimetype": "text/x-python",
   "name": "python",
   "nbconvert_exporter": "python",
   "pygments_lexer": "ipython3",
   "version": "3.6.10"
  }
 },
 "nbformat": 4,
 "nbformat_minor": 4
}
