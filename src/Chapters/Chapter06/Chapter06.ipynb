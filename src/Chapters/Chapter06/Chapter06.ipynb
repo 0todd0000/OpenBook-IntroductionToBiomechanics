{
 "cells": [
  {
   "cell_type": "markdown",
   "metadata": {},
   "source": [
    "<img src=\"img/logo.png\" alt=\"logo\" align=\"center\">"
   ]
  },
  {
   "cell_type": "markdown",
   "metadata": {},
   "source": [
    "<br>\n",
    "<br>\n",
    "\n",
    "# **Chapter 6** &nbsp; &nbsp; <span style=\"color:#C13213\">Motion Capture I:</span> &nbsp; <span style=\"color:#5D6D7E\">Introduction</span>\n",
    "\n",
    "<br>\n",
    "<br>"
   ]
  },
  {
   "cell_type": "markdown",
   "metadata": {},
   "source": [
    "___\n",
    "\n",
    "<a name=\"toc\"></a>\n",
    "# Table of Contents\n",
    "\n",
    "* [What is motion capture?](#what)\n",
    "* [Why is motion capture necessary?](#why)\n",
    "* [Measurement systems](#systems)\n",
    "\t* [Optical](#optical)\n",
    "\t\t* [Reflective Markers](#reflective)\n",
    "\t\t* [Active Markers](#active)\n",
    "\t\t* [Markerless](#markerless)\n",
    "\t* [Non-optical](#non-optical)\n",
    "* [Calculating segment motion from markers](#calculate)\n",
    "* [Limitations](#limitations)\n",
    "\t* [Measurement accuracy](#accuracy)\n",
    "\t* [Soft tissue movement](#soft)\n",
    "* [Summary](#summary)\n"
   ]
  },
  {
   "cell_type": "markdown",
   "metadata": {},
   "source": [
    "____\n",
    "\n",
    "<a name=\"what\"></a>\n",
    "# <span style=\"color:#000000\">What is motion capture?</span>\n",
    "[Back to Table of Contents](#toc)\n",
    "<br>\n",
    "<br>\n",
    "\n",
    "\"Motion capture\" refers to a set of measurement techniques used to record the kinematics, usually during human movement.\n"
   ]
  },
  {
   "cell_type": "markdown",
   "metadata": {},
   "source": [
    "____\n",
    "\n",
    "<a name=\"why\"></a>\n",
    "# <span style=\"color:#000000\">Why is motion capture necessary?</span>\n",
    "[Back to Table of Contents](#toc)\n",
    "<br>\n",
    "<br>\n",
    "\n",
    "* Because non-ideal joints\n",
    "* Because we cannot measure kinematics directly\n"
   ]
  },
  {
   "cell_type": "markdown",
   "metadata": {},
   "source": [
    "____\n",
    "\n",
    "<a name=\"systems\"></a>\n",
    "# <span style=\"color:#000000\">Measurement systems</span>\n",
    "[Back to Table of Contents](#toc)\n",
    "<br>\n",
    "<br>\n",
    "\n",
    "The three main \n",
    "\n",
    "[Optotrak](https://www.ndigital.com/msci/products/)\n",
    "\n",
    "\n",
    "* aaa\n"
   ]
  },
  {
   "cell_type": "markdown",
   "metadata": {},
   "source": [
    "____\n",
    "\n",
    "<a name=\"optical\"></a>\n",
    "## <span style=\"color:#000000\">Optical</span>\n",
    "[Back to Table of Contents](#toc)\n",
    "<br>\n",
    "<br>\n",
    "\n",
    "* aaa\n"
   ]
  },
  {
   "cell_type": "markdown",
   "metadata": {},
   "source": [
    "____\n",
    "\n",
    "<a name=\"reflective\"></a>\n",
    "### <span style=\"color:#000000\">Reflective markers</span>\n",
    "[Back to Table of Contents](#toc)\n",
    "<br>\n",
    "<br>\n",
    "\n",
    "* Two key manufacturers of reflective marker motion capture systems are [Qualisys](https://www.qualisys.com) and [Vicon](https://www.vicon.com).\n"
   ]
  },
  {
   "cell_type": "markdown",
   "metadata": {},
   "source": [
    "____\n",
    "\n",
    "<a name=\"active\"></a>\n",
    "### <span style=\"color:#000000\">Active markers</span>\n",
    "[Back to Table of Contents](#toc)\n",
    "<br>\n",
    "<br>\n",
    "\n",
    "* aaa\n"
   ]
  },
  {
   "cell_type": "markdown",
   "metadata": {},
   "source": [
    "____\n",
    "\n",
    "<a name=\"markerless\"></a>\n",
    "### <span style=\"color:#000000\">Markerless</span>\n",
    "[Back to Table of Contents](#toc)\n",
    "<br>\n",
    "<br>\n",
    "\n",
    "* aaa\n"
   ]
  },
  {
   "cell_type": "markdown",
   "metadata": {},
   "source": [
    "____\n",
    "\n",
    "<a name=\"non-optical\"></a>\n",
    "## <span style=\"color:#000000\">Non-optical</span>\n",
    "[Back to Table of Contents](#toc)\n",
    "<br>\n",
    "<br>\n",
    "\n",
    "* aaa\n"
   ]
  },
  {
   "cell_type": "markdown",
   "metadata": {},
   "source": [
    "____\n",
    "\n",
    "<a name=\"calculate\"></a>\n",
    "# <span style=\"color:#000000\">Calculating segment motion from markers</span>\n",
    "[Back to Table of Contents](#toc)\n",
    "<br>\n",
    "<br>\n",
    "\n",
    "* aaa\n"
   ]
  },
  {
   "cell_type": "markdown",
   "metadata": {},
   "source": [
    "____\n",
    "\n",
    "<a name=\"limitations\"></a>\n",
    "# <span style=\"color:#000000\">Limitations</span>\n",
    "[Back to Table of Contents](#toc)\n",
    "<br>\n",
    "<br>\n",
    "\n",
    "* aaa\n"
   ]
  },
  {
   "cell_type": "markdown",
   "metadata": {},
   "source": [
    "____\n",
    "\n",
    "<a name=\"accuracy\"></a>\n",
    "## <span style=\"color:#000000\">Measurement accuracy</span>\n",
    "[Back to Table of Contents](#toc)\n",
    "<br>\n",
    "<br>\n",
    "\n",
    "* aaa\n"
   ]
  },
  {
   "cell_type": "markdown",
   "metadata": {},
   "source": [
    "____\n",
    "\n",
    "<a name=\"soft\"></a>\n",
    "## <span style=\"color:#000000\">Soft tissue motion</span>\n",
    "[Back to Table of Contents](#toc)\n",
    "<br>\n",
    "<br>\n",
    "\n",
    "* aaa\n"
   ]
  },
  {
   "cell_type": "markdown",
   "metadata": {},
   "source": [
    "____\n",
    "\n",
    "<a name=\"summary\"></a>\n",
    "# <span style=\"color:#000000\">Summary</span>\n",
    "[Back to Table of Contents](#toc)\n",
    "<br>\n",
    "<br>\n",
    "\n",
    "* aaa\n"
   ]
  }
 ],
 "metadata": {
  "kernelspec": {
   "display_name": "Python 3",
   "language": "python",
   "name": "python3"
  },
  "language_info": {
   "codemirror_mode": {
    "name": "ipython",
    "version": 3
   },
   "file_extension": ".py",
   "mimetype": "text/x-python",
   "name": "python",
   "nbconvert_exporter": "python",
   "pygments_lexer": "ipython3",
   "version": "3.7.6"
  }
 },
 "nbformat": 4,
 "nbformat_minor": 4
}
