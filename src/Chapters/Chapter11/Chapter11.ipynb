{
 "cells": [
  {
   "cell_type": "markdown",
   "metadata": {},
   "source": [
    "<img src=\"img/logo.png\" alt=\"logo\" align=\"center\">"
   ]
  },
  {
   "cell_type": "markdown",
   "metadata": {},
   "source": [
    "<br>\n",
    "<br>\n",
    "\n",
    "# **Chapter 11** &nbsp; &nbsp; <span style=\"color:#C13213\">Dynamics I:</span> &nbsp; <span style=\"color:#5D6D7E\">Mass & Inertia</span>\n",
    "\n",
    "<br>\n",
    "\n",
    "This chapter introduces dynamics, and describes how mass and inertia connect the worlds of kinematics and dynamics.\n",
    "\n",
    "<br>\n",
    "<br>"
   ]
  },
  {
   "cell_type": "markdown",
   "metadata": {},
   "source": [
    "___\n",
    "\n",
    "<a name=\"toc\"></a>\n",
    "# Table of Contents\n",
    "\n",
    "* [What is dynamics?](#dynamics)\n",
    "* [Forward and inverse dynamics](#fdid)\n",
    "* [Inertia](#inertia)\n",
    "* [Mass](#mass)\n",
    "* [Body segment parameters (BSPs)](#bsp)\n",
    "* [BSP measurement methods](#bspmethods)\n",
    "* [Summary](#summary)"
   ]
  },
  {
   "cell_type": "markdown",
   "metadata": {},
   "source": [
    "____\n",
    "\n",
    "<a name=\"dynamics\"></a>\n",
    "# <span style=\"color:#000000\">What is dynamics?</span>\n",
    "[Back to Table of Contents](#toc)\n",
    "<br>\n",
    "<br>\n",
    "\n",
    "* Dynamics is the study of forces that tend to cause motion\n",
    "* Whereas kinematics considers only motion, irrespective of the forces that cause the motion, dynamics is primarily concerned with force\n",
    "* Kinematics can be thought of as one component of dynamics, as depicted in Fig.11.1\n",
    "* In studies of human movement, the most important dynamics equation is Newton's second law of motion:\n",
    "\n",
    "<br>\n",
    "\n",
    "\\begin{align}\n",
    "\\sum F = ma\n",
    "\\end{align}\n",
    "\n",
    "<br>\n",
    "\n",
    "* Variables:\n",
    "    * $F$ : &nbsp; &nbsp; force\n",
    "    * $m$ : &nbsp; &nbsp; mass\n",
    "    * $a$ : &nbsp; &nbsp; acceleration\n",
    "    \n",
    "<br>\n",
    "\n",
    "* The sum symbol $\\sum$ is used because there can generally be more than one force acting on a body.\n",
    "\n",
    "<br>\n",
    "<br>\n",
    "<br>"
   ]
  },
  {
   "cell_type": "markdown",
   "metadata": {},
   "source": [
    "<center>\n",
    "    <img src=\"img/fig-dynamics.png\" alt=\"image\" width=\"300\"/>\n",
    "    <br>\n",
    "    <br>\n",
    "    <em><b>Figure 11.1</b>. &nbsp; Depiction of the relation between kinematics and dynamics.</a></em>\n",
    "</center>\n",
    "<br>\n",
    "<br>\n",
    "<br>\n",
    "<br>\n"
   ]
  },
  {
   "cell_type": "markdown",
   "metadata": {},
   "source": [
    "____\n",
    "\n",
    "<a name=\"fdid\"></a>\n",
    "# <span style=\"color:#000000\">Forward and inverse dynamics</span>\n",
    "[Back to Table of Contents](#toc)\n",
    "<br>\n",
    "<br>\n",
    "\n",
    "* Just as kinematics has forward and inverse problems, so too does dynamics\n",
    "* Forward dynamics refers to the calculation of **kinematics** from known or measured **forces**\n",
    "* Inverse dynamics refers to the calculation of **forces** from known or measured **kinematics**\n",
    "* In human movement studies, which is more difficult: forward or inverse dynamics?\n",
    "    * **Inverse kinematics** is much more difficult than forward kinematics (see previous chapters)\n",
    "    * **Forward dynamics** is much more difficult than inverse dynamics.\n",
    "    * Why?\n",
    "        * Because once inverse kinematics is solved, it is relatively easy to calculate forces if the [body segment parameters](#bsp) are known\n",
    "        * Human movement often involes contact with external objects like the ground, and these forces can be highly complex\n",
    "        * One reason is that contact surfaces can be irregular.\n",
    "            * For example, the ground is not always perfectly flat.\n",
    "            * Contact surfaces usually do not have precisely known friction characteristics.\n",
    "            * The angle of the contacting body segment can greatly affect forces;  for example, contacting a surface with the bony posterior portion of the heel produces much greater forces than contacting the same surface with the soft inferior portion of the heel\n",
    "        * Since it is generally very difficult to model and accurately predict contact forces, the forward dynamics problem is usually much more difficult than the inverse problem\n",
    "* For these reasons, very few software packages support scientifically accurate forward dynamics calculations\n",
    "\n",
    "<br>\n",
    "<br>\n",
    "<br>\n"
   ]
  },
  {
   "cell_type": "markdown",
   "metadata": {},
   "source": [
    "<center>\n",
    "    <img src=\"img/fig-fdid.png\" alt=\"image\" width=\"400\"/>\n",
    "    <br>\n",
    "    <br>\n",
    "    <em><b>Figure 11.2</b>. &nbsp; Depiction of the relation between forward dynamics and inverse dynamics.</a></em>\n",
    "</center>\n",
    "<br>\n",
    "<br>\n",
    "<br>\n",
    "<br>\n"
   ]
  },
  {
   "cell_type": "markdown",
   "metadata": {},
   "source": [
    "____\n",
    "\n",
    "<a name=\"inertia\"></a>\n",
    "# <span style=\"color:#000000\">Inertia</span>\n",
    "[Back to Table of Contents](#toc)\n",
    "<br>\n",
    "<br>\n",
    "\n",
    "* Inertia represents a body's resistance to changes in velocity\n",
    "* Inertia is a physical property of all bodies\n",
    "* Many different variables characterize the inertial properties of a body\n",
    "* The most common inertial property is mass (discussed below in the [mass](#mass) section)\n",
    "* Other inertial properties are discussed below in the [body segment parameters](#bsp) section\n",
    "* As seen in Newton's second law of motion $\\left( \\sum F = ma \\right)$, inertia connects the worlds of kinematics and dynamics\n",
    "    * Inertia determines how a given set of forces affects the current velocity (forward dynamics)\n",
    "    * Equivalently, inertia determines what forces generate an observed change in velocity (inverse dynamics)\n",
    "    * Therefore, instead of regarding dynamics as \"forces cause motions\", recognize that forces and accelerations change together, and that inertia represents the physical map between these two worlds\n",
    "\n",
    "Side-note:\n",
    "* The word \"inertia\" is used more generally to refer to general resistance to change, but in dynamics \"inertia\" is more specific, meaning resistance to changes in velocity"
   ]
  },
  {
   "cell_type": "markdown",
   "metadata": {},
   "source": [
    "____\n",
    "\n",
    "<a name=\"mass\"></a>\n",
    "# <span style=\"color:#000000\">Mass</span>\n",
    "[Back to Table of Contents](#toc)\n",
    "<br>\n",
    "<br>\n",
    "\n",
    "* Mass is the most common inertial parameter\n",
    "* Mass quantifies the amount of matter in a body\n",
    "* The unit of mass is kilograms (kg)\n",
    "* Mass represents a body's resistance to changes in *linear* velocity\n",
    "* Mass is a scalar quantity\n",
    "    * This implies that the direction of velocity change is irrelevant\n",
    "    * In other words, mass resists velocity changes equivalently in all directions\n",
    "* Unlike weight, which is a force, mass is independent of gravity\n",
    "    * A body's mass is the same on Earth as it is in space\n",
    "    * Weight ($W$) is mass ($m$) multiplied by gravitational acceleration ($g$): &nbsp; &nbsp; $\\left(W = mg\\right)$\n",
    "    * Notice that this definition of weight comes directly from Newton's second law of motion\n",
    "* Mass is sufficient to consider in dynamics calculations **only** when describing **point motion**\n",
    "    * Descriping **body motion** requires other inertial parameters, as discussed below.\n",
    "    * This means that simple projectile motion can be described using only mass\n",
    "    * However, describing more complex projectile motion (e.g. skydiving) requires additional inertia parameters\n"
   ]
  },
  {
   "cell_type": "markdown",
   "metadata": {},
   "source": [
    "____\n",
    "\n",
    "<a name=\"bsp\"></a>\n",
    "# <span style=\"color:#000000\">Body segment parameters</span>\n",
    "[Back to Table of Contents](#toc)\n",
    "<br>\n",
    "<br>\n",
    "\n",
    "* Body segement parameters (BSPs) are the inertial properties of individual body segments\n",
    "* Key BSPs include:\n",
    "    * Mass\n",
    "    * Center of mass (COM)\n",
    "    * Moments of inertia\n",
    "    * Principal axes of inertia\n",
    "* Center of mass (COM)...\n",
    "    * ...is the location around which a body segment's mass is evenly distributed\n",
    "    * ...is the same as the body's centroid (i.e., geometric center) only if mass is evenly distributed throughout the body\n",
    "    * ...is almost always closer to a body's proximal joint than to its distal joint\n",
    "* Moments of inertia...\n",
    "    * ...represent a body's resistance to changes in *angular* velocity\n",
    "    * ...serve the same role as mass in the angular version of Newton's second law of motion: $\\sum M = I \\alpha$\n",
    "        * $M$ : &nbsp; &nbsp; moment of force  &nbsp; &nbsp; (the angular equivalent of force)\n",
    "        * $I$ : &nbsp; &nbsp; inertia  &nbsp; &nbsp; (the angular equivalent of mass)\n",
    "        * $\\alpha$ : &nbsp; &nbsp; angular acceleration\n",
    "    * ...are not scalar quantities.\n",
    "    * ...form a [tensor](https://en.wikipedia.org/wiki/Tensor) quantity called the **inertia tensor**\n",
    "        * Unlike mass, which is a scalar quantity, and invariant to the direction of a linear velocity change, the inertia tensor can be highly direction dependent.\n",
    "        * To see why, consider Fig.11.3 below, which depicts two bodies with equal masses, but different moments of inertia.\n",
    "        \n",
    "<br>\n",
    "<br>\n",
    "<br>"
   ]
  },
  {
   "cell_type": "markdown",
   "metadata": {},
   "source": [
    "<center>\n",
    "    <img src=\"img/fig-moment_inertia.png\" alt=\"image\" width=\"500\"/>\n",
    "    <br>\n",
    "    <br>\n",
    "    <em><b>Figure 11.3</b>. &nbsp; Depiction of the difference between mass and moment of inertia. Body A and Body B have the same mass and same volume (assume that mass density is constant throughout both bodies). Since Body A is horizontally and vertically symmetrical, its moments of inertia about the X and Y axes are equivalent. In contrast, Body B's moment of inertia is much greater about the Y axis than about the X axis; in other words, it is much easier to rotate Body B about the X axis than about the Y axis.</a></em>\n",
    "</center>\n",
    "<br>\n",
    "<br>\n",
    "<br>\n",
    "<br>\n"
   ]
  },
  {
   "cell_type": "markdown",
   "metadata": {},
   "source": [
    "* Principal axes of inertia:\n",
    "    * Similar to mass, which represent the *point* about which mass is evenly distributed, the principal axes of inertia represent the *axes* about which mass is evenly distributed (see Fig.11.4).\n",
    "    * These prinipal axes of inertia move with the body (see Fig.11.4)\n",
    "    * For a perfectly symmetrical object (i.e. a circle in 2D space or a sphere in 3D space), it is impossible to uniquely determine the principal axes of inertia.\n",
    "    \n",
    "<br>\n",
    "<br>\n",
    "<br>"
   ]
  },
  {
   "cell_type": "markdown",
   "metadata": {},
   "source": [
    "<center>\n",
    "    <img src=\"img/fig-axes_inertia.png\" alt=\"image\" width=\"400\"/>\n",
    "    <br>\n",
    "    <br>\n",
    "    <em><b>Figure 11.4</b>. &nbsp; A body's principal axes of inertia move with the body.</em>\n",
    "</center>\n",
    "<br>\n",
    "<br>\n",
    "<br>\n",
    "<br>\n"
   ]
  },
  {
   "cell_type": "markdown",
   "metadata": {},
   "source": [
    "### Relevance to human movement studies\n",
    "\n",
    "* Bones and segments in the human body are geometrically irregular\n",
    "* Additionally, body segments tend to have multiple types of tissues (bone, muscle, skin, fat, etc.), so generally have non-constant density\n",
    "* Moreover, tissues within a body segment can move. For example, muscle contraction generally changes a muscle's shape, and this can affect the segment's inertial properties.  \n",
    "* This implies that the inertial properties of real body segments are highly complex\n",
    "* Errors in BSP estimates imply that dynamics calculations also have errors (both forward and inverse calculations)\n",
    "* Measurement of BSPs is therefore an important area of research\n",
    "\n",
    "<br>\n",
    "<br>\n",
    "<br>"
   ]
  },
  {
   "cell_type": "markdown",
   "metadata": {},
   "source": [
    "____\n",
    "\n",
    "<a name=\"bspmethods\"></a>\n",
    "# <span style=\"color:#000000\">BSP measurement methods</span>\n",
    "[Back to Table of Contents](#toc)\n",
    "<br>\n",
    "<br>\n",
    "\n",
    "\n",
    "* Many different methods have been used to measure BSPs\n",
    "* One of the most accurate methods for measureing BSPs is [magnetic resonance imaging](https://en.wikipedia.org/wiki/Magnetic_resonance_imaging) (MRI)\n",
    "    * MRI can be used to accurately measure the volumes of different tissues in different parts of the body\n",
    "    * Since the mass densities of these tissues are known, all BSPs can be calculated\n",
    "    * However, MRI is expensive, and it can take one hour or more to scan a full body\n",
    "* MRI is not practical for most human movement experiments, so other methods are used\n",
    "* Four key examples of other methods are:\n",
    "    * Suspension\n",
    "    * Water displacement\n",
    "    * Reaction board\n",
    "    * Geometric models\n",
    "    \n",
    "<br>\n",
    "<br>\n",
    "<br>"
   ]
  },
  {
   "cell_type": "markdown",
   "metadata": {},
   "source": [
    "### Suspension\n",
    "\n",
    "* Suspension is a method that can be used to measure the location of an object's center of mass (COM)\n",
    "* Since the COM is the point about which mass is evenly distributed, suspending an object from a point (that is not the COM) will cause its COM to rest directly beneath the suspension point\n",
    "* Drawing a vertical line across a body from its suspension point will intersect with the COM by definition (Fig.11.5)\n",
    "    * This identifies only the line along which the COM lies\n",
    "    * Repeating this process once yields a different line, and the intersection point of the two lines is the COM  (Fig.11.5)\n",
    "* To improve accuracy, this process can be repeated more than twice\n",
    "* **Advantages**:\n",
    "    * Simple\n",
    "    * Accurate\n",
    "* **Disadvantages**:\n",
    "    * It is not possible to physically separate body segements in living humans\n",
    "    * Difficult to suspend from specific points without damaging the body\n",
    "    * Suspension causes within-segment tissues (muscle, skin, fat) to move in the gravity direction, thereby changing the COM\n",
    "    \n",
    "<br>\n",
    "<br>"
   ]
  },
  {
   "cell_type": "markdown",
   "metadata": {},
   "source": [
    "<center>\n",
    "    <img src=\"img/fig-suspension.png\" alt=\"image\" width=\"600\"/>\n",
    "    <br>\n",
    "    <br>\n",
    "    <em><b>Figure 11.5</b>. &nbsp; Depiction of the suspension method. </em>\n",
    "</center>\n",
    "<br>\n",
    "<br>\n",
    "<br>\n",
    "<br>\n"
   ]
  },
  {
   "cell_type": "markdown",
   "metadata": {},
   "source": [
    "### Water displacement\n",
    "\n",
    "* Water displacement is a method that can be used to measure a body's volume\n",
    "* It works by placing an isolated body inside a volume of water, and measuring the amount of water that is displaced (Fig.11.6)\n",
    "* The volume of the displaced water is equivalent to the body's volume\n",
    "* If the average density of the segment is known, the mass can also be calculated.\n",
    "* **Advantages**:\n",
    "    * Simple\n",
    "    * Accurate\n",
    "* **Disadvantages**:\n",
    "    * Not possible to isolate body segments in living humans. \n",
    "    * Possible to obtain approximate values for distal segments in living humans.\n",
    "    * Mass estimations for human segments are only approximate (due to multiple tissues) unless tissue density is separately measured (e.g. MRI)\n",
    "    \n",
    "<br>\n",
    "<br>"
   ]
  },
  {
   "cell_type": "markdown",
   "metadata": {},
   "source": [
    "<center>\n",
    "    <img src=\"img/CNX_Chem_01_04_CylGold.jpg\" alt=\"image\" width=\"400\"/>\n",
    "    <br>\n",
    "    <br>\n",
    "    <em><b>Figure 11.6</b>. &nbsp; Depiction of the water displacement method for measuring volume. The same method can be applied to human body segments.</em>\n",
    "</center>\n",
    "<br>\n",
    "<br>\n",
    "<br>\n",
    "<br>\n"
   ]
  },
  {
   "cell_type": "markdown",
   "metadata": {},
   "source": [
    "### Reaction board\n",
    "\n",
    "* The reaction board method is a method that can be used to measure segment mass.\n",
    "* A reaction board is firm or rigid bed upon which a human stands, sits, or lies (Fig.11.7).\n",
    "* When the reaction board is placed on a [force platform](https://en.wikipedia.org/wiki/Force_platform), the force platform can be used to measure the horizontal COM position of the entire body\n",
    "* If individual segments' COM locations are known, the mass of a displaced segment can be calculated by measuring the change in the whole body's horizontal COM when the segment moves a known distance in the horizontal direction.\n",
    "* **Advantages**:\n",
    "    * Relatively simple\n",
    "* **Disadvantages**:\n",
    "    * Requires a force platform\n",
    "    * Requires known segment COM positions\n",
    "    \n",
    "<br>\n",
    "<br>"
   ]
  },
  {
   "cell_type": "markdown",
   "metadata": {},
   "source": [
    "<center>\n",
    "    <img src=\"img/reaction_board.png\" alt=\"image\" width=\"400\"/>\n",
    "    <br>\n",
    "    <br>\n",
    "    <em><b>Figure 11.7</b>. &nbsp; Depiction of the reaction board method for measuring segment mass. When the whole body mass is known, and the COM locations of individual segments are known, the mass of a displaced segment can be calculated by measuring the whole body's change in COM.<span style=\"color:blue\">Pataky et al. (2003) Clin. Biomech. 18(4), 364–368.</span> Reproduced with author permission.</em>\n",
    "</center>\n",
    "<br>\n",
    "<br>\n",
    "<br>\n",
    "<br>\n"
   ]
  },
  {
   "cell_type": "markdown",
   "metadata": {},
   "source": [
    "### Geometric models\n",
    "\n",
    "* Geometric models can be used to represent body segments, and to calculate all inertia parameters\n",
    "* A given body segment is very complex geometrically, but comparatively simple geometric shapes can be used to approximate the body segment geometry (Fig.11.8)\n",
    "* A common geometric model for limb segments is a [truncated cone](https://en.wikipedia.org/wiki/Frustum#Examples) or \"canonical frustrum\".\n",
    "* **Advantages**:\n",
    "    * Easy\n",
    "    * If average mass density is known, all inertia parameters can be calculated precisely for the geometric model\n",
    "* **Disadvantages**:\n",
    "    * May not be accurate\n",
    "    * Mass densities are generally different for different people\n",
    "    \n",
    "<br>\n",
    "<br>"
   ]
  },
  {
   "cell_type": "markdown",
   "metadata": {},
   "source": [
    "<center>\n",
    "    <img src=\"img/geom-method.png\" alt=\"image\" width=\"500\"/>\n",
    "    <br>\n",
    "    <br>\n",
    "    <em><b>Figure 11.8</b>. &nbsp; Depiction of the geometric model method. Relatively simple geometric shapes can be used to represent body segments. Then the inertial properties of the geometric shapes can be calculated precisely.</em>\n",
    "</center>\n",
    "<br>\n",
    "<br>\n",
    "<br>\n",
    "<br>\n"
   ]
  },
  {
   "cell_type": "markdown",
   "metadata": {},
   "source": [
    "____\n",
    "\n",
    "<a name=\"summary\"></a>\n",
    "# <span style=\"color:#000000\">Summary</span>\n",
    "[Back to Table of Contents](#toc)\n",
    "<br>\n",
    "<br>\n",
    "\n",
    "* Dynamics is the study of forces that tend to cause motion\n",
    "* Dynamics encompasses kinematics\n",
    "* **Forward dynamics** is the process of calculating kinematics from forces, and **inverse dynamics** is the opposite.\n",
    "* For human movement studies, **forward dynamics** is usually much more difficult than **inverse dynamics** due to complex force behaviors, especially at contacting surfaces\n",
    "* Inertia is the resistance to a change in velocity\n",
    "* Inertia links dynamics and kinematics\n",
    "* Body segment parameters (BSPs) are the inertial properties of human body segments\n",
    "* MRI is one of the most accurate methods for measuring BSPs\n",
    "* Many other methods for measuring BSPs also exist"
   ]
  }
 ],
 "metadata": {
  "kernelspec": {
   "display_name": "Python 3",
   "language": "python",
   "name": "python3"
  },
  "language_info": {
   "codemirror_mode": {
    "name": "ipython",
    "version": 3
   },
   "file_extension": ".py",
   "mimetype": "text/x-python",
   "name": "python",
   "nbconvert_exporter": "python",
   "pygments_lexer": "ipython3",
   "version": "3.6.10"
  }
 },
 "nbformat": 4,
 "nbformat_minor": 4
}
