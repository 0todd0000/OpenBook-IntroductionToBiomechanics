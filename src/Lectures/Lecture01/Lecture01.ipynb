{
 "cells": [
  {
   "cell_type": "markdown",
   "metadata": {},
   "source": [
    "<img src=\"img/course_logo.png\" alt=\"course_logo\" width=500 align=\"center\">"
   ]
  },
  {
   "cell_type": "markdown",
   "metadata": {},
   "source": [
    "# **Lecture 01** &nbsp; &nbsp; <span style=\"color:orange\">Anatomy I:</span> &nbsp; Body Segments, Joints and Muscles\n",
    "\n",
    "\n",
    "aa\n",
    "\n",
    "\n"
   ]
  },
  {
   "cell_type": "markdown",
   "metadata": {},
   "source": [
    "___\n",
    "\n",
    "<a name=\"toc\"></a>\n",
    "# Table of Contents\n",
    "\n",
    "* [Body Segments](#body-segments)\n",
    "* [Joints](#joints)\n",
    "* [Muscles](#muscles)\n"
   ]
  },
  {
   "cell_type": "markdown",
   "metadata": {},
   "source": [
    "____\n",
    "\n",
    "<a name=\"body-segments\"></a>\n",
    "# <span style=\"color:blue\">Body Segments:</span>  Main bones and bone groups\n",
    "[Back to Table of Contents](#toc)\n",
    "<br>\n",
    "\n",
    "\n",
    "## Upper limb\n",
    "\n",
    "<img src=\"img/bones_arm.jpg\" alt=\"bones_arm.jpg\" width=500 align=\"center\">\n",
    "\n",
    "\n",
    "| Bone name(s)  | Common English segment name  |\n",
    "| ------------- |:-------------:|\n",
    "| Scapula       | Shoulder <span style=\"color:blue\">OR</span> Shoulder Blade|\n",
    "| Humerus       | Upper Arm |\n",
    "| Radius & Ulna | Lower Arm |\n",
    "| Humerus & Radius & Ulna | Arm <span style=\"color:blue\">OR</span> Upper Limb |\n",
    "| Scapula & Humerus & Radius & Ulna | Upper Limb |\n",
    "\n",
    "\n",
    "\n",
    "\n"
   ]
  },
  {
   "cell_type": "markdown",
   "metadata": {},
   "source": [
    "## Lower limb\n",
    "\n",
    "aaa\n",
    "\n",
    "<img src=\"img/bones_leg.jpg\" alt=\"bones_leg.jpg\" width=500 align=\"center\">\n",
    "\n",
    "\n",
    "| Bone name(s)  | Common English segment name  |\n",
    "| ------------- |:-------------:|\n",
    "| Scapula       | Shoulder <span style=\"color:blue\">OR</span> Shoulder Blade|\n",
    "| Humerus       | Upper Arm |\n",
    "| Radius & Ulna | Lower Arm |\n",
    "| Humerus & Radius & Ulna | Arm <span style=\"color:blue\">OR</span> Upper Limb |\n",
    "| Scapula & Humerus & Radius & Ulna | Upper Limb |"
   ]
  },
  {
   "cell_type": "markdown",
   "metadata": {},
   "source": [
    "\n",
    "## Trunk\n",
    "\n",
    "aaa\n",
    "\n",
    "<img src=\"img/bones_trunk.jpg\" alt=\"bones_trunk.jpg\" width=500 align=\"center\">\n",
    "\n",
    "\n",
    "| Bone name(s)  | Common English segment name  |\n",
    "| ------------- |:-------------:|\n",
    "| Scapula       | Shoulder <span style=\"color:blue\">OR</span> Shoulder Blade|\n",
    "| Humerus       | Upper Arm |\n",
    "| Radius & Ulna | Lower Arm |\n",
    "| Humerus & Radius & Ulna | Arm <span style=\"color:blue\">OR</span> Upper Limb |\n",
    "| Scapula & Humerus & Radius & Ulna | Upper Limb |\n",
    "\n"
   ]
  },
  {
   "cell_type": "markdown",
   "metadata": {},
   "source": [
    "____\n",
    "\n",
    "<a name=\"joints\"></a>\n",
    "# <span style=\"color:blue\">Joints:</span>  Main inter-segment joints\n",
    "[Back to Table of Contents](#toc)\n",
    "<br>\n",
    "\n"
   ]
  },
  {
   "cell_type": "markdown",
   "metadata": {},
   "source": [
    "____\n",
    "\n",
    "<a name=\"muscles\"></a>\n",
    "# <span style=\"color:blue\">Muscles:</span>  Main muscles and muscle groups\n",
    "[Back to Table of Contents](#toc)\n",
    "<br>\n",
    "\n"
   ]
  }
 ],
 "metadata": {
  "kernelspec": {
   "display_name": "Python 3",
   "language": "python",
   "name": "python3"
  },
  "language_info": {
   "codemirror_mode": {
    "name": "ipython",
    "version": 3
   },
   "file_extension": ".py",
   "mimetype": "text/x-python",
   "name": "python",
   "nbconvert_exporter": "python",
   "pygments_lexer": "ipython3",
   "version": "3.6.8"
  }
 },
 "nbformat": 4,
 "nbformat_minor": 4
}
