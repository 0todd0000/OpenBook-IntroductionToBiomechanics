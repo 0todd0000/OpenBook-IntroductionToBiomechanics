{
 "cells": [
  {
   "cell_type": "markdown",
   "metadata": {},
   "source": [
    "<img src=\"img/logo_assn.png\" alt=\"logo\" align=\"center\">"
   ]
  },
  {
   "cell_type": "markdown",
   "metadata": {},
   "source": [
    "<br>\n",
    "<br>\n",
    "\n",
    "# <span style=\"color:orange\"> <b>Assn01</b></span> &nbsp; &nbsp; My First Jupyter Notebook\n",
    "\n",
    "<br>\n",
    "\n",
    "___\n",
    "### Goal:\n",
    "\n",
    "The goal of this assignment is to use Jupyter to reproduce **Assn01-goal.html**\n",
    "\n",
    "<br>\n",
    "\n",
    "___\n",
    "### Instructions:\n",
    "\n",
    "1. Download **Assn01-goal.html**\n",
    "2. Create a new Jupyter notebook.\n",
    "3. Use one Markdown cell in Jupyter to reproduce **Assn01-goal.html**.\n",
    "\n",
    "\n",
    "\n"
   ]
  },
  {
   "cell_type": "markdown",
   "metadata": {},
   "source": [
    "<br>\n",
    "\n",
    "___\n",
    "### Files to submit:\n",
    "\n",
    "<br>\n",
    "\n",
    "<table border=\"2\" cellpadding=\"5\" cellspacing=\"5\" style=\"width:500px;\" align=\"left\">\n",
    "    <tbody>\n",
    "        <tr>\n",
    "            <td><strong>File name</strong></td>\n",
    "            <td><strong>Description</strong></td>\n",
    "        </tr>\n",
    "        <tr>\n",
    "            <td><span style=\"color:orange\">Assn01.ipynb</span></td>\n",
    "            <td>Your Jupyter notebook file.</td>\n",
    "        </tr>\n",
    "        <tr>\n",
    "            <td><span style=\"color:orange\">Assn01.html</span></td>\n",
    "            <td>Your Jupyter notebook file, exported as HTML.</td>\n",
    "        </tr>\n",
    "    </tbody>\n",
    "</table>"
   ]
  },
  {
   "cell_type": "markdown",
   "metadata": {},
   "source": [
    "<br>\n",
    "<br>\n",
    "\n",
    "___\n",
    "\n",
    "### Reference material:\n",
    "\n",
    "* Instructions regarding assignment submission:\n",
    "    * ./Tutorials/**SubmittingAssignments**\n",
    "\n",
    "\n",
    "* Using Jupyter and Markdown:\n",
    "    * ./References/**Jupyter**\n",
    "    * ./References/**Markdown**"
   ]
  }
 ],
 "metadata": {
  "kernelspec": {
   "display_name": "Python 3",
   "language": "python",
   "name": "python3"
  },
  "language_info": {
   "codemirror_mode": {
    "name": "ipython",
    "version": 3
   },
   "file_extension": ".py",
   "mimetype": "text/x-python",
   "name": "python",
   "nbconvert_exporter": "python",
   "pygments_lexer": "ipython3",
   "version": "3.6.10"
  }
 },
 "nbformat": 4,
 "nbformat_minor": 4
}
