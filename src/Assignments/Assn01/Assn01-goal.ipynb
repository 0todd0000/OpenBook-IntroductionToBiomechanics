{
 "cells": [
  {
   "cell_type": "markdown",
   "metadata": {},
   "source": [
    "**Assn01**\n",
    "\n",
    "The main **segments** in the human body are:\n",
    "\n",
    "* Upper arm\n",
    "* Lower arm\n",
    "* Hand\n",
    "* Thigh\n",
    "* Shank\n",
    "* Foot\n",
    "    \n",
    "The main **joints** in the human body are:\n",
    "\n",
    "* Shoulder\n",
    "* Elbow\n",
    "* Wrist\n",
    "* Hip\n",
    "* Knee\n",
    "* Ankle\n",
    "\n",
    "\n",
    "The main **muscle groups** in the human body are:\n",
    "\n",
    "* Pectoralis\n",
    "* Biceps\n",
    "* Triceps\n",
    "* Quadriceps\n",
    "* Hamstrings\n",
    "* Calf"
   ]
  }
 ],
 "metadata": {
  "kernelspec": {
   "display_name": "Python 3",
   "language": "python",
   "name": "python3"
  },
  "language_info": {
   "codemirror_mode": {
    "name": "ipython",
    "version": 3
   },
   "file_extension": ".py",
   "mimetype": "text/x-python",
   "name": "python",
   "nbconvert_exporter": "python",
   "pygments_lexer": "ipython3",
   "version": "3.6.10"
  }
 },
 "nbformat": 4,
 "nbformat_minor": 4
}
