{
 "cells": [
  {
   "cell_type": "markdown",
   "metadata": {},
   "source": [
    "# References:  Jupyter\n",
    "\n",
    "<br>\n",
    "<br>\n",
    "\n",
    "[Jupyter](https://jupyter.org) is a framework for creating interactive HTML pages that can be run in normal web browsers like Google Chrome and Firefox.  Jupyter is used extensively throughout this open textbook, and most of this textbook's contents were created using Jupyter.\n",
    "\n",
    "This documents contains various links for learning how to use Jupyter.\n",
    "\n",
    "<br>\n",
    "<br>\n",
    "\n",
    "⚠️ These links below are just examples. There are many similar sites on the internet. The best way to get help is to search the internet for a site that makes sense to you.\n",
    "\n",
    "<br>\n",
    "<br>\n"
   ]
  },
  {
   "cell_type": "markdown",
   "metadata": {},
   "source": [
    "___\n",
    "\n",
    "### Links\n",
    "\n",
    "* Installing Jupyter [(English)](https://jupyter.readthedocs.io/en/latest/install.html)  [(日本語)](https://weblife-changinghacks.com/jupyter-notebook/)\n",
    "\n",
    "* Jupyter guide [(English)](https://www.datacamp.com/community/tutorials/tutorial-jupyter-notebook)  [(日本語)](https://ai-inter1.com/jupyter-notebook/)\n",
    "\n",
    "* Jupyter tutorial [(English)](https://www.dataquest.io/blog/jupyter-notebook-tutorial/)  [(日本語)](https://pythondatascience.plavox.info/pythonの開発環境/jupyter-notebookを使ってみよう)\n",
    "\n"
   ]
  }
 ],
 "metadata": {
  "kernelspec": {
   "display_name": "Python 3",
   "language": "python",
   "name": "python3"
  },
  "language_info": {
   "codemirror_mode": {
    "name": "ipython",
    "version": 3
   },
   "file_extension": ".py",
   "mimetype": "text/x-python",
   "name": "python",
   "nbconvert_exporter": "python",
   "pygments_lexer": "ipython3",
   "version": "3.6.8"
  }
 },
 "nbformat": 4,
 "nbformat_minor": 4
}
