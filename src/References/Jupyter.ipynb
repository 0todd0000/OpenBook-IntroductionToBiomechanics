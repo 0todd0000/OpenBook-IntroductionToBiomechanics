{
 "cells": [
  {
   "cell_type": "markdown",
   "metadata": {},
   "source": [
    "# References:  **Jupyter**\n",
    "\n",
    "<!-- <div class=\"img-with-text\">\n",
    "<a href=\"https://en.wikipedia.org/wiki/Project_Jupyter\">\n",
    "<img src=\"https://upload.wikimedia.org/wikipedia/commons/thumb/3/38/Jupyter_logo.svg/207px-Jupyter_logo.svg.png\"\n",
    "     alt=\"markdown\"\n",
    "     width=150\n",
    "     align=\"left\">\n",
    "</a>\n",
    "    <p>(Logo uses:  see [LICENSE](#license) below)</p>\n",
    "</div>\n",
    " -->\n",
    "\n",
    "<figure>\n",
    "  <a href=\"https://en.wikipedia.org/wiki/Project_Jupyter\">\n",
    "      <img src=\"https://upload.wikimedia.org/wikipedia/commons/thumb/3/38/Jupyter_logo.svg/207px-Jupyter_logo.svg.png\" alt=\"markdown\" width=150>\n",
    "  </a>\n",
    "</figure>\n",
    "\n",
    "\n",
    "([Jupyter Logo License](#license))\n"
   ]
  },
  {
   "cell_type": "markdown",
   "metadata": {},
   "source": [
    "<br>\n",
    "<br>\n",
    "\n",
    "[Jupyter](https://jupyter.org) is a software framework for interactive, in-browser programming in a variety of languages (e.g. Markdown, Python).  Jupyter can be run in most browsers including Google Chrome and Firefox.\n",
    "\n",
    "This documents contains various links for learning how to use Jupyter.\n",
    "\n",
    "<br>\n",
    "\n",
    "<div class=\"alert alert-block alert-info\">\n",
    "⚠️ The links below are just examples. There are many similar sites on the internet. The best way to get help is to <b>search the internet for a site that makes sense to you</b>.\n",
    "</div>\n",
    "\n",
    "<br>"
   ]
  },
  {
   "cell_type": "markdown",
   "metadata": {},
   "source": [
    "___\n",
    "\n",
    "### Links (English)\n",
    "\n",
    "* [Installing Jupyter Notebook](https://jupyter.readthedocs.io/en/latest/install.html)\n",
    "\n",
    "* [Jupyter Notebook Tutorial: The Definitive Guide](https://www.datacamp.com/community/tutorials/tutorial-jupyter-notebook)\n",
    "\n",
    "* [Jupyter Notebook for Beginners: A Tutorial](https://www.dataquest.io/blog/jupyter-notebook-tutorial/)  \n",
    "\n"
   ]
  },
  {
   "cell_type": "markdown",
   "metadata": {},
   "source": [
    "___\n",
    "\n",
    "### リンク (日本語)\n",
    "\n",
    "* [【初心者向け】Jupyter Notebookとは？インストール手順と使い方を紹介](https://weblife-changinghacks.com/jupyter-notebook/)\n",
    "\n",
    "* [図解！Jupyter Notebookを徹底解説！(インストール・使い方)](https://ai-inter1.com/jupyter-notebook/)\n",
    "\n",
    "* [Jupyter Notebook を使ってみよう](https://pythondatascience.plavox.info/pythonの開発環境/jupyter-notebookを使ってみよう)"
   ]
  },
  {
   "cell_type": "markdown",
   "metadata": {},
   "source": [
    "___\n",
    "\n",
    "<a name=\"license\"></a>\n",
    "## Jupyter Logo License\n",
    "\n",
    "Copyright © 2017 Project Jupyter Contributors\n",
    "\n",
    "Redistribution and use in source and binary forms, with or without modification, are permitted provided that the following conditions are met:\n",
    "\n",
    "1. Redistributions of source code must retain the above copyright notice, this list of conditions and the following disclaimer.\n",
    "2. Redistributions in binary form must reproduce the above copyright notice, this list of conditions and the following disclaimer in the documentation and/or other materials provided with the distribution.\n",
    "3. Neither the name of Project Jupyter Contributors nor the names of its contributors may be used to endorse or promote products derived from this software without specific prior written permission.\n",
    "\n",
    "THIS SOFTWARE IS PROVIDED BY PROJECT JUPYTER CONTRIBUTORS \"AS IS\" AND ANY EXPRESS OR IMPLIED WARRANTIES, INCLUDING, BUT NOT LIMITED TO, THE IMPLIED WARRANTIES OF MERCHANTABILITY AND FITNESS FOR A PARTICULAR PURPOSE ARE DISCLAIMED. IN NO EVENT SHALL PROJECT JUPYTER CONTRIBUTORS BE LIABLE FOR ANY DIRECT, INDIRECT, INCIDENTAL, SPECIAL, EXEMPLARY, OR CONSEQUENTIAL DAMAGES (INCLUDING, BUT NOT LIMITED TO, PROCUREMENT OF SUBSTITUTE GOODS OR SERVICES; LOSS OF USE, DATA, OR PROFITS; OR BUSINESS INTERRUPTION) HOWEVER CAUSED AND ON ANY THEORY OF LIABILITY, WHETHER IN CONTRACT, STRICT LIABILITY, OR TORT (INCLUDING NEGLIGENCE OR OTHERWISE) ARISING IN ANY WAY OUT OF THE USE OF THIS SOFTWARE, EVEN IF ADVISED OF THE POSSIBILITY OF SUCH DAMAGE."
   ]
  }
 ],
 "metadata": {
  "kernelspec": {
   "display_name": "Python 3",
   "language": "python",
   "name": "python3"
  },
  "language_info": {
   "codemirror_mode": {
    "name": "ipython",
    "version": 3
   },
   "file_extension": ".py",
   "mimetype": "text/x-python",
   "name": "python",
   "nbconvert_exporter": "python",
   "pygments_lexer": "ipython3",
   "version": "3.6.8"
  }
 },
 "nbformat": 4,
 "nbformat_minor": 4
}
