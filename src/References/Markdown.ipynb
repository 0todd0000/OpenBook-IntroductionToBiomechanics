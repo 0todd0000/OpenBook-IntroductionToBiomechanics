{
 "cells": [
  {
   "cell_type": "markdown",
   "metadata": {},
   "source": [
    "# References:  **Markdown**\n",
    "\n",
    "<a href=\"https://en.wikipedia.org/wiki/Markdown\">\n",
    "<img src=\"https://upload.wikimedia.org/wikipedia/commons/thumb/4/48/Markdown-mark.svg/208px-Markdown-mark.svg.png\"\n",
    "     alt=\"markdown\"\n",
    "     width=100\n",
    "     align=\"left\">\n",
    "</a>"
   ]
  },
  {
   "cell_type": "markdown",
   "metadata": {},
   "source": [
    "<br>\n",
    "<br>\n",
    "\n",
    "[Markdown](https://en.wikipedia.org/wiki/Markdown) is a programming language for easily creating formatted HTML files.\n",
    "\n",
    "This documents contains various links for learning how to use Markdown.\n",
    "\n",
    "<br>\n",
    "\n",
    "<br>\n",
    "\n",
    "<div class=\"alert alert-block alert-info\">\n",
    "⚠️ The links below are just examples. There are many similar sites on the internet. The best way to get help is to <b>search the internet for a site that makes sense to you</b>.\n",
    "</div>\n",
    "\n",
    "<br>    \n",
    "<br>"
   ]
  },
  {
   "cell_type": "markdown",
   "metadata": {},
   "source": [
    "___\n",
    "\n",
    "### Links (English)\n",
    "\n",
    "* [Markdown cheatsheet](https://github.com/adam-p/markdown-here/wiki/Markdown-Cheatsheet)\n",
    "\n",
    "* [Markdown Guide: Basic Syntax](https://www.markdownguide.org/basic-syntax/)\n",
    "\n",
    "* [Markdown in Jupyter Notebook](https://www.datacamp.com/community/tutorials/markdown-in-jupyter-notebook)\n",
    "\n"
   ]
  },
  {
   "cell_type": "markdown",
   "metadata": {},
   "source": [
    "___\n",
    "\n",
    "### リンク (日本語)\n",
    "\n",
    "* [Markdown @ ウィキペディア](https://ja.wikipedia.org/wiki/Markdown)\n",
    "\n",
    "* [Markdown記法](https://qiita.com/Blueman81/items/72ca43681d16d44e21ad)\n",
    "\n",
    "* [マークダウン記法 一覧表・チートシート](https://qiita.com/kamorits/items/6f342da395ad57468ae3)"
   ]
  }
 ],
 "metadata": {
  "kernelspec": {
   "display_name": "Python 3",
   "language": "python",
   "name": "python3"
  },
  "language_info": {
   "codemirror_mode": {
    "name": "ipython",
    "version": 3
   },
   "file_extension": ".py",
   "mimetype": "text/x-python",
   "name": "python",
   "nbconvert_exporter": "python",
   "pygments_lexer": "ipython3",
   "version": "3.6.8"
  }
 },
 "nbformat": 4,
 "nbformat_minor": 4
}
