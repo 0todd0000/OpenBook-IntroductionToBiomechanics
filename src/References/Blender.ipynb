{
 "cells": [
  {
   "cell_type": "markdown",
   "metadata": {},
   "source": [
    "# References:  **Blender**\n",
    "\n",
    "<a href=\"https://www.blender.org\">\n",
    "<img src=\"https://upload.wikimedia.org/wikipedia/commons/thumb/3/3c/Logo_Blender.svg/320px-Logo_Blender.svg.png\"\n",
    "     alt=\"markdown\"\n",
    "     width=250\n",
    "     align=\"left\">\n",
    "</a>"
   ]
  },
  {
   "cell_type": "markdown",
   "metadata": {},
   "source": [
    "<br>\n",
    "<br>\n",
    "\n",
    "[Blender](https://www.blender.org) is free-and-open-source software for 3D modeling and animation.\n",
    "\n",
    "This documents contains various links for learning how to use Blender.\n",
    "\n",
    "<br>\n",
    "\n",
    "<br>\n",
    "\n",
    "<div class=\"alert alert-block alert-info\">\n",
    "⚠️ The links below are just examples. There are many similar sites on the internet. The best way to get help is to <b>search the internet for a site that makes sense to you</b>.\n",
    "</div>\n",
    "\n",
    "<br>    \n",
    "<br>"
   ]
  },
  {
   "cell_type": "markdown",
   "metadata": {},
   "source": [
    "___\n",
    "\n",
    "### Links (English)\n",
    "\n",
    "* [Blender Reference Manual](https://docs.blender.org/manual/en/latest/)\n",
    "\n",
    "* [Blender 2.8 Fundamentals](https://www.youtube.com/playlist?list=PLa1F2ddGya_-UvuAqHAksYnB0qL9yWDO6) &nbsp; @ YouTube\n",
    "\n",
    "* [Blender 2.8 for Beginners (full course)](https://www.youtube.com/playlist?list=PLn3ukorJv4vs_eSJUQPxBRaDS8PrVmIri) &nbsp; Grant Abbitt @ YouTube\n",
    "\n",
    "* [Blender 2.8 Beginner 3D Modeling Tutorial](https://www.youtube.com/watch?v=elUJCEC06r8) &nbsp; tutor4u @ YouTube\n",
    "\n",
    "* [Blender Beginner Tutorial Series](https://www.blenderguru.com/tutorials/blender-beginner-tutorial-series) &nbsp; @ BlenderGuru\n",
    "\n"
   ]
  },
  {
   "cell_type": "markdown",
   "metadata": {},
   "source": [
    "___\n",
    "\n",
    "### リンク (日本語)\n",
    "\n",
    "* [悪魔のBlender2.8入門](https://www.youtube.com/watch?v=0tVRI5FPWsg&list=PLHibPT6BqQBj4TIMB4O61Y5XOUTQHwsbM) &nbsp; &nbsp; Yonaoshi3D @ YouTube\n",
    "\n",
    "* [Blenderの日本語化](https://czpanel.com/lecture/blender/basic/into-jp/) &nbsp; &nbsp; @ czpanel.com\n",
    "\n",
    "* [Blender 2.8 入門](https://czpanel.com/lecture/blender/basic/) &nbsp; &nbsp; @ czpanel.com\n",
    "\n",
    "* [Blender 2.8 入門（基本の操作）](https://haru1960.com/blender-3/) &nbsp; &nbsp; @ haru1960.com\n",
    "\n",
    "* [【Blender2.8入門】ダウンロード方法/基本操作/モデリング初心者](https://styly.cc/ja/tips/blender2-8-modeling-start1/) &nbsp; &nbsp; @ styly.cc/ja\n",
    "\n",
    "* [【Blender 2.8】初心者講座02(モデリングしてみようの回)](https://www.youtube.com/watch?v=CpeHDDuPxI4) &nbsp; &nbsp; Ryuma Channel @ YouTube"
   ]
  }
 ],
 "metadata": {
  "kernelspec": {
   "display_name": "Python 3",
   "language": "python",
   "name": "python3"
  },
  "language_info": {
   "codemirror_mode": {
    "name": "ipython",
    "version": 3
   },
   "file_extension": ".py",
   "mimetype": "text/x-python",
   "name": "python",
   "nbconvert_exporter": "python",
   "pygments_lexer": "ipython3",
   "version": "3.6.8"
  }
 },
 "nbformat": 4,
 "nbformat_minor": 4
}
