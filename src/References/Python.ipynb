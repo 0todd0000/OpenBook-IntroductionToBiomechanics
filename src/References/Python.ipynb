{
 "cells": [
  {
   "cell_type": "markdown",
   "metadata": {},
   "source": [
    "# References:  **Python**\n",
    "\n",
    "<a href=\"https://en.wikipedia.org/wiki/Python_(programming_language)\">\n",
    "<img src=\"https://upload.wikimedia.org/wikipedia/commons/thumb/f/f8/Python_logo_and_wordmark.svg/320px-Python_logo_and_wordmark.svg.png\"\n",
    "     alt=\"markdown\"\n",
    "     width=320\n",
    "     align=\"left\">\n",
    "</a>\n",
    "\n",
    "\n"
   ]
  },
  {
   "cell_type": "markdown",
   "metadata": {},
   "source": [
    "\n",
    "\n",
    "<br>\n",
    "<br>\n",
    "\n",
    "[Python](https://python.org) is a high-level object-oriented programming language that is very popular for both scientific data analysis and general programming.\n",
    "\n",
    "This documents contains various links for learning how to use Python.\n",
    "\n",
    "<br>\n",
    "\n",
    "<div class=\"alert alert-block alert-info\">\n",
    "⚠️ The links below are just examples. There are many similar sites on the internet. The best way to get help is to <b>search the internet for a site that makes sense to you</b>.\n",
    "</div>\n",
    "\n",
    "<br>"
   ]
  },
  {
   "cell_type": "markdown",
   "metadata": {},
   "source": [
    "___\n",
    "\n",
    "### Links (English)\n",
    "\n",
    "* [Official Python Tutorial](https://docs.python.org/3/tutorial/) @ docs.python.org\n",
    "\n",
    "* [Python Tutorial](https://www.w3schools.com/Python/default.asp) @ w3schools.com\n",
    "\n",
    "* [Python Tutorial](https://www.tutorialspoint.com/python/index.htm) @ tutorialspoint.com\n",
    "\n",
    "* [Running Python code in Jupyter](https://jupyter-notebook.readthedocs.io/en/stable/examples/Notebook/Running%20Code.html)"
   ]
  },
  {
   "cell_type": "markdown",
   "metadata": {},
   "source": [
    "___\n",
    "\n",
    "### リンク (日本語)\n",
    "\n",
    "* [Pythonの始め方⑤ jupyter notebookでpythonを動かす](https://non-dimension.com/jupyternotebook/)\n",
    "\n",
    "* [Jupyter Notebookの使い方を覚えればPythonを使いこなせるのか？](https://attracter.tokyo/tech/python3/)\n",
    "\n",
    "* [Pythonの気楽な入門編](https://qiita.com/Tocyuki/items/fe6510fa70818144b129)\n",
    "\n",
    "* [Python チュートリアル](https://docs.python.org/ja/3/tutorial/) @ docs.python.org/ja\n",
    "\n",
    "* [Python 入門](https://tutorials.chainer.org/ja/02_Basics_of_Python.html)"
   ]
  }
 ],
 "metadata": {
  "kernelspec": {
   "display_name": "Python 3",
   "language": "python",
   "name": "python3"
  },
  "language_info": {
   "codemirror_mode": {
    "name": "ipython",
    "version": 3
   },
   "file_extension": ".py",
   "mimetype": "text/x-python",
   "name": "python",
   "nbconvert_exporter": "python",
   "pygments_lexer": "ipython3",
   "version": "3.6.8"
  }
 },
 "nbformat": 4,
 "nbformat_minor": 4
}
