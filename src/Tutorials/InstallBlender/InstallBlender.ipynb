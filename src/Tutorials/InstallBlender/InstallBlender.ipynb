{
 "cells": [
  {
   "cell_type": "markdown",
   "metadata": {},
   "source": [
    "# Tutorial:  Installing Blender (Windows 10)\n",
    "\n",
    "[Blender](https://blender.org) is free-and-open-source 3D modeling and animation software. Blender will be used in some lectures and some assignments for visualizing 3D structures and motions.\n",
    "\n",
    "Below are step-by-step instructions for installing Blender.\n"
   ]
  },
  {
   "cell_type": "markdown",
   "metadata": {},
   "source": [
    "___\n",
    "\n",
    "<a name=\"toc\"></a>\n",
    "# Table of Contents\n",
    "\n",
    "* [Step 1: &nbsp; Install Blender](#install)\n",
    "* [Step 2: &nbsp; Check Blender installation](#check)"
   ]
  },
  {
   "cell_type": "markdown",
   "metadata": {},
   "source": [
    "____\n",
    "\n",
    "<a name=\"install\"></a>\n",
    "# Step 1:  &nbsp; Install Blender\n",
    "[Back to Table of Contents](#toc)\n",
    "<br>\n",
    "<br>\n",
    "\n",
    "\n",
    "1.  Go to [blender.org](https://www.blender.org) , and select **Download Blender**\n",
    "\n",
    "<br>\n",
    "<br>\n",
    "\n",
    "<img src=\"img/ss1-1.png\" alt=\"screenshot\" width=800/>\n",
    "\n",
    "<br>\n",
    "<br>\n",
    "\n",
    "2.  Select the Windows installer.\n",
    "\n",
    "\n",
    "<br>\n",
    "<br>\n",
    "\n",
    "<img src=\"img/ss1-2.png\" alt=\"screenshot1\" width=800/>\n",
    "\n",
    "<br>\n",
    "<br>\n",
    "\n",
    "\n",
    "\n",
    "3.  Open the installer and install the software.\n",
    "\n",
    "\n",
    "<br>\n",
    "<br>\n",
    "\n",
    "<img src=\"img/ss1-3.png\" alt=\"screenshot1\" width=800/>\n",
    "\n",
    "<br>\n",
    "<br>\n",
    "\n"
   ]
  },
  {
   "cell_type": "markdown",
   "metadata": {},
   "source": [
    "____\n",
    "\n",
    "<a name=\"check\"></a>\n",
    "# Step 2:  &nbsp; Check installation\n",
    "[Back to Table of Contents](#toc)\n",
    "\n",
    "<br>\n",
    "<br>\n",
    "\n",
    "\n",
    "1. Enter `blender` in the Windows search bar, then select the **Blender** app.\n",
    "\n",
    "<br>\n",
    "<br>\n",
    "\n",
    "<img src=\"img/ss2-1.png\" alt=\"screenshot\" width=800/>\n",
    "\n",
    "<br>\n",
    "<br>\n",
    "\n",
    "\n",
    "\n",
    "2. After Blender launches, click anywhere on the quick setup logo to close it.\n",
    "\n",
    "<br>\n",
    "<br>\n",
    "\n",
    "<img src=\"img/ss2-2.png\" alt=\"screenshot\" width=800/>\n",
    "\n",
    "<br>\n",
    "<br>\n",
    "\n",
    "\n",
    "\n",
    "3. Verify that you see a 3D layout like in the screenshot below.\n",
    "\n",
    "<br>\n",
    "<br>\n",
    "\n",
    "<img src=\"img/ss2-3.png\" alt=\"screenshot\" width=800/>\n",
    "\n",
    "<br>\n",
    "<br>\n"
   ]
  },
  {
   "cell_type": "markdown",
   "metadata": {},
   "source": [
    "___\n",
    "\n",
    "### Congratulations!\n",
    "\n",
    "Blender is now installed and ready to go."
   ]
  }
 ],
 "metadata": {
  "kernelspec": {
   "display_name": "Python 3",
   "language": "python",
   "name": "python3"
  },
  "language_info": {
   "codemirror_mode": {
    "name": "ipython",
    "version": 3
   },
   "file_extension": ".py",
   "mimetype": "text/x-python",
   "name": "python",
   "nbconvert_exporter": "python",
   "pygments_lexer": "ipython3",
   "version": "3.6.8"
  }
 },
 "nbformat": 4,
 "nbformat_minor": 4
}
